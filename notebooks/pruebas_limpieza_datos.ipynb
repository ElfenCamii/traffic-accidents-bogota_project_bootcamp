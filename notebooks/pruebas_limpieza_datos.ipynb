{
 "cells": [
  {
   "cell_type": "code",
   "execution_count": null,
   "id": "36623f7e",
   "metadata": {},
   "outputs": [],
   "source": [
    "import pandas as pd\n",
    "\n",
    "pd_siniestros = pd.read_excel('../data/raw/base_anuario_de_siniestralidad_2024_Final.xlsx')\n",
    "excel_path = '../data/raw/base_anuario_de_siniestralidad_2024_Final.xlsx'"
   ]
  },
  {
   "cell_type": "code",
   "execution_count": null,
   "id": "2e1b05ef",
   "metadata": {},
   "outputs": [
    {
     "name": "stdout",
     "output_type": "stream",
     "text": [
      "Hojas disponibles en el archivo:\n",
      "   1. Siniestros\n",
      "   2. Vehiculos\n",
      "   3. Actor_vial\n",
      "   4. Limpieza de datos\n",
      "   5. Diccionario\n"
     ]
    }
   ],
   "source": [
    "###\n",
    "# 1. Ver todas las hojas\n",
    "###\n",
    "print(\"Hojas disponibles en el archivo:\")\n",
    "hojas = pd.ExcelFile(excel_path).sheet_names\n",
    "for i, hoja in enumerate(hojas):\n",
    "    print(f\"   {i+1}. {hoja}\")"
   ]
  },
  {
   "cell_type": "code",
   "execution_count": null,
   "id": "a7fc8b63",
   "metadata": {},
   "outputs": [
    {
     "name": "stdout",
     "output_type": "stream",
     "text": [
      "\n",
      "🎯 Hojas a analizar: ['Siniestros', 'Vehiculos', 'Actor_vial', 'Limpieza de datos', 'Diccionario']\n"
     ]
    }
   ],
   "source": [
    "###\n",
    "# 2. Filtrar hojas que no quieres (apuntes, tareas)\n",
    "###\n",
    "hojas_interes = []\n",
    "for hoja in hojas:\n",
    "    if 'Siniestros' not in hoja.lower() or 'Limpieza de datos' not in hoja.lower() or 'Diccionario' not in hoja.lower():\n",
    "        hojas_interes.append(hoja)\n",
    "\n",
    "print(f\"\\n🎯 Hojas a analizar: {hojas_interes}\")"
   ]
  }
 ],
 "metadata": {
  "kernelspec": {
   "display_name": "Python 3",
   "language": "python",
   "name": "python3"
  },
  "language_info": {
   "codemirror_mode": {
    "name": "ipython",
    "version": 3
   },
   "file_extension": ".py",
   "mimetype": "text/x-python",
   "name": "python",
   "nbconvert_exporter": "python",
   "pygments_lexer": "ipython3",
   "version": "3.13.7"
  }
 },
 "nbformat": 4,
 "nbformat_minor": 5
}
