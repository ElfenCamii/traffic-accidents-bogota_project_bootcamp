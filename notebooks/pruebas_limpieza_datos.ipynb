{
 "cells": [
  {
   "cell_type": "code",
   "execution_count": null,
   "id": "36623f7e",
   "metadata": {},
   "outputs": [],
   "source": [
    "import pandas as pd\n",
    "\n",
    "pd_siniestros = pd.read_excel('../data/raw/base_anuario_de_siniestralidad_2024_Final.xlsx')\n",
    "excel_path = '../data/raw/base_anuario_de_siniestralidad_2024_Final.xlsx'"
   ]
  },
  {
   "cell_type": "code",
   "execution_count": 3,
   "id": "2e1b05ef",
   "metadata": {},
   "outputs": [
    {
     "name": "stdout",
     "output_type": "stream",
     "text": [
      "Hojas disponibles en el archivo:\n",
      "   1. Siniestros\n",
      "   2. Vehiculos\n",
      "   3. Actor_vial\n",
      "   4. Limpieza de datos\n",
      "   5. Diccionario\n"
     ]
    }
   ],
   "source": [
    "###\n",
    "# 1. Ver todas las hojas\n",
    "###\n",
    "print('Hojas disponibles en el archivo:')\n",
    "hojas = pd.ExcelFile(excel_path).sheet_names\n",
    "for i, hoja in enumerate(hojas):\n",
    "    print(f\"   {i+1}. {hoja}\")"
   ]
  },
  {
   "cell_type": "code",
   "execution_count": 5,
   "id": "a7fc8b63",
   "metadata": {},
   "outputs": [
    {
     "name": "stdout",
     "output_type": "stream",
     "text": [
      "\n",
      "Hojas a analizar: ['Vehiculos', 'Actor_vial']\n"
     ]
    }
   ],
   "source": [
    "###\n",
    "# 2. Filtrar hojas que no quieres (apuntes, tareas)\n",
    "###\n",
    "hojas_interes = []\n",
    "for hoja in hojas:\n",
    "    if 'siniestros' in hoja.lower() or 'limpieza' in hoja.lower() or 'diccionario' in hoja.lower():\n",
    "        continue\n",
    "    else:\n",
    "        hojas_interes.append(hoja)\n",
    "\n",
    "print(f'\\nHojas a analizar: {hojas_interes}')"
   ]
  },
  {
   "cell_type": "code",
   "execution_count": null,
   "id": "bbae9740",
   "metadata": {},
   "outputs": [],
   "source": [
    "###\n",
    "# 3. Ver todas las columnas de cada hoja de interes (función)\n",
    "###\n",
    "def analizar_hoja_detallada(hoja_nombre):\n",
    "    '''Función para análisis detallado de cada hoja'''\n",
    "    separador = '=' * 60\n",
    "    print(f'\\n{separador}')\n",
    "    print(f'Analisis detallado - hoja: {hoja_nombre}')\n",
    "    print(f'{separador}')\n",
    "    \n",
    "    # Cargar la hoja\n",
    "    df_sinistros_clean = pd.read_excel(excel_path, sheet_name=hoja_nombre)\n",
    "    \n",
    "    # Información básica\n",
    "    print(f'Dimensiones: {df_sinistros_clean.shape[0]} filas × {df_sinistros_clean.shape[1]} columnas')\n",
    "    \n",
    "    # Columnas\n",
    "    print(f'\\nLista de Columnas ({len(df_sinistros_clean.columns)} total):')\n",
    "    for i, columna in enumerate(df_sinistros_clean.columns, 1):\n",
    "        print(f'   {i:2d}. {columna}')\n",
    "    \n",
    "    # Tipos de datos\n",
    "    print(f'\\nTipo de dátos:')\n",
    "    print(df_sinistros_clean.dtypes)\n",
    "    \n",
    "    # Valores nulos\n",
    "    print(f'\\nValores nulos (primeras 10 columnas):')\n",
    "    nulos = df_sinistros_clean.isnull().sum()\n",
    "    print(nulos)\n",
    "    \n",
    "    return df_sinistros_clean\n",
    "\n"
   ]
  },
  {
   "cell_type": "code",
   "execution_count": null,
   "id": "42dd1227",
   "metadata": {},
   "outputs": [
    {
     "name": "stdout",
     "output_type": "stream",
     "text": [
      "\n",
      "============================================================\n",
      "Analisis detallado - hoja: Vehiculos\n",
      "============================================================\n",
      "Dimensiones: 523168 filas × 32 columnas\n",
      "\n",
      "Lista de Columnas (32 total):\n",
      "    1. Codigo_Accidente\n",
      "    2. Formulario\n",
      "    3. Fecha_Acc\n",
      "    4. AA_Acc\n",
      "    5. Codigo_Vehiculo\n",
      "    6. Clase\n",
      "    7. Servicio\n",
      "    8. Modalidad\n",
      "    9. Vehiculo_Viajaba_Clasificado\n",
      "   10. Tipo_SITP\n",
      "   11. Con_Bicicleta\n",
      "   12. Con_Carga\n",
      "   13. Con_Embriaguez\n",
      "   14. Con_Huecos\n",
      "   15. Con_Menores\n",
      "   16. Con_Moto\n",
      "   17. Con_Peaton\n",
      "   18. Con_Persona_Mayor\n",
      "   19. Con_Rutas\n",
      "   20. Con_Tpi\n",
      "   21. Con_Tpp\n",
      "   22. Con_Velocidad\n",
      "   23. Con_Sitp\n",
      "   24. Con_Troncal\n",
      "   25. Con_Alimentador\n",
      "   26. Con_Zonal\n",
      "   27. Con_Provisional\n",
      "   28. Con_Articulado\n",
      "   29. Con_Biarticulado\n",
      "   30. Con_Padron_Dual\n",
      "   31. Con_Servicio_Especial\n",
      "   32. Con_Taxi\n",
      "\n",
      "Tipo de dátos:\n",
      "Codigo_Accidente                         int64\n",
      "Formulario                              object\n",
      "Fecha_Acc                       datetime64[ns]\n",
      "AA_Acc                                   int64\n",
      "Codigo_Vehiculo                        float64\n",
      "Clase                                   object\n",
      "Servicio                                object\n",
      "Modalidad                               object\n",
      "Vehiculo_Viajaba_Clasificado            object\n",
      "Tipo_SITP                               object\n",
      "Con_Bicicleta                           object\n",
      "Con_Carga                               object\n",
      "Con_Embriaguez                          object\n",
      "Con_Huecos                              object\n",
      "Con_Menores                             object\n",
      "Con_Moto                                object\n",
      "Con_Peaton                              object\n",
      "Con_Persona_Mayor                       object\n",
      "Con_Rutas                               object\n",
      "Con_Tpi                                 object\n",
      "Con_Tpp                                 object\n",
      "Con_Velocidad                           object\n",
      "Con_Sitp                                object\n",
      "Con_Troncal                             object\n",
      "Con_Alimentador                         object\n",
      "Con_Zonal                               object\n",
      "Con_Provisional                         object\n",
      "Con_Articulado                          object\n",
      "Con_Biarticulado                        object\n",
      "Con_Padron_Dual                         object\n",
      "Con_Servicio_Especial                   object\n",
      "Con_Taxi                                object\n",
      "dtype: object\n",
      "\n",
      "Valores nulos (primeras 10 columnas):\n",
      "Codigo_Accidente                     0\n",
      "Formulario                           0\n",
      "Fecha_Acc                            0\n",
      "AA_Acc                               0\n",
      "Codigo_Vehiculo                      3\n",
      "Clase                             4023\n",
      "Servicio                             0\n",
      "Modalidad                       421229\n",
      "Vehiculo_Viajaba_Clasificado         0\n",
      "Tipo_SITP                       475607\n",
      "Con_Bicicleta                   479770\n",
      "Con_Carga                       447986\n",
      "Con_Embriaguez                  511971\n",
      "Con_Huecos                      519729\n",
      "Con_Menores                     499741\n",
      "Con_Moto                        365445\n",
      "Con_Peaton                      487801\n",
      "Con_Persona_Mayor               441987\n",
      "Con_Rutas                       522988\n",
      "Con_Tpi                         414660\n",
      "Con_Tpp                         398929\n",
      "Con_Velocidad                   518994\n",
      "Con_Sitp                        438368\n",
      "Con_Troncal                     516598\n",
      "Con_Alimentador                 515774\n",
      "Con_Zonal                       456911\n",
      "Con_Provisional                 516648\n",
      "Con_Articulado                  520264\n",
      "Con_Biarticulado                521414\n",
      "Con_Padron_Dual                 521141\n",
      "Con_Servicio_Especial           501139\n",
      "Con_Taxi                        416228\n",
      "dtype: int64\n",
      "\n",
      "============================================================\n",
      "Analisis detallado - hoja: Actor_vial\n",
      "============================================================\n",
      "Dimensiones: 608155 filas × 45 columnas\n",
      "\n",
      "Lista de Columnas (45 total):\n",
      "    1. Codigo_Accidentado\n",
      "    2. Codigo_Accidente\n",
      "    3. Formulario\n",
      "    4. Codigo_Vehiculo\n",
      "    5. Ccodigo_Victima\n",
      "    6. FechaAcc\n",
      "    7. AnnoAcc\n",
      "    8. mesAcc\n",
      "    9. DD_Mes_Acc\n",
      "   10. Dia_Semana_Acc\n",
      "   11. hourAcc\n",
      "   12. minuAcc\n",
      "   13. Localidad\n",
      "   14. Edad\n",
      "   15. Sexo\n",
      "   16. Gravedad_Indicador_Tradicional\n",
      "   17. Muerte_Posterior\n",
      "   18. Fecha_CambioGravedad\n",
      "   19. Gravedad_Indicador_30d\n",
      "   20. Condicion\n",
      "   21. Condicion_Especifica\n",
      "   22. Validación\n",
      "   23. Tipo_SITP\n",
      "   24. Con_Bicicleta\n",
      "   25. Con_Carga\n",
      "   26. Con_Embriaguez\n",
      "   27. Con_Huecos\n",
      "   28. Con_Menores\n",
      "   29. Con_Moto\n",
      "   30. Con_Peaton\n",
      "   31. Con_Persona_Mayor\n",
      "   32. Con_Rutas\n",
      "   33. Con_Tpi\n",
      "   34. Con_Tpp\n",
      "   35. Con_Velocidad\n",
      "   36. Con_Sitp\n",
      "   37. Con_Troncal\n",
      "   38. Con_Alimentador\n",
      "   39. Con_Zonal\n",
      "   40. Con_Provisional\n",
      "   41. Con_Articulado\n",
      "   42. Con_Biarticulado\n",
      "   43. Con_Padron_Dual\n",
      "   44. Con_Servicio_Especial\n",
      "   45. Con_Taxi\n",
      "\n",
      "Tipo de dátos:\n",
      "Codigo_Accidentado                         int64\n",
      "Codigo_Accidente                           int64\n",
      "Formulario                                object\n",
      "Codigo_Vehiculo                          float64\n",
      "Ccodigo_Victima                            int64\n",
      "FechaAcc                          datetime64[ns]\n",
      "AnnoAcc                                    int64\n",
      "mesAcc                                    object\n",
      "DD_Mes_Acc                                 int64\n",
      "Dia_Semana_Acc                            object\n",
      "hourAcc                                    int64\n",
      "minuAcc                                    int64\n",
      "Localidad                                 object\n",
      "Edad                                     float64\n",
      "Sexo                                      object\n",
      "Gravedad_Indicador_Tradicional            object\n",
      "Muerte_Posterior                          object\n",
      "Fecha_CambioGravedad              datetime64[ns]\n",
      "Gravedad_Indicador_30d                    object\n",
      "Condicion                                 object\n",
      "Condicion_Especifica                      object\n",
      "Validación                                object\n",
      "Tipo_SITP                                 object\n",
      "Con_Bicicleta                             object\n",
      "Con_Carga                                 object\n",
      "Con_Embriaguez                            object\n",
      "Con_Huecos                                object\n",
      "Con_Menores                               object\n",
      "Con_Moto                                  object\n",
      "Con_Peaton                                object\n",
      "Con_Persona_Mayor                         object\n",
      "Con_Rutas                                 object\n",
      "Con_Tpi                                   object\n",
      "Con_Tpp                                   object\n",
      "Con_Velocidad                             object\n",
      "Con_Sitp                                  object\n",
      "Con_Troncal                               object\n",
      "Con_Alimentador                           object\n",
      "Con_Zonal                                 object\n",
      "Con_Provisional                           object\n",
      "Con_Articulado                            object\n",
      "Con_Biarticulado                          object\n",
      "Con_Padron_Dual                           object\n",
      "Con_Servicio_Especial                     object\n",
      "Con_Taxi                                  object\n",
      "dtype: object\n",
      "\n",
      "Valores nulos (primeras 10 columnas):\n",
      "Codigo_Accidentado                     0\n",
      "Codigo_Accidente                       0\n",
      "Formulario                             0\n",
      "Codigo_Vehiculo                    12686\n",
      "Ccodigo_Victima                        0\n",
      "FechaAcc                               0\n",
      "AnnoAcc                                0\n",
      "mesAcc                                 0\n",
      "DD_Mes_Acc                             0\n",
      "Dia_Semana_Acc                         0\n",
      "hourAcc                                0\n",
      "minuAcc                                0\n",
      "Localidad                              0\n",
      "Edad                               13337\n",
      "Sexo                                5459\n",
      "Gravedad_Indicador_Tradicional      4435\n",
      "Muerte_Posterior                  325817\n",
      "Fecha_CambioGravedad              606235\n",
      "Gravedad_Indicador_30d              4435\n",
      "Condicion                              0\n",
      "Condicion_Especifica                   0\n",
      "Validación                             0\n",
      "Tipo_SITP                         547619\n",
      "Con_Bicicleta                     560904\n",
      "Con_Carga                         528859\n",
      "Con_Embriaguez                    595430\n",
      "Con_Huecos                        603891\n",
      "Con_Menores                       565238\n",
      "Con_Moto                          415304\n",
      "Con_Peaton                        534390\n",
      "Con_Persona_Mayor                 503754\n",
      "Con_Rutas                         607528\n",
      "Con_Tpi                           487616\n",
      "Con_Tpp                           459196\n",
      "Con_Velocidad                     602144\n",
      "Con_Sitp                          504302\n",
      "Con_Troncal                       597132\n",
      "Con_Alimentador                   599013\n",
      "Con_Zonal                         529902\n",
      "Con_Provisional                   600277\n",
      "Con_Articulado                    602856\n",
      "Con_Biarticulado                  604643\n",
      "Con_Padron_Dual                   605567\n",
      "Con_Servicio_Especial             583929\n",
      "Con_Taxi                          489349\n",
      "dtype: int64\n"
     ]
    }
   ],
   "source": [
    "###\n",
    "# 3. Ver todas las columnas de cada hoja de interes (ejecución)\n",
    "###\n",
    "dataframes = {}\n",
    "for hoja in hojas_interes:\n",
    "    dataframes[hoja] = analizar_hoja_detallada(hoja)"
   ]
  },
  {
   "cell_type": "code",
   "execution_count": null,
   "id": "2d91e7b1",
   "metadata": {},
   "outputs": [],
   "source": [
    "###\n",
    "# 4. Tabla de analisis para valores unicos vs nulos (función)\n",
    "###\n",
    "def generar_tabla_analisis(hoja_nombre):\n",
    "    \"\"\"Genera solo la tabla de análisis sin resumen\"\"\"\n",
    "    df = dataframes[hoja_nombre]\n",
    "    \n",
    "    separador = '=' * 80\n",
    "    print(f'\\n{separador}')\n",
    "    print(f'Tabla de Análisis - Hoja: {hoja_nombre}')\n",
    "    print(f'{separador}')\n",
    "    \n",
    "    resultados = []\n",
    "    \n",
    "    for columna in df.columns:\n",
    "        unique_vals = df[columna].nunique()\n",
    "        total_vals = df.shape[0]\n",
    "        nulos = df[columna].isnull().sum()\n",
    "        \n",
    "        pct_nulos = round((nulos / total_vals * 100), 2) if total_vals > 0 else 0\n",
    "        pct_unicos = round((unique_vals / total_vals * 100), 2) if total_vals > 0 else 0\n",
    "        tipo_dato = df[columna].dtype\n",
    "        \n",
    "        # Evaluar utilidad\n",
    "        if pct_nulos > 80:\n",
    "            utilidad = 'ELIMINAR'\n",
    "        elif unique_vals == 1:\n",
    "            utilidad = 'ELIMINAR'\n",
    "        elif pct_unicos > 90:\n",
    "            utilidad = 'REVISAR'\n",
    "        else:\n",
    "            utilidad = 'MANTENER'\n",
    "        \n",
    "        resultados.append({\n",
    "            'Columna': columna,\n",
    "            'Tipo': tipo_dato,\n",
    "            'Unicos': unique_vals,\n",
    "            '% Unicos': pct_unicos,\n",
    "            'Nulos': nulos,\n",
    "            '% Nulos': pct_nulos,\n",
    "            'Utilidad': utilidad\n",
    "        })\n",
    "    \n",
    "    df_resultados = pd.DataFrame(resultados)\n",
    "    print(df_resultados.to_string(index=False))\n",
    "    \n",
    "    return df_resultados\n",
    "\n"
   ]
  },
  {
   "cell_type": "code",
   "execution_count": null,
   "id": "93cc9c69",
   "metadata": {},
   "outputs": [
    {
     "name": "stdout",
     "output_type": "stream",
     "text": [
      "\n",
      "================================================================================\n",
      "Tabla de Análisis - Hoja: Vehiculos\n",
      "================================================================================\n",
      "                     Columna           Tipo  Unicos  % Unicos  Nulos  % Nulos Utilidad\n",
      "            Codigo_Accidente          int64  278466     53.23      0     0.00 MANTENER\n",
      "                  Formulario         object  278466     53.23      0     0.00 MANTENER\n",
      "                   Fecha_Acc datetime64[ns]    3653      0.70      0     0.00 MANTENER\n",
      "                      AA_Acc          int64      10      0.00      0     0.00 MANTENER\n",
      "             Codigo_Vehiculo        float64      30      0.01      3     0.00 MANTENER\n",
      "                       Clase         object      22      0.00   4023     0.77 MANTENER\n",
      "                    Servicio         object       5      0.00      0     0.00 MANTENER\n",
      "                   Modalidad         object       8      0.00 421229    80.52 ELIMINAR\n",
      "Vehiculo_Viajaba_Clasificado         object       8      0.00      0     0.00 MANTENER\n",
      "                   Tipo_SITP         object       8      0.00 475607    90.91 ELIMINAR\n",
      "               Con_Bicicleta         object       1      0.00 479770    91.70 ELIMINAR\n",
      "                   Con_Carga         object       1      0.00 447986    85.63 ELIMINAR\n",
      "              Con_Embriaguez         object       1      0.00 511971    97.86 ELIMINAR\n",
      "                  Con_Huecos         object       1      0.00 519729    99.34 ELIMINAR\n",
      "                 Con_Menores         object       1      0.00 499741    95.52 ELIMINAR\n",
      "                    Con_Moto         object       1      0.00 365445    69.85 ELIMINAR\n",
      "                  Con_Peaton         object       1      0.00 487801    93.24 ELIMINAR\n",
      "           Con_Persona_Mayor         object       1      0.00 441987    84.48 ELIMINAR\n",
      "                   Con_Rutas         object       1      0.00 522988    99.97 ELIMINAR\n",
      "                     Con_Tpi         object       1      0.00 414660    79.26 ELIMINAR\n",
      "                     Con_Tpp         object       1      0.00 398929    76.25 ELIMINAR\n",
      "               Con_Velocidad         object       1      0.00 518994    99.20 ELIMINAR\n",
      "                    Con_Sitp         object       1      0.00 438368    83.79 ELIMINAR\n",
      "                 Con_Troncal         object       1      0.00 516598    98.74 ELIMINAR\n",
      "             Con_Alimentador         object       1      0.00 515774    98.59 ELIMINAR\n",
      "                   Con_Zonal         object       1      0.00 456911    87.34 ELIMINAR\n",
      "             Con_Provisional         object       1      0.00 516648    98.75 ELIMINAR\n",
      "              Con_Articulado         object       1      0.00 520264    99.44 ELIMINAR\n",
      "            Con_Biarticulado         object       1      0.00 521414    99.66 ELIMINAR\n",
      "             Con_Padron_Dual         object       1      0.00 521141    99.61 ELIMINAR\n",
      "       Con_Servicio_Especial         object       1      0.00 501139    95.79 ELIMINAR\n",
      "                    Con_Taxi         object       1      0.00 416228    79.56 ELIMINAR\n",
      "\n",
      "================================================================================\n",
      "Tabla de Análisis - Hoja: Actor_vial\n",
      "================================================================================\n",
      "                       Columna           Tipo  Unicos  % Unicos  Nulos  % Nulos Utilidad\n",
      "            Codigo_Accidentado          int64  608155    100.00      0     0.00  REVISAR\n",
      "              Codigo_Accidente          int64  278463     45.79      0     0.00 MANTENER\n",
      "                    Formulario         object  278463     45.79      0     0.00 MANTENER\n",
      "               Codigo_Vehiculo        float64      31      0.01  12686     2.09 MANTENER\n",
      "               Ccodigo_Victima          int64      72      0.01      0     0.00 MANTENER\n",
      "                      FechaAcc datetime64[ns]    3653      0.60      0     0.00 MANTENER\n",
      "                       AnnoAcc          int64      10      0.00      0     0.00 MANTENER\n",
      "                        mesAcc         object      12      0.00      0     0.00 MANTENER\n",
      "                    DD_Mes_Acc          int64      31      0.01      0     0.00 MANTENER\n",
      "                Dia_Semana_Acc         object       7      0.00      0     0.00 MANTENER\n",
      "                       hourAcc          int64      24      0.00      0     0.00 MANTENER\n",
      "                       minuAcc          int64      60      0.01      0     0.00 MANTENER\n",
      "                     Localidad         object      20      0.00      0     0.00 MANTENER\n",
      "                          Edad        float64     120      0.02  13337     2.19 MANTENER\n",
      "                          Sexo         object       3      0.00   5459     0.90 MANTENER\n",
      "Gravedad_Indicador_Tradicional         object       3      0.00   4435     0.73 MANTENER\n",
      "              Muerte_Posterior         object       2      0.00 325817    53.57 MANTENER\n",
      "          Fecha_CambioGravedad datetime64[ns]    1463      0.24 606235    99.68 ELIMINAR\n",
      "        Gravedad_Indicador_30d         object       3      0.00   4435     0.73 MANTENER\n",
      "                     Condicion         object       6      0.00      0     0.00 MANTENER\n",
      "          Condicion_Especifica         object      18      0.00      0     0.00 MANTENER\n",
      "                    Validación         object       2      0.00      0     0.00 MANTENER\n",
      "                     Tipo_SITP         object       8      0.00 547619    90.05 ELIMINAR\n",
      "                 Con_Bicicleta         object       1      0.00 560904    92.23 ELIMINAR\n",
      "                     Con_Carga         object       1      0.00 528859    86.96 ELIMINAR\n",
      "                Con_Embriaguez         object       1      0.00 595430    97.91 ELIMINAR\n",
      "                    Con_Huecos         object       1      0.00 603891    99.30 ELIMINAR\n",
      "                   Con_Menores         object       1      0.00 565238    92.94 ELIMINAR\n",
      "                      Con_Moto         object       1      0.00 415304    68.29 ELIMINAR\n",
      "                    Con_Peaton         object       1      0.00 534390    87.87 ELIMINAR\n",
      "             Con_Persona_Mayor         object       1      0.00 503754    82.83 ELIMINAR\n",
      "                     Con_Rutas         object       1      0.00 607528    99.90 ELIMINAR\n",
      "                       Con_Tpi         object       1      0.00 487616    80.18 ELIMINAR\n",
      "                       Con_Tpp         object       1      0.00 459196    75.51 ELIMINAR\n",
      "                 Con_Velocidad         object       1      0.00 602144    99.01 ELIMINAR\n",
      "                      Con_Sitp         object       1      0.00 504302    82.92 ELIMINAR\n",
      "                   Con_Troncal         object       1      0.00 597132    98.19 ELIMINAR\n",
      "               Con_Alimentador         object       1      0.00 599013    98.50 ELIMINAR\n",
      "                     Con_Zonal         object       1      0.00 529902    87.13 ELIMINAR\n",
      "               Con_Provisional         object       1      0.00 600277    98.70 ELIMINAR\n",
      "                Con_Articulado         object       1      0.00 602856    99.13 ELIMINAR\n",
      "              Con_Biarticulado         object       1      0.00 604643    99.42 ELIMINAR\n",
      "               Con_Padron_Dual         object       1      0.00 605567    99.57 ELIMINAR\n",
      "         Con_Servicio_Especial         object       1      0.00 583929    96.02 ELIMINAR\n",
      "                      Con_Taxi         object       1      0.00 489349    80.46 ELIMINAR\n"
     ]
    }
   ],
   "source": [
    "###\n",
    "# 4. Tabla de analisis para valores unicos vs nulos (ejecución)\n",
    "###\n",
    "for hoja in hojas_interes:\n",
    "    tabla_resultados = generar_tabla_analisis(hoja)"
   ]
  },
  {
   "cell_type": "code",
   "execution_count": null,
   "id": "ca7b93ce",
   "metadata": {},
   "outputs": [
    {
     "name": "stdout",
     "output_type": "stream",
     "text": [
      "\n",
      "================================================================================\n",
      "Tabla de Análisis - Hoja: Vehiculos\n",
      "================================================================================\n",
      "                     Columna           Tipo  Unicos  % Unicos  Nulos  % Nulos Utilidad\n",
      "            Codigo_Accidente          int64  278466     53.23      0     0.00 MANTENER\n",
      "                  Formulario         object  278466     53.23      0     0.00 MANTENER\n",
      "                   Fecha_Acc datetime64[ns]    3653      0.70      0     0.00 MANTENER\n",
      "                      AA_Acc          int64      10      0.00      0     0.00 MANTENER\n",
      "             Codigo_Vehiculo        float64      30      0.01      3     0.00 MANTENER\n",
      "                       Clase         object      22      0.00   4023     0.77 MANTENER\n",
      "                    Servicio         object       5      0.00      0     0.00 MANTENER\n",
      "                   Modalidad         object       8      0.00 421229    80.52 ELIMINAR\n",
      "Vehiculo_Viajaba_Clasificado         object       8      0.00      0     0.00 MANTENER\n",
      "                   Tipo_SITP         object       8      0.00 475607    90.91 ELIMINAR\n",
      "               Con_Bicicleta         object       1      0.00 479770    91.70 ELIMINAR\n",
      "                   Con_Carga         object       1      0.00 447986    85.63 ELIMINAR\n",
      "              Con_Embriaguez         object       1      0.00 511971    97.86 ELIMINAR\n",
      "                  Con_Huecos         object       1      0.00 519729    99.34 ELIMINAR\n",
      "                 Con_Menores         object       1      0.00 499741    95.52 ELIMINAR\n",
      "                    Con_Moto         object       1      0.00 365445    69.85 ELIMINAR\n",
      "                  Con_Peaton         object       1      0.00 487801    93.24 ELIMINAR\n",
      "           Con_Persona_Mayor         object       1      0.00 441987    84.48 ELIMINAR\n",
      "                   Con_Rutas         object       1      0.00 522988    99.97 ELIMINAR\n",
      "                     Con_Tpi         object       1      0.00 414660    79.26 ELIMINAR\n",
      "                     Con_Tpp         object       1      0.00 398929    76.25 ELIMINAR\n",
      "               Con_Velocidad         object       1      0.00 518994    99.20 ELIMINAR\n",
      "                    Con_Sitp         object       1      0.00 438368    83.79 ELIMINAR\n",
      "                 Con_Troncal         object       1      0.00 516598    98.74 ELIMINAR\n",
      "             Con_Alimentador         object       1      0.00 515774    98.59 ELIMINAR\n",
      "                   Con_Zonal         object       1      0.00 456911    87.34 ELIMINAR\n",
      "             Con_Provisional         object       1      0.00 516648    98.75 ELIMINAR\n",
      "              Con_Articulado         object       1      0.00 520264    99.44 ELIMINAR\n",
      "            Con_Biarticulado         object       1      0.00 521414    99.66 ELIMINAR\n",
      "             Con_Padron_Dual         object       1      0.00 521141    99.61 ELIMINAR\n",
      "       Con_Servicio_Especial         object       1      0.00 501139    95.79 ELIMINAR\n",
      "                    Con_Taxi         object       1      0.00 416228    79.56 ELIMINAR\n",
      "\n",
      "--- Columnas problemáticas en Vehiculos ---\n",
      "              Columna   Tipo  Unicos  % Unicos  Nulos  % Nulos Utilidad\n",
      "            Modalidad object       8       0.0 421229    80.52 ELIMINAR\n",
      "            Tipo_SITP object       8       0.0 475607    90.91 ELIMINAR\n",
      "        Con_Bicicleta object       1       0.0 479770    91.70 ELIMINAR\n",
      "            Con_Carga object       1       0.0 447986    85.63 ELIMINAR\n",
      "       Con_Embriaguez object       1       0.0 511971    97.86 ELIMINAR\n",
      "           Con_Huecos object       1       0.0 519729    99.34 ELIMINAR\n",
      "          Con_Menores object       1       0.0 499741    95.52 ELIMINAR\n",
      "             Con_Moto object       1       0.0 365445    69.85 ELIMINAR\n",
      "           Con_Peaton object       1       0.0 487801    93.24 ELIMINAR\n",
      "    Con_Persona_Mayor object       1       0.0 441987    84.48 ELIMINAR\n",
      "            Con_Rutas object       1       0.0 522988    99.97 ELIMINAR\n",
      "              Con_Tpi object       1       0.0 414660    79.26 ELIMINAR\n",
      "              Con_Tpp object       1       0.0 398929    76.25 ELIMINAR\n",
      "        Con_Velocidad object       1       0.0 518994    99.20 ELIMINAR\n",
      "             Con_Sitp object       1       0.0 438368    83.79 ELIMINAR\n",
      "          Con_Troncal object       1       0.0 516598    98.74 ELIMINAR\n",
      "      Con_Alimentador object       1       0.0 515774    98.59 ELIMINAR\n",
      "            Con_Zonal object       1       0.0 456911    87.34 ELIMINAR\n",
      "      Con_Provisional object       1       0.0 516648    98.75 ELIMINAR\n",
      "       Con_Articulado object       1       0.0 520264    99.44 ELIMINAR\n",
      "     Con_Biarticulado object       1       0.0 521414    99.66 ELIMINAR\n",
      "      Con_Padron_Dual object       1       0.0 521141    99.61 ELIMINAR\n",
      "Con_Servicio_Especial object       1       0.0 501139    95.79 ELIMINAR\n",
      "             Con_Taxi object       1       0.0 416228    79.56 ELIMINAR\n",
      "\n",
      "================================================================================\n",
      "Tabla de Análisis - Hoja: Actor_vial\n",
      "================================================================================\n",
      "                       Columna           Tipo  Unicos  % Unicos  Nulos  % Nulos Utilidad\n",
      "            Codigo_Accidentado          int64  608155    100.00      0     0.00  REVISAR\n",
      "              Codigo_Accidente          int64  278463     45.79      0     0.00 MANTENER\n",
      "                    Formulario         object  278463     45.79      0     0.00 MANTENER\n",
      "               Codigo_Vehiculo        float64      31      0.01  12686     2.09 MANTENER\n",
      "               Ccodigo_Victima          int64      72      0.01      0     0.00 MANTENER\n",
      "                      FechaAcc datetime64[ns]    3653      0.60      0     0.00 MANTENER\n",
      "                       AnnoAcc          int64      10      0.00      0     0.00 MANTENER\n",
      "                        mesAcc         object      12      0.00      0     0.00 MANTENER\n",
      "                    DD_Mes_Acc          int64      31      0.01      0     0.00 MANTENER\n",
      "                Dia_Semana_Acc         object       7      0.00      0     0.00 MANTENER\n",
      "                       hourAcc          int64      24      0.00      0     0.00 MANTENER\n",
      "                       minuAcc          int64      60      0.01      0     0.00 MANTENER\n",
      "                     Localidad         object      20      0.00      0     0.00 MANTENER\n",
      "                          Edad        float64     120      0.02  13337     2.19 MANTENER\n",
      "                          Sexo         object       3      0.00   5459     0.90 MANTENER\n",
      "Gravedad_Indicador_Tradicional         object       3      0.00   4435     0.73 MANTENER\n",
      "              Muerte_Posterior         object       2      0.00 325817    53.57 MANTENER\n",
      "          Fecha_CambioGravedad datetime64[ns]    1463      0.24 606235    99.68 ELIMINAR\n",
      "        Gravedad_Indicador_30d         object       3      0.00   4435     0.73 MANTENER\n",
      "                     Condicion         object       6      0.00      0     0.00 MANTENER\n",
      "          Condicion_Especifica         object      18      0.00      0     0.00 MANTENER\n",
      "                    Validación         object       2      0.00      0     0.00 MANTENER\n",
      "                     Tipo_SITP         object       8      0.00 547619    90.05 ELIMINAR\n",
      "                 Con_Bicicleta         object       1      0.00 560904    92.23 ELIMINAR\n",
      "                     Con_Carga         object       1      0.00 528859    86.96 ELIMINAR\n",
      "                Con_Embriaguez         object       1      0.00 595430    97.91 ELIMINAR\n",
      "                    Con_Huecos         object       1      0.00 603891    99.30 ELIMINAR\n",
      "                   Con_Menores         object       1      0.00 565238    92.94 ELIMINAR\n",
      "                      Con_Moto         object       1      0.00 415304    68.29 ELIMINAR\n",
      "                    Con_Peaton         object       1      0.00 534390    87.87 ELIMINAR\n",
      "             Con_Persona_Mayor         object       1      0.00 503754    82.83 ELIMINAR\n",
      "                     Con_Rutas         object       1      0.00 607528    99.90 ELIMINAR\n",
      "                       Con_Tpi         object       1      0.00 487616    80.18 ELIMINAR\n",
      "                       Con_Tpp         object       1      0.00 459196    75.51 ELIMINAR\n",
      "                 Con_Velocidad         object       1      0.00 602144    99.01 ELIMINAR\n",
      "                      Con_Sitp         object       1      0.00 504302    82.92 ELIMINAR\n",
      "                   Con_Troncal         object       1      0.00 597132    98.19 ELIMINAR\n",
      "               Con_Alimentador         object       1      0.00 599013    98.50 ELIMINAR\n",
      "                     Con_Zonal         object       1      0.00 529902    87.13 ELIMINAR\n",
      "               Con_Provisional         object       1      0.00 600277    98.70 ELIMINAR\n",
      "                Con_Articulado         object       1      0.00 602856    99.13 ELIMINAR\n",
      "              Con_Biarticulado         object       1      0.00 604643    99.42 ELIMINAR\n",
      "               Con_Padron_Dual         object       1      0.00 605567    99.57 ELIMINAR\n",
      "         Con_Servicio_Especial         object       1      0.00 583929    96.02 ELIMINAR\n",
      "                      Con_Taxi         object       1      0.00 489349    80.46 ELIMINAR\n",
      "\n",
      "--- Columnas problemáticas en Actor_vial ---\n",
      "              Columna           Tipo  Unicos  % Unicos  Nulos  % Nulos Utilidad\n",
      "   Codigo_Accidentado          int64  608155    100.00      0     0.00  REVISAR\n",
      " Fecha_CambioGravedad datetime64[ns]    1463      0.24 606235    99.68 ELIMINAR\n",
      "            Tipo_SITP         object       8      0.00 547619    90.05 ELIMINAR\n",
      "        Con_Bicicleta         object       1      0.00 560904    92.23 ELIMINAR\n",
      "            Con_Carga         object       1      0.00 528859    86.96 ELIMINAR\n",
      "       Con_Embriaguez         object       1      0.00 595430    97.91 ELIMINAR\n",
      "           Con_Huecos         object       1      0.00 603891    99.30 ELIMINAR\n",
      "          Con_Menores         object       1      0.00 565238    92.94 ELIMINAR\n",
      "             Con_Moto         object       1      0.00 415304    68.29 ELIMINAR\n",
      "           Con_Peaton         object       1      0.00 534390    87.87 ELIMINAR\n",
      "    Con_Persona_Mayor         object       1      0.00 503754    82.83 ELIMINAR\n",
      "            Con_Rutas         object       1      0.00 607528    99.90 ELIMINAR\n",
      "              Con_Tpi         object       1      0.00 487616    80.18 ELIMINAR\n",
      "              Con_Tpp         object       1      0.00 459196    75.51 ELIMINAR\n",
      "        Con_Velocidad         object       1      0.00 602144    99.01 ELIMINAR\n",
      "             Con_Sitp         object       1      0.00 504302    82.92 ELIMINAR\n",
      "          Con_Troncal         object       1      0.00 597132    98.19 ELIMINAR\n",
      "      Con_Alimentador         object       1      0.00 599013    98.50 ELIMINAR\n",
      "            Con_Zonal         object       1      0.00 529902    87.13 ELIMINAR\n",
      "      Con_Provisional         object       1      0.00 600277    98.70 ELIMINAR\n",
      "       Con_Articulado         object       1      0.00 602856    99.13 ELIMINAR\n",
      "     Con_Biarticulado         object       1      0.00 604643    99.42 ELIMINAR\n",
      "      Con_Padron_Dual         object       1      0.00 605567    99.57 ELIMINAR\n",
      "Con_Servicio_Especial         object       1      0.00 583929    96.02 ELIMINAR\n",
      "             Con_Taxi         object       1      0.00 489349    80.46 ELIMINAR\n"
     ]
    }
   ],
   "source": [
    "###\n",
    "# Filtrado de eliminar y revisar (ejecución)\n",
    "for hoja in hojas_interes:\n",
    "    tabla_resultados = generar_tabla_analisis(hoja)\n",
    "    \n",
    "    # Mostrar solo las problemáticas\n",
    "    problematicas = tabla_resultados[tabla_resultados['Utilidad'] != 'MANTENER']\n",
    "    if not problematicas.empty:\n",
    "        print(f'\\n--- Columnas problemáticas en {hoja} ---')\n",
    "        print(problematicas.to_string(index=False))"
   ]
  },
  {
   "cell_type": "code",
   "execution_count": 63,
   "id": "83a50b7c",
   "metadata": {},
   "outputs": [
    {
     "name": "stdout",
     "output_type": "stream",
     "text": [
      "Hojas disponibles en el archivo:\n",
      "['Siniestros', 'Vehiculos', 'Actor_vial', 'Limpieza de datos', 'Diccionario']\n"
     ]
    }
   ],
   "source": [
    "import pandas as pd\n",
    "excel_path = \"C:\\\\Users\\\\andre\\\\OneDrive\\\\Documentos\\\\bootcamp analisis de datos\\\\analisis de datos\\\\proyecto_analisis_de_datos.py\\\\base_anuario_de_siniestralidad_2024_Final.xlsx\"\n",
    "archivo_excel = pd.ExcelFile(excel_path)\n",
    "\n",
    "# Ver las hojas disponibles\n",
    "print(\"Hojas disponibles en el archivo:\")\n",
    "print(archivo_excel.sheet_names)"
   ]
  },
  {
   "cell_type": "code",
   "execution_count": 64,
   "id": "8ba5703c",
   "metadata": {},
   "outputs": [
    {
     "data": {
      "application/vnd.microsoft.datawrangler.viewer.v0+json": {
       "columns": [
        {
         "name": "index",
         "rawType": "int64",
         "type": "integer"
        },
        {
         "name": "Codigo_Accidente",
         "rawType": "int64",
         "type": "integer"
        },
        {
         "name": "Formulario",
         "rawType": "object",
         "type": "string"
        },
        {
         "name": "Longitud",
         "rawType": "float64",
         "type": "float"
        },
        {
         "name": "Latitud",
         "rawType": "float64",
         "type": "float"
        },
        {
         "name": "Direccion",
         "rawType": "object",
         "type": "string"
        },
        {
         "name": "Fecha_Acc",
         "rawType": "datetime64[ns]",
         "type": "datetime"
        },
        {
         "name": "AA_Acc",
         "rawType": "int64",
         "type": "integer"
        },
        {
         "name": "MM_Acc",
         "rawType": "object",
         "type": "string"
        },
        {
         "name": "DD_Mes_Acc",
         "rawType": "int64",
         "type": "integer"
        },
        {
         "name": "Dia_Semana_Acc",
         "rawType": "object",
         "type": "string"
        },
        {
         "name": "Hora_Acc",
         "rawType": "int64",
         "type": "integer"
        },
        {
         "name": "Min_Acc",
         "rawType": "int64",
         "type": "integer"
        },
        {
         "name": "Localidad",
         "rawType": "object",
         "type": "string"
        },
        {
         "name": "Clase_Acc",
         "rawType": "object",
         "type": "string"
        },
        {
         "name": "Elemento_Choque",
         "rawType": "object",
         "type": "unknown"
        },
        {
         "name": "Tipo_Objeto_Fijo",
         "rawType": "object",
         "type": "unknown"
        },
        {
         "name": "Gravedad_Indicador_Tradicional",
         "rawType": "object",
         "type": "string"
        },
        {
         "name": "Gravedad_indicador_30d",
         "rawType": "object",
         "type": "string"
        },
        {
         "name": "Con_Bicicleta",
         "rawType": "object",
         "type": "unknown"
        },
        {
         "name": "Con_Carga",
         "rawType": "object",
         "type": "unknown"
        },
        {
         "name": "Con_Embriaguez",
         "rawType": "object",
         "type": "unknown"
        },
        {
         "name": "Con_Huecos",
         "rawType": "object",
         "type": "unknown"
        },
        {
         "name": "Con_Menores",
         "rawType": "object",
         "type": "unknown"
        },
        {
         "name": "Con_Moto",
         "rawType": "object",
         "type": "unknown"
        },
        {
         "name": "Con_Peaton",
         "rawType": "object",
         "type": "unknown"
        },
        {
         "name": "Con_Persona_Mayor",
         "rawType": "object",
         "type": "unknown"
        },
        {
         "name": "Con_Rutas",
         "rawType": "object",
         "type": "unknown"
        },
        {
         "name": "Con_Tpi",
         "rawType": "object",
         "type": "unknown"
        },
        {
         "name": "Con_Tpp",
         "rawType": "object",
         "type": "unknown"
        },
        {
         "name": "Con_Velocidad",
         "rawType": "object",
         "type": "unknown"
        },
        {
         "name": "Con_Sitp",
         "rawType": "object",
         "type": "unknown"
        },
        {
         "name": "Con_Troncal",
         "rawType": "object",
         "type": "unknown"
        },
        {
         "name": "Con_Alimentador",
         "rawType": "object",
         "type": "unknown"
        },
        {
         "name": "Con_Zonal",
         "rawType": "object",
         "type": "unknown"
        },
        {
         "name": "Con_Provisional",
         "rawType": "object",
         "type": "unknown"
        },
        {
         "name": "Con_Articulado",
         "rawType": "object",
         "type": "unknown"
        },
        {
         "name": "Con_Biarticulado",
         "rawType": "object",
         "type": "unknown"
        },
        {
         "name": "Con_Padron_Dual",
         "rawType": "object",
         "type": "unknown"
        },
        {
         "name": "Con_Servicio_Especial",
         "rawType": "object",
         "type": "unknown"
        },
        {
         "name": "Con_Taxi",
         "rawType": "object",
         "type": "unknown"
        }
       ],
       "ref": "87d9630a-50b7-44c7-85a3-42280e58c26e",
       "rows": [
        [
         "0",
         "4404210",
         "A685",
         "-74.18138725",
         "4.62197757199999",
         "AV AVENIDA CIUDAD DE CALI-KR 55 S 02",
         "2015-02-09 00:00:00",
         "2015",
         "Febrero",
         "9",
         "lunes",
         "20",
         "40",
         "BOSA",
         "Choque",
         "Vehículo",
         null,
         "Con Muertos",
         "Con Muertos",
         "SI",
         null,
         null,
         null,
         "SI",
         "SI",
         null,
         null,
         null,
         null,
         null,
         "SI",
         null,
         null,
         null,
         null,
         null,
         null,
         null,
         null,
         null,
         null
        ],
        [
         "1",
         "4404211",
         "A666",
         "-74.02730421",
         "4.76290062999999",
         "AK 7-CL 186 02",
         "2015-02-06 00:00:00",
         "2015",
         "Febrero",
         "6",
         "viernes",
         "15",
         "50",
         "USAQUÉN",
         "Choque",
         "Vehículo",
         null,
         "Solo Daños",
         "Solo Daños",
         null,
         null,
         null,
         null,
         null,
         null,
         null,
         null,
         null,
         null,
         "SI",
         null,
         "SI",
         null,
         null,
         "SI",
         null,
         null,
         null,
         null,
         null,
         null
        ],
        [
         "2",
         "4404212",
         "A698",
         "-74.053529428",
         "4.70693908599998",
         "KR 45-CL 127 02",
         "2015-02-07 00:00:00",
         "2015",
         "Febrero",
         "7",
         "sábado",
         "12",
         "30",
         "USAQUÉN",
         "Choque",
         "Vehículo",
         null,
         "Solo Daños",
         "Solo Daños",
         null,
         null,
         null,
         null,
         "SI",
         null,
         null,
         null,
         null,
         null,
         null,
         null,
         null,
         null,
         null,
         null,
         null,
         null,
         null,
         null,
         null,
         null
        ],
        [
         "3",
         "4404213",
         "A000042495",
         "-74.09956267",
         "4.57625629500001",
         "KR 12-CL 24 S 06",
         "2015-02-09 00:00:00",
         "2015",
         "Febrero",
         "9",
         "lunes",
         "13",
         "45",
         "RAFAEL URIBE URIBE",
         "Volcamiento",
         null,
         null,
         "Con Muertos",
         "Con Muertos",
         "SI",
         null,
         null,
         null,
         null,
         null,
         null,
         "SI",
         null,
         null,
         null,
         null,
         null,
         null,
         null,
         null,
         null,
         null,
         null,
         null,
         null,
         null
        ],
        [
         "4",
         "4404214",
         "A644",
         "-74.09166659",
         "4.52408001999999",
         "CL 70-KR 11D SE 04",
         "2015-02-08 00:00:00",
         "2015",
         "Febrero",
         "8",
         "domingo",
         "10",
         "58",
         "SAN CRISTÓBAL",
         "Choque",
         "Vehículo",
         null,
         "Solo Daños",
         "Solo Daños",
         null,
         "SI",
         null,
         null,
         null,
         null,
         null,
         null,
         null,
         null,
         null,
         null,
         null,
         null,
         null,
         null,
         null,
         null,
         null,
         null,
         null,
         null
        ]
       ],
       "shape": {
        "columns": 40,
        "rows": 5
       }
      },
      "text/html": [
       "<div>\n",
       "<style scoped>\n",
       "    .dataframe tbody tr th:only-of-type {\n",
       "        vertical-align: middle;\n",
       "    }\n",
       "\n",
       "    .dataframe tbody tr th {\n",
       "        vertical-align: top;\n",
       "    }\n",
       "\n",
       "    .dataframe thead th {\n",
       "        text-align: right;\n",
       "    }\n",
       "</style>\n",
       "<table border=\"1\" class=\"dataframe\">\n",
       "  <thead>\n",
       "    <tr style=\"text-align: right;\">\n",
       "      <th></th>\n",
       "      <th>Codigo_Accidente</th>\n",
       "      <th>Formulario</th>\n",
       "      <th>Longitud</th>\n",
       "      <th>Latitud</th>\n",
       "      <th>Direccion</th>\n",
       "      <th>Fecha_Acc</th>\n",
       "      <th>AA_Acc</th>\n",
       "      <th>MM_Acc</th>\n",
       "      <th>DD_Mes_Acc</th>\n",
       "      <th>Dia_Semana_Acc</th>\n",
       "      <th>...</th>\n",
       "      <th>Con_Sitp</th>\n",
       "      <th>Con_Troncal</th>\n",
       "      <th>Con_Alimentador</th>\n",
       "      <th>Con_Zonal</th>\n",
       "      <th>Con_Provisional</th>\n",
       "      <th>Con_Articulado</th>\n",
       "      <th>Con_Biarticulado</th>\n",
       "      <th>Con_Padron_Dual</th>\n",
       "      <th>Con_Servicio_Especial</th>\n",
       "      <th>Con_Taxi</th>\n",
       "    </tr>\n",
       "  </thead>\n",
       "  <tbody>\n",
       "    <tr>\n",
       "      <th>0</th>\n",
       "      <td>4404210</td>\n",
       "      <td>A685</td>\n",
       "      <td>-74.181387</td>\n",
       "      <td>4.621978</td>\n",
       "      <td>AV AVENIDA CIUDAD DE CALI-KR 55 S 02</td>\n",
       "      <td>2015-02-09</td>\n",
       "      <td>2015</td>\n",
       "      <td>Febrero</td>\n",
       "      <td>9</td>\n",
       "      <td>lunes</td>\n",
       "      <td>...</td>\n",
       "      <td>NaN</td>\n",
       "      <td>NaN</td>\n",
       "      <td>NaN</td>\n",
       "      <td>NaN</td>\n",
       "      <td>NaN</td>\n",
       "      <td>NaN</td>\n",
       "      <td>NaN</td>\n",
       "      <td>NaN</td>\n",
       "      <td>NaN</td>\n",
       "      <td>NaN</td>\n",
       "    </tr>\n",
       "    <tr>\n",
       "      <th>1</th>\n",
       "      <td>4404211</td>\n",
       "      <td>A666</td>\n",
       "      <td>-74.027304</td>\n",
       "      <td>4.762901</td>\n",
       "      <td>AK 7-CL 186 02</td>\n",
       "      <td>2015-02-06</td>\n",
       "      <td>2015</td>\n",
       "      <td>Febrero</td>\n",
       "      <td>6</td>\n",
       "      <td>viernes</td>\n",
       "      <td>...</td>\n",
       "      <td>SI</td>\n",
       "      <td>NaN</td>\n",
       "      <td>NaN</td>\n",
       "      <td>SI</td>\n",
       "      <td>NaN</td>\n",
       "      <td>NaN</td>\n",
       "      <td>NaN</td>\n",
       "      <td>NaN</td>\n",
       "      <td>NaN</td>\n",
       "      <td>NaN</td>\n",
       "    </tr>\n",
       "    <tr>\n",
       "      <th>2</th>\n",
       "      <td>4404212</td>\n",
       "      <td>A698</td>\n",
       "      <td>-74.053529</td>\n",
       "      <td>4.706939</td>\n",
       "      <td>KR 45-CL 127 02</td>\n",
       "      <td>2015-02-07</td>\n",
       "      <td>2015</td>\n",
       "      <td>Febrero</td>\n",
       "      <td>7</td>\n",
       "      <td>sábado</td>\n",
       "      <td>...</td>\n",
       "      <td>NaN</td>\n",
       "      <td>NaN</td>\n",
       "      <td>NaN</td>\n",
       "      <td>NaN</td>\n",
       "      <td>NaN</td>\n",
       "      <td>NaN</td>\n",
       "      <td>NaN</td>\n",
       "      <td>NaN</td>\n",
       "      <td>NaN</td>\n",
       "      <td>NaN</td>\n",
       "    </tr>\n",
       "    <tr>\n",
       "      <th>3</th>\n",
       "      <td>4404213</td>\n",
       "      <td>A000042495</td>\n",
       "      <td>-74.099563</td>\n",
       "      <td>4.576256</td>\n",
       "      <td>KR 12-CL 24 S 06</td>\n",
       "      <td>2015-02-09</td>\n",
       "      <td>2015</td>\n",
       "      <td>Febrero</td>\n",
       "      <td>9</td>\n",
       "      <td>lunes</td>\n",
       "      <td>...</td>\n",
       "      <td>NaN</td>\n",
       "      <td>NaN</td>\n",
       "      <td>NaN</td>\n",
       "      <td>NaN</td>\n",
       "      <td>NaN</td>\n",
       "      <td>NaN</td>\n",
       "      <td>NaN</td>\n",
       "      <td>NaN</td>\n",
       "      <td>NaN</td>\n",
       "      <td>NaN</td>\n",
       "    </tr>\n",
       "    <tr>\n",
       "      <th>4</th>\n",
       "      <td>4404214</td>\n",
       "      <td>A644</td>\n",
       "      <td>-74.091667</td>\n",
       "      <td>4.524080</td>\n",
       "      <td>CL 70-KR 11D SE 04</td>\n",
       "      <td>2015-02-08</td>\n",
       "      <td>2015</td>\n",
       "      <td>Febrero</td>\n",
       "      <td>8</td>\n",
       "      <td>domingo</td>\n",
       "      <td>...</td>\n",
       "      <td>NaN</td>\n",
       "      <td>NaN</td>\n",
       "      <td>NaN</td>\n",
       "      <td>NaN</td>\n",
       "      <td>NaN</td>\n",
       "      <td>NaN</td>\n",
       "      <td>NaN</td>\n",
       "      <td>NaN</td>\n",
       "      <td>NaN</td>\n",
       "      <td>NaN</td>\n",
       "    </tr>\n",
       "  </tbody>\n",
       "</table>\n",
       "<p>5 rows × 40 columns</p>\n",
       "</div>"
      ],
      "text/plain": [
       "   Codigo_Accidente  Formulario   Longitud   Latitud  \\\n",
       "0           4404210        A685 -74.181387  4.621978   \n",
       "1           4404211        A666 -74.027304  4.762901   \n",
       "2           4404212        A698 -74.053529  4.706939   \n",
       "3           4404213  A000042495 -74.099563  4.576256   \n",
       "4           4404214        A644 -74.091667  4.524080   \n",
       "\n",
       "                              Direccion  Fecha_Acc  AA_Acc   MM_Acc  \\\n",
       "0  AV AVENIDA CIUDAD DE CALI-KR 55 S 02 2015-02-09    2015  Febrero   \n",
       "1                        AK 7-CL 186 02 2015-02-06    2015  Febrero   \n",
       "2                       KR 45-CL 127 02 2015-02-07    2015  Febrero   \n",
       "3                      KR 12-CL 24 S 06 2015-02-09    2015  Febrero   \n",
       "4                    CL 70-KR 11D SE 04 2015-02-08    2015  Febrero   \n",
       "\n",
       "   DD_Mes_Acc Dia_Semana_Acc  ...  Con_Sitp  Con_Troncal Con_Alimentador  \\\n",
       "0           9          lunes  ...       NaN          NaN             NaN   \n",
       "1           6        viernes  ...        SI          NaN             NaN   \n",
       "2           7         sábado  ...       NaN          NaN             NaN   \n",
       "3           9          lunes  ...       NaN          NaN             NaN   \n",
       "4           8        domingo  ...       NaN          NaN             NaN   \n",
       "\n",
       "  Con_Zonal Con_Provisional Con_Articulado Con_Biarticulado Con_Padron_Dual  \\\n",
       "0       NaN             NaN            NaN              NaN             NaN   \n",
       "1        SI             NaN            NaN              NaN             NaN   \n",
       "2       NaN             NaN            NaN              NaN             NaN   \n",
       "3       NaN             NaN            NaN              NaN             NaN   \n",
       "4       NaN             NaN            NaN              NaN             NaN   \n",
       "\n",
       "  Con_Servicio_Especial Con_Taxi  \n",
       "0                   NaN      NaN  \n",
       "1                   NaN      NaN  \n",
       "2                   NaN      NaN  \n",
       "3                   NaN      NaN  \n",
       "4                   NaN      NaN  \n",
       "\n",
       "[5 rows x 40 columns]"
      ]
     },
     "execution_count": 64,
     "metadata": {},
     "output_type": "execute_result"
    }
   ],
   "source": [
    "#cargar la hoja 'Siniestros' es mi hoja de interes segun el analisis previo y la asignacion de tareas\n",
    "df_siniestros = pd.read_excel(excel_path, sheet_name='Siniestros')\n",
    "df_siniestros.head()"
   ]
  },
  {
   "cell_type": "code",
   "execution_count": 65,
   "id": "a8f3ff5b",
   "metadata": {},
   "outputs": [
    {
     "data": {
      "text/plain": [
       "(278614, 40)"
      ]
     },
     "execution_count": 65,
     "metadata": {},
     "output_type": "execute_result"
    }
   ],
   "source": [
    "#verificar las filas y columnas disponibles\n",
    "df_siniestros.shape"
   ]
  },
  {
   "cell_type": "code",
   "execution_count": 66,
   "id": "f11ea9de",
   "metadata": {},
   "outputs": [
    {
     "name": "stdout",
     "output_type": "stream",
     "text": [
      "Columnas disponibles:\n",
      "1. Codigo_Accidente\n",
      "2. Formulario\n",
      "3. Longitud\n",
      "4. Latitud\n",
      "5. Direccion\n",
      "6. Fecha_Acc\n",
      "7. AA_Acc\n",
      "8. MM_Acc\n",
      "9. DD_Mes_Acc\n",
      "10. Dia_Semana_Acc\n",
      "11. Hora_Acc\n",
      "12. Min_Acc\n",
      "13. Localidad\n",
      "14. Clase_Acc\n",
      "15. Elemento_Choque\n",
      "16. Tipo_Objeto_Fijo\n",
      "17. Gravedad_Indicador_Tradicional\n",
      "18. Gravedad_indicador_30d\n",
      "19. Con_Bicicleta\n",
      "20. Con_Carga\n",
      "21. Con_Embriaguez\n",
      "22. Con_Huecos\n",
      "23. Con_Menores\n",
      "24. Con_Moto\n",
      "25. Con_Peaton\n",
      "26. Con_Persona_Mayor\n",
      "27. Con_Rutas\n",
      "28. Con_Tpi\n",
      "29. Con_Tpp\n",
      "30. Con_Velocidad\n",
      "31. Con_Sitp\n",
      "32. Con_Troncal\n",
      "33. Con_Alimentador\n",
      "34. Con_Zonal\n",
      "35. Con_Provisional\n",
      "36. Con_Articulado\n",
      "37. Con_Biarticulado\n",
      "38. Con_Padron_Dual\n",
      "39. Con_Servicio_Especial\n",
      "40. Con_Taxi\n"
     ]
    }
   ],
   "source": [
    "# definir nuestras columnas de interes, para posterormente segmentar la data y tomar los registros pertenecientes a 2020 a 2024\n",
    "print(\"Columnas disponibles:\")\n",
    "for i, col in enumerate(df_siniestros.columns, 1):\n",
    "    print(f\"{i}. {col}\")"
   ]
  },
  {
   "cell_type": "code",
   "execution_count": 67,
   "id": "0a1fdf6a",
   "metadata": {},
   "outputs": [
    {
     "name": "stdout",
     "output_type": "stream",
     "text": [
      "Columnas disponibles:\n",
      "1. Codigo_Accidente\n",
      "2. Formulario\n",
      "3. Longitud\n",
      "4. Latitud\n",
      "5. Direccion\n",
      "6. Fecha_Acc\n",
      "7. Año_Accidente\n",
      "8. MM_Acc\n",
      "9. DD_Mes_Acc\n",
      "10. Dia_Semana_Acc\n",
      "11. Hora_Acc\n",
      "12. Min_Acc\n",
      "13. Localidad\n",
      "14. Clase_Acc\n",
      "15. Elemento_Choque\n",
      "16. Tipo_Objeto_Fijo\n",
      "17. Gravedad_Indicador_Tradicional\n",
      "18. Gravedad_indicador_30d\n",
      "19. Con_Bicicleta\n",
      "20. Con_Carga\n",
      "21. Con_Embriaguez\n",
      "22. Con_Huecos\n",
      "23. Con_Menores\n",
      "24. Con_Moto\n",
      "25. Con_Peaton\n",
      "26. Con_Persona_Mayor\n",
      "27. Con_Rutas\n",
      "28. Con_Tpi\n",
      "29. Con_Tpp\n",
      "30. Con_Velocidad\n",
      "31. Con_Sitp\n",
      "32. Con_Troncal\n",
      "33. Con_Alimentador\n",
      "34. Con_Zonal\n",
      "35. Con_Provisional\n",
      "36. Con_Articulado\n",
      "37. Con_Biarticulado\n",
      "38. Con_Padron_Dual\n",
      "39. Con_Servicio_Especial\n",
      "40. Con_Taxi\n"
     ]
    }
   ],
   "source": [
    "#renombrar columna \"AA_Acc\" a \"Año_Accidente\" verificamos que el cambio se haya realizado correctamente\n",
    "df_siniestros = df_siniestros.rename(columns={\"AA_Acc\": \"Año_Accidente\"})\n",
    "print(\"Columnas disponibles:\")\n",
    "for i, col in enumerate(df_siniestros.columns, 1):\n",
    "    print(f\"{i}. {col}\")\n"
   ]
  },
  {
   "cell_type": "code",
   "execution_count": 68,
   "id": "cc13749d",
   "metadata": {},
   "outputs": [
    {
     "data": {
      "text/plain": [
       "(105094, 40)"
      ]
     },
     "execution_count": 68,
     "metadata": {},
     "output_type": "execute_result"
    }
   ],
   "source": [
    "#segmentamos la data para tomar los registros pertenecientes a 2020 a 2024\n",
    "df_siniestros = df_siniestros[df_siniestros['Año_Accidente'].isin([2020, 2021, 2022, 2023, 2024])]\n",
    "df_siniestros.shape"
   ]
  },
  {
   "cell_type": "code",
   "execution_count": 69,
   "id": "c03739af",
   "metadata": {},
   "outputs": [
    {
     "name": "stdout",
     "output_type": "stream",
     "text": [
      "Codigo_Accidente\n",
      "Formulario\n",
      "Longitud\n",
      "Latitud\n",
      "Direccion\n",
      "Fecha_Acc\n",
      "Año_Accidente\n",
      "MM_Acc\n",
      "DD_Mes_Acc\n",
      "Dia_Semana_Acc\n",
      "Hora_Acc\n",
      "Min_Acc\n",
      "Localidad\n",
      "Clase_Acc\n",
      "Elemento_Choque\n",
      "Tipo_Objeto_Fijo\n",
      "Gravedad_Indicador_Tradicional\n",
      "Gravedad_indicador_30d\n",
      "Con_Bicicleta\n",
      "Con_Carga\n",
      "Con_Embriaguez\n",
      "Con_Huecos\n",
      "Con_Menores\n",
      "Con_Moto\n",
      "Con_Peaton\n",
      "Con_Persona_Mayor\n",
      "Con_Rutas\n",
      "Con_Tpi\n",
      "Con_Tpp\n",
      "Con_Velocidad\n",
      "Con_Sitp\n",
      "Con_Troncal\n",
      "Con_Alimentador\n",
      "Con_Zonal\n",
      "Con_Provisional\n",
      "Con_Articulado\n",
      "Con_Biarticulado\n",
      "Con_Padron_Dual\n",
      "Con_Servicio_Especial\n",
      "Con_Taxi\n"
     ]
    }
   ],
   "source": [
    "for col in df_siniestros.columns:\n",
    "    print(col)"
   ]
  },
  {
   "cell_type": "code",
   "execution_count": 70,
   "id": "8be26edc",
   "metadata": {},
   "outputs": [
    {
     "name": "stdout",
     "output_type": "stream",
     "text": [
      "Columnas eliminadas:\n",
      "['Con_Bicicleta', 'Con_Carga', 'Con_Embriaguez', 'Con_Huecos', 'Con_Menores', 'Con_Moto', 'Con_Peaton', 'Con_Persona_Mayor', 'Con_Rutas', 'Con_Tpi', 'Con_Tpp', 'Con_Velocidad', 'Con_Sitp', 'Con_Troncal', 'Con_Alimentador', 'Con_Zonal', 'Con_Provisional', 'Con_Articulado', 'Con_Biarticulado', 'Con_Padron_Dual', 'Con_Servicio_Especial', 'Con_Taxi']\n",
      "\n",
      "Columnas restantes en el DataFrame:\n",
      "['Codigo_Accidente', 'Formulario', 'Longitud', 'Latitud', 'Direccion', 'Fecha_Acc', 'Año_Accidente', 'MM_Acc', 'DD_Mes_Acc', 'Dia_Semana_Acc', 'Hora_Acc', 'Min_Acc', 'Localidad', 'Clase_Acc', 'Elemento_Choque', 'Tipo_Objeto_Fijo', 'Gravedad_Indicador_Tradicional', 'Gravedad_indicador_30d']\n"
     ]
    }
   ],
   "source": [
    "# Identificar columnas que contienen \"con_\"\n",
    "cols_a_eliminar = [col for col in df_siniestros.columns if \"con_\" in col.lower()]\n",
    "\n",
    "print(\"Columnas eliminadas:\")\n",
    "print(cols_a_eliminar)\n",
    "\n",
    "# Eliminar las columnas\n",
    "df_siniestros = df_siniestros.drop(columns=cols_a_eliminar)\n",
    "\n",
    "# Confirmar columnas restantes\n",
    "print(\"\\nColumnas restantes en el DataFrame:\")\n",
    "print(df_siniestros.columns.tolist())\n"
   ]
  },
  {
   "cell_type": "code",
   "execution_count": 71,
   "id": "95d09e16",
   "metadata": {},
   "outputs": [
    {
     "name": "stdout",
     "output_type": "stream",
     "text": [
      "Codigo_Accidente\n",
      "Formulario\n",
      "Longitud\n",
      "Latitud\n",
      "Direccion\n",
      "Fecha_Acc\n",
      "Año_Accidente\n",
      "MM_Acc\n",
      "DD_Mes_Acc\n",
      "Dia_Semana_Acc\n",
      "Hora_Acc\n",
      "Min_Acc\n",
      "Localidad\n",
      "Clase_Acc\n",
      "Elemento_Choque\n",
      "Tipo_Objeto_Fijo\n",
      "Gravedad_Indicador_Tradicional\n",
      "Gravedad_indicador_30d\n"
     ]
    }
   ],
   "source": [
    "# Verificar columnas restantes\n",
    "for col in df_siniestros.columns:\n",
    "    print(col)"
   ]
  },
  {
   "cell_type": "code",
   "execution_count": 73,
   "id": "cfd32c66",
   "metadata": {},
   "outputs": [
    {
     "data": {
      "application/vnd.microsoft.datawrangler.viewer.v0+json": {
       "columns": [
        {
         "name": "index",
         "rawType": "int64",
         "type": "integer"
        },
        {
         "name": "Codigo_Accidente",
         "rawType": "int64",
         "type": "integer"
        },
        {
         "name": "Longitud",
         "rawType": "float64",
         "type": "float"
        },
        {
         "name": "Latitud",
         "rawType": "float64",
         "type": "float"
        },
        {
         "name": "Direccion",
         "rawType": "object",
         "type": "string"
        },
        {
         "name": "Fecha_Acc",
         "rawType": "datetime64[ns]",
         "type": "datetime"
        },
        {
         "name": "Año_Accidente",
         "rawType": "int64",
         "type": "integer"
        },
        {
         "name": "MM_Acc",
         "rawType": "object",
         "type": "string"
        },
        {
         "name": "DD_Mes_Acc",
         "rawType": "int64",
         "type": "integer"
        },
        {
         "name": "Dia_Semana_Acc",
         "rawType": "object",
         "type": "string"
        },
        {
         "name": "Hora_Acc",
         "rawType": "int64",
         "type": "integer"
        },
        {
         "name": "Min_Acc",
         "rawType": "int64",
         "type": "integer"
        },
        {
         "name": "Localidad",
         "rawType": "object",
         "type": "string"
        },
        {
         "name": "Clase_Acc",
         "rawType": "object",
         "type": "string"
        },
        {
         "name": "Elemento_Choque",
         "rawType": "object",
         "type": "string"
        },
        {
         "name": "Tipo_Objeto_Fijo",
         "rawType": "object",
         "type": "unknown"
        },
        {
         "name": "Gravedad_Indicador_Tradicional",
         "rawType": "object",
         "type": "string"
        },
        {
         "name": "Gravedad_indicador_30d",
         "rawType": "object",
         "type": "string"
        }
       ],
       "ref": "988964b7-f9b5-4eb4-8468-beb9179f2b78",
       "rows": [
        [
         "169947",
         "10509738",
         "-74.125084078",
         "4.67229141000001",
         "KR 86-CL 24 02",
         "2020-01-31 00:00:00",
         "2020",
         "Enero",
         "31",
         "viernes",
         "10",
         "41",
         "FONTIBÓN",
         "Choque",
         "Vehículo",
         null,
         "Solo Daños",
         "Solo Daños"
        ],
        [
         "169948",
         "10509739",
         "-74.051785264",
         "4.732305919",
         "CL 150-KR 48 12",
         "2020-01-31 00:00:00",
         "2020",
         "Enero",
         "31",
         "viernes",
         "21",
         "23",
         "SUBA",
         "Choque",
         "Vehículo",
         null,
         "Solo Daños",
         "Solo Daños"
        ],
        [
         "169949",
         "10509740",
         "-74.125649261",
         "4.67232432899999",
         "CL 24-KR 86 02",
         "2020-01-31 00:00:00",
         "2020",
         "Enero",
         "31",
         "viernes",
         "10",
         "20",
         "FONTIBÓN",
         "Choque",
         "Vehículo",
         null,
         "Solo Daños",
         "Solo Daños"
        ],
        [
         "169950",
         "10509741",
         "-74.135092051",
         "4.542814679",
         "AV AVENIDA BOYACA-CL 15D S 02",
         "2020-01-31 00:00:00",
         "2020",
         "Enero",
         "31",
         "viernes",
         "12",
         "18",
         "CIUDAD BOLÍVAR",
         "Choque",
         "Vehículo",
         null,
         "Solo Daños",
         "Solo Daños"
        ],
        [
         "169951",
         "10509742",
         "-74.100030891",
         "4.561921665",
         "KR 4B-CL 36 S 53",
         "2020-01-31 00:00:00",
         "2020",
         "Enero",
         "31",
         "viernes",
         "1",
         "12",
         "SAN CRISTÓBAL",
         "Choque",
         "Objeto Fijo",
         "VEHICULO",
         "Solo Daños",
         "Solo Daños"
        ]
       ],
       "shape": {
        "columns": 17,
        "rows": 5
       }
      },
      "text/html": [
       "<div>\n",
       "<style scoped>\n",
       "    .dataframe tbody tr th:only-of-type {\n",
       "        vertical-align: middle;\n",
       "    }\n",
       "\n",
       "    .dataframe tbody tr th {\n",
       "        vertical-align: top;\n",
       "    }\n",
       "\n",
       "    .dataframe thead th {\n",
       "        text-align: right;\n",
       "    }\n",
       "</style>\n",
       "<table border=\"1\" class=\"dataframe\">\n",
       "  <thead>\n",
       "    <tr style=\"text-align: right;\">\n",
       "      <th></th>\n",
       "      <th>Codigo_Accidente</th>\n",
       "      <th>Longitud</th>\n",
       "      <th>Latitud</th>\n",
       "      <th>Direccion</th>\n",
       "      <th>Fecha_Acc</th>\n",
       "      <th>Año_Accidente</th>\n",
       "      <th>MM_Acc</th>\n",
       "      <th>DD_Mes_Acc</th>\n",
       "      <th>Dia_Semana_Acc</th>\n",
       "      <th>Hora_Acc</th>\n",
       "      <th>Min_Acc</th>\n",
       "      <th>Localidad</th>\n",
       "      <th>Clase_Acc</th>\n",
       "      <th>Elemento_Choque</th>\n",
       "      <th>Tipo_Objeto_Fijo</th>\n",
       "      <th>Gravedad_Indicador_Tradicional</th>\n",
       "      <th>Gravedad_indicador_30d</th>\n",
       "    </tr>\n",
       "  </thead>\n",
       "  <tbody>\n",
       "    <tr>\n",
       "      <th>169947</th>\n",
       "      <td>10509738</td>\n",
       "      <td>-74.125084</td>\n",
       "      <td>4.672291</td>\n",
       "      <td>KR 86-CL 24 02</td>\n",
       "      <td>2020-01-31</td>\n",
       "      <td>2020</td>\n",
       "      <td>Enero</td>\n",
       "      <td>31</td>\n",
       "      <td>viernes</td>\n",
       "      <td>10</td>\n",
       "      <td>41</td>\n",
       "      <td>FONTIBÓN</td>\n",
       "      <td>Choque</td>\n",
       "      <td>Vehículo</td>\n",
       "      <td>NaN</td>\n",
       "      <td>Solo Daños</td>\n",
       "      <td>Solo Daños</td>\n",
       "    </tr>\n",
       "    <tr>\n",
       "      <th>169948</th>\n",
       "      <td>10509739</td>\n",
       "      <td>-74.051785</td>\n",
       "      <td>4.732306</td>\n",
       "      <td>CL 150-KR 48 12</td>\n",
       "      <td>2020-01-31</td>\n",
       "      <td>2020</td>\n",
       "      <td>Enero</td>\n",
       "      <td>31</td>\n",
       "      <td>viernes</td>\n",
       "      <td>21</td>\n",
       "      <td>23</td>\n",
       "      <td>SUBA</td>\n",
       "      <td>Choque</td>\n",
       "      <td>Vehículo</td>\n",
       "      <td>NaN</td>\n",
       "      <td>Solo Daños</td>\n",
       "      <td>Solo Daños</td>\n",
       "    </tr>\n",
       "    <tr>\n",
       "      <th>169949</th>\n",
       "      <td>10509740</td>\n",
       "      <td>-74.125649</td>\n",
       "      <td>4.672324</td>\n",
       "      <td>CL 24-KR 86 02</td>\n",
       "      <td>2020-01-31</td>\n",
       "      <td>2020</td>\n",
       "      <td>Enero</td>\n",
       "      <td>31</td>\n",
       "      <td>viernes</td>\n",
       "      <td>10</td>\n",
       "      <td>20</td>\n",
       "      <td>FONTIBÓN</td>\n",
       "      <td>Choque</td>\n",
       "      <td>Vehículo</td>\n",
       "      <td>NaN</td>\n",
       "      <td>Solo Daños</td>\n",
       "      <td>Solo Daños</td>\n",
       "    </tr>\n",
       "    <tr>\n",
       "      <th>169950</th>\n",
       "      <td>10509741</td>\n",
       "      <td>-74.135092</td>\n",
       "      <td>4.542815</td>\n",
       "      <td>AV AVENIDA BOYACA-CL 15D S 02</td>\n",
       "      <td>2020-01-31</td>\n",
       "      <td>2020</td>\n",
       "      <td>Enero</td>\n",
       "      <td>31</td>\n",
       "      <td>viernes</td>\n",
       "      <td>12</td>\n",
       "      <td>18</td>\n",
       "      <td>CIUDAD BOLÍVAR</td>\n",
       "      <td>Choque</td>\n",
       "      <td>Vehículo</td>\n",
       "      <td>NaN</td>\n",
       "      <td>Solo Daños</td>\n",
       "      <td>Solo Daños</td>\n",
       "    </tr>\n",
       "    <tr>\n",
       "      <th>169951</th>\n",
       "      <td>10509742</td>\n",
       "      <td>-74.100031</td>\n",
       "      <td>4.561922</td>\n",
       "      <td>KR 4B-CL 36 S 53</td>\n",
       "      <td>2020-01-31</td>\n",
       "      <td>2020</td>\n",
       "      <td>Enero</td>\n",
       "      <td>31</td>\n",
       "      <td>viernes</td>\n",
       "      <td>1</td>\n",
       "      <td>12</td>\n",
       "      <td>SAN CRISTÓBAL</td>\n",
       "      <td>Choque</td>\n",
       "      <td>Objeto Fijo</td>\n",
       "      <td>VEHICULO</td>\n",
       "      <td>Solo Daños</td>\n",
       "      <td>Solo Daños</td>\n",
       "    </tr>\n",
       "  </tbody>\n",
       "</table>\n",
       "</div>"
      ],
      "text/plain": [
       "        Codigo_Accidente   Longitud   Latitud                      Direccion  \\\n",
       "169947          10509738 -74.125084  4.672291                 KR 86-CL 24 02   \n",
       "169948          10509739 -74.051785  4.732306                CL 150-KR 48 12   \n",
       "169949          10509740 -74.125649  4.672324                 CL 24-KR 86 02   \n",
       "169950          10509741 -74.135092  4.542815  AV AVENIDA BOYACA-CL 15D S 02   \n",
       "169951          10509742 -74.100031  4.561922               KR 4B-CL 36 S 53   \n",
       "\n",
       "        Fecha_Acc  Año_Accidente MM_Acc  DD_Mes_Acc Dia_Semana_Acc  Hora_Acc  \\\n",
       "169947 2020-01-31           2020  Enero          31        viernes        10   \n",
       "169948 2020-01-31           2020  Enero          31        viernes        21   \n",
       "169949 2020-01-31           2020  Enero          31        viernes        10   \n",
       "169950 2020-01-31           2020  Enero          31        viernes        12   \n",
       "169951 2020-01-31           2020  Enero          31        viernes         1   \n",
       "\n",
       "        Min_Acc       Localidad Clase_Acc Elemento_Choque Tipo_Objeto_Fijo  \\\n",
       "169947       41        FONTIBÓN    Choque        Vehículo              NaN   \n",
       "169948       23            SUBA    Choque        Vehículo              NaN   \n",
       "169949       20        FONTIBÓN    Choque        Vehículo              NaN   \n",
       "169950       18  CIUDAD BOLÍVAR    Choque        Vehículo              NaN   \n",
       "169951       12   SAN CRISTÓBAL    Choque     Objeto Fijo         VEHICULO   \n",
       "\n",
       "       Gravedad_Indicador_Tradicional Gravedad_indicador_30d  \n",
       "169947                     Solo Daños             Solo Daños  \n",
       "169948                     Solo Daños             Solo Daños  \n",
       "169949                     Solo Daños             Solo Daños  \n",
       "169950                     Solo Daños             Solo Daños  \n",
       "169951                     Solo Daños             Solo Daños  "
      ]
     },
     "execution_count": 73,
     "metadata": {},
     "output_type": "execute_result"
    }
   ],
   "source": [
    "#eliminar columnas irrelevantes que no sirven para el analisis y verificamos que se hayan eliminado correctamente\n",
    "\n",
    "df_siniestros = df_siniestros.drop(columns=['Formulario'])\n",
    "\n",
    "# Verificar resultado\n",
    "df_siniestros.head()"
   ]
  },
  {
   "cell_type": "markdown",
   "id": "2a68284e",
   "metadata": {},
   "source": [
    "2 commit"
   ]
  },
  {
   "cell_type": "code",
   "execution_count": null,
   "id": "3d1fd6b8",
   "metadata": {},
   "outputs": [
    {
     "data": {
      "application/vnd.microsoft.datawrangler.viewer.v0+json": {
       "columns": [
        {
         "name": "index",
         "rawType": "int64",
         "type": "integer"
        },
        {
         "name": "Codigo_Accidente",
         "rawType": "int64",
         "type": "integer"
        },
        {
         "name": "Longitud",
         "rawType": "float64",
         "type": "float"
        },
        {
         "name": "Latitud",
         "rawType": "float64",
         "type": "float"
        },
        {
         "name": "Direccion",
         "rawType": "object",
         "type": "string"
        },
        {
         "name": "Fecha_Accidente",
         "rawType": "datetime64[ns]",
         "type": "datetime"
        },
        {
         "name": "Año_Accidente",
         "rawType": "int64",
         "type": "integer"
        },
        {
         "name": "Mes_Accidente",
         "rawType": "object",
         "type": "string"
        },
        {
         "name": "Día_Accidente",
         "rawType": "int64",
         "type": "integer"
        },
        {
         "name": "Día_Semana_Accidente",
         "rawType": "object",
         "type": "string"
        },
        {
         "name": "Hora_Accidente",
         "rawType": "int64",
         "type": "integer"
        },
        {
         "name": "Minuto_Accidente",
         "rawType": "int64",
         "type": "integer"
        },
        {
         "name": "Localidad",
         "rawType": "object",
         "type": "string"
        },
        {
         "name": "Clase_Accidente",
         "rawType": "object",
         "type": "string"
        },
        {
         "name": "Elemento_Choque",
         "rawType": "object",
         "type": "string"
        },
        {
         "name": "Tipo_Objeto_Fijo",
         "rawType": "object",
         "type": "unknown"
        },
        {
         "name": "Gravedad_Indicador_Tradicional",
         "rawType": "object",
         "type": "string"
        },
        {
         "name": "Gravedad_indicador_30d",
         "rawType": "object",
         "type": "string"
        }
       ],
       "ref": "645c8c10-1fbb-4bdf-b874-965e17478855",
       "rows": [
        [
         "169947",
         "10509738",
         "-74.125084078",
         "4.67229141000001",
         "KR 86-CL 24 02",
         "2020-01-31 00:00:00",
         "2020",
         "Enero",
         "31",
         "viernes",
         "10",
         "41",
         "FONTIBÓN",
         "Choque",
         "Vehículo",
         null,
         "Solo Daños",
         "Solo Daños"
        ],
        [
         "169948",
         "10509739",
         "-74.051785264",
         "4.732305919",
         "CL 150-KR 48 12",
         "2020-01-31 00:00:00",
         "2020",
         "Enero",
         "31",
         "viernes",
         "21",
         "23",
         "SUBA",
         "Choque",
         "Vehículo",
         null,
         "Solo Daños",
         "Solo Daños"
        ],
        [
         "169949",
         "10509740",
         "-74.125649261",
         "4.67232432899999",
         "CL 24-KR 86 02",
         "2020-01-31 00:00:00",
         "2020",
         "Enero",
         "31",
         "viernes",
         "10",
         "20",
         "FONTIBÓN",
         "Choque",
         "Vehículo",
         null,
         "Solo Daños",
         "Solo Daños"
        ],
        [
         "169950",
         "10509741",
         "-74.135092051",
         "4.542814679",
         "AV AVENIDA BOYACA-CL 15D S 02",
         "2020-01-31 00:00:00",
         "2020",
         "Enero",
         "31",
         "viernes",
         "12",
         "18",
         "CIUDAD BOLÍVAR",
         "Choque",
         "Vehículo",
         null,
         "Solo Daños",
         "Solo Daños"
        ],
        [
         "169951",
         "10509742",
         "-74.100030891",
         "4.561921665",
         "KR 4B-CL 36 S 53",
         "2020-01-31 00:00:00",
         "2020",
         "Enero",
         "31",
         "viernes",
         "1",
         "12",
         "SAN CRISTÓBAL",
         "Choque",
         "Objeto Fijo",
         "VEHICULO",
         "Solo Daños",
         "Solo Daños"
        ]
       ],
       "shape": {
        "columns": 17,
        "rows": 5
       }
      },
      "text/html": [
       "<div>\n",
       "<style scoped>\n",
       "    .dataframe tbody tr th:only-of-type {\n",
       "        vertical-align: middle;\n",
       "    }\n",
       "\n",
       "    .dataframe tbody tr th {\n",
       "        vertical-align: top;\n",
       "    }\n",
       "\n",
       "    .dataframe thead th {\n",
       "        text-align: right;\n",
       "    }\n",
       "</style>\n",
       "<table border=\"1\" class=\"dataframe\">\n",
       "  <thead>\n",
       "    <tr style=\"text-align: right;\">\n",
       "      <th></th>\n",
       "      <th>Codigo_Accidente</th>\n",
       "      <th>Longitud</th>\n",
       "      <th>Latitud</th>\n",
       "      <th>Direccion</th>\n",
       "      <th>Fecha_Accidente</th>\n",
       "      <th>Año_Accidente</th>\n",
       "      <th>Mes_Accidente</th>\n",
       "      <th>Día_Accidente</th>\n",
       "      <th>Día_Semana_Accidente</th>\n",
       "      <th>Hora_Accidente</th>\n",
       "      <th>Minuto_Accidente</th>\n",
       "      <th>Localidad</th>\n",
       "      <th>Clase_Accidente</th>\n",
       "      <th>Elemento_Choque</th>\n",
       "      <th>Tipo_Objeto_Fijo</th>\n",
       "      <th>Gravedad_Indicador_Tradicional</th>\n",
       "      <th>Gravedad_indicador_30d</th>\n",
       "    </tr>\n",
       "  </thead>\n",
       "  <tbody>\n",
       "    <tr>\n",
       "      <th>169947</th>\n",
       "      <td>10509738</td>\n",
       "      <td>-74.125084</td>\n",
       "      <td>4.672291</td>\n",
       "      <td>KR 86-CL 24 02</td>\n",
       "      <td>2020-01-31</td>\n",
       "      <td>2020</td>\n",
       "      <td>Enero</td>\n",
       "      <td>31</td>\n",
       "      <td>viernes</td>\n",
       "      <td>10</td>\n",
       "      <td>41</td>\n",
       "      <td>FONTIBÓN</td>\n",
       "      <td>Choque</td>\n",
       "      <td>Vehículo</td>\n",
       "      <td>NaN</td>\n",
       "      <td>Solo Daños</td>\n",
       "      <td>Solo Daños</td>\n",
       "    </tr>\n",
       "    <tr>\n",
       "      <th>169948</th>\n",
       "      <td>10509739</td>\n",
       "      <td>-74.051785</td>\n",
       "      <td>4.732306</td>\n",
       "      <td>CL 150-KR 48 12</td>\n",
       "      <td>2020-01-31</td>\n",
       "      <td>2020</td>\n",
       "      <td>Enero</td>\n",
       "      <td>31</td>\n",
       "      <td>viernes</td>\n",
       "      <td>21</td>\n",
       "      <td>23</td>\n",
       "      <td>SUBA</td>\n",
       "      <td>Choque</td>\n",
       "      <td>Vehículo</td>\n",
       "      <td>NaN</td>\n",
       "      <td>Solo Daños</td>\n",
       "      <td>Solo Daños</td>\n",
       "    </tr>\n",
       "    <tr>\n",
       "      <th>169949</th>\n",
       "      <td>10509740</td>\n",
       "      <td>-74.125649</td>\n",
       "      <td>4.672324</td>\n",
       "      <td>CL 24-KR 86 02</td>\n",
       "      <td>2020-01-31</td>\n",
       "      <td>2020</td>\n",
       "      <td>Enero</td>\n",
       "      <td>31</td>\n",
       "      <td>viernes</td>\n",
       "      <td>10</td>\n",
       "      <td>20</td>\n",
       "      <td>FONTIBÓN</td>\n",
       "      <td>Choque</td>\n",
       "      <td>Vehículo</td>\n",
       "      <td>NaN</td>\n",
       "      <td>Solo Daños</td>\n",
       "      <td>Solo Daños</td>\n",
       "    </tr>\n",
       "    <tr>\n",
       "      <th>169950</th>\n",
       "      <td>10509741</td>\n",
       "      <td>-74.135092</td>\n",
       "      <td>4.542815</td>\n",
       "      <td>AV AVENIDA BOYACA-CL 15D S 02</td>\n",
       "      <td>2020-01-31</td>\n",
       "      <td>2020</td>\n",
       "      <td>Enero</td>\n",
       "      <td>31</td>\n",
       "      <td>viernes</td>\n",
       "      <td>12</td>\n",
       "      <td>18</td>\n",
       "      <td>CIUDAD BOLÍVAR</td>\n",
       "      <td>Choque</td>\n",
       "      <td>Vehículo</td>\n",
       "      <td>NaN</td>\n",
       "      <td>Solo Daños</td>\n",
       "      <td>Solo Daños</td>\n",
       "    </tr>\n",
       "    <tr>\n",
       "      <th>169951</th>\n",
       "      <td>10509742</td>\n",
       "      <td>-74.100031</td>\n",
       "      <td>4.561922</td>\n",
       "      <td>KR 4B-CL 36 S 53</td>\n",
       "      <td>2020-01-31</td>\n",
       "      <td>2020</td>\n",
       "      <td>Enero</td>\n",
       "      <td>31</td>\n",
       "      <td>viernes</td>\n",
       "      <td>1</td>\n",
       "      <td>12</td>\n",
       "      <td>SAN CRISTÓBAL</td>\n",
       "      <td>Choque</td>\n",
       "      <td>Objeto Fijo</td>\n",
       "      <td>VEHICULO</td>\n",
       "      <td>Solo Daños</td>\n",
       "      <td>Solo Daños</td>\n",
       "    </tr>\n",
       "  </tbody>\n",
       "</table>\n",
       "</div>"
      ],
      "text/plain": [
       "        Codigo_Accidente   Longitud   Latitud                      Direccion  \\\n",
       "169947          10509738 -74.125084  4.672291                 KR 86-CL 24 02   \n",
       "169948          10509739 -74.051785  4.732306                CL 150-KR 48 12   \n",
       "169949          10509740 -74.125649  4.672324                 CL 24-KR 86 02   \n",
       "169950          10509741 -74.135092  4.542815  AV AVENIDA BOYACA-CL 15D S 02   \n",
       "169951          10509742 -74.100031  4.561922               KR 4B-CL 36 S 53   \n",
       "\n",
       "       Fecha_Accidente  Año_Accidente Mes_Accidente  Día_Accidente  \\\n",
       "169947      2020-01-31           2020         Enero             31   \n",
       "169948      2020-01-31           2020         Enero             31   \n",
       "169949      2020-01-31           2020         Enero             31   \n",
       "169950      2020-01-31           2020         Enero             31   \n",
       "169951      2020-01-31           2020         Enero             31   \n",
       "\n",
       "       Día_Semana_Accidente  Hora_Accidente  Minuto_Accidente       Localidad  \\\n",
       "169947              viernes              10                41        FONTIBÓN   \n",
       "169948              viernes              21                23            SUBA   \n",
       "169949              viernes              10                20        FONTIBÓN   \n",
       "169950              viernes              12                18  CIUDAD BOLÍVAR   \n",
       "169951              viernes               1                12   SAN CRISTÓBAL   \n",
       "\n",
       "       Clase_Accidente Elemento_Choque Tipo_Objeto_Fijo  \\\n",
       "169947          Choque        Vehículo              NaN   \n",
       "169948          Choque        Vehículo              NaN   \n",
       "169949          Choque        Vehículo              NaN   \n",
       "169950          Choque        Vehículo              NaN   \n",
       "169951          Choque     Objeto Fijo         VEHICULO   \n",
       "\n",
       "       Gravedad_Indicador_Tradicional Gravedad_indicador_30d  \n",
       "169947                     Solo Daños             Solo Daños  \n",
       "169948                     Solo Daños             Solo Daños  \n",
       "169949                     Solo Daños             Solo Daños  \n",
       "169950                     Solo Daños             Solo Daños  \n",
       "169951                     Solo Daños             Solo Daños  "
      ]
     },
     "execution_count": 75,
     "metadata": {},
     "output_type": "execute_result"
    }
   ],
   "source": [
    "# renombramiento de columnas para un mejor entendimiento de las mismas, validacion\n",
    "df_siniestros = df_siniestros.rename(columns={\n",
    "    \"Fecha_Acc\": \"Fecha_Accidente\",\n",
    "    \"MM_Acc\": \"Mes_Accidente\",\n",
    "    \"DD_Acc\": \"Día_Accidente\",\n",
    "    \"DD_Mes_Acc\": \"Día_Accidente\",\n",
    "    \"Dia_Semana_Acc\": \"Día_Semana_Accidente\",\n",
    "    \"Hora_Acc\": \"Hora_Accidente\",\n",
    "    \"Min_Acc\": \"Minuto_Accidente\",\n",
    "    \"Clase_Acc\": \"Clase_Accidente\",\n",
    "})\n",
    "df_siniestros.head()"
   ]
  },
  {
   "cell_type": "code",
   "execution_count": null,
   "id": "550a744a",
   "metadata": {},
   "outputs": [
    {
     "data": {
      "text/plain": [
       "array([nan, 'Vehiculo', 'Tren', 'Arbol', 'Semaforo', 'Objeto fijo',\n",
       "       'Poste', 'Inmueble', 'Muro', 'Semoviente', 'Por identificar',\n",
       "       'Baranda', 'Vehiculo estacionado', 'Valla-señal', 'Otro',\n",
       "       'Tarima-caseta', 'Hidrante'], dtype=object)"
      ]
     },
     "execution_count": 77,
     "metadata": {},
     "output_type": "execute_result"
    }
   ],
   "source": [
    "#normalizar los registros de la columna Tipo_Objeto_Fijo, validacion de cambios\n",
    "df_siniestros['Tipo_Objeto_Fijo'] = df_siniestros['Tipo_Objeto_Fijo'].str.capitalize()\n",
    "df_siniestros['Tipo_Objeto_Fijo'].unique()"
   ]
  },
  {
   "cell_type": "code",
   "execution_count": 79,
   "id": "7f630cf3",
   "metadata": {},
   "outputs": [
    {
     "data": {
      "text/plain": [
       "np.int64(0)"
      ]
     },
     "execution_count": 79,
     "metadata": {},
     "output_type": "execute_result"
    }
   ],
   "source": [
    "#imputacions de datos faltantes en la columna Tipo_Objeto_Fijo con el valor \"No aplica\"\n",
    "df_siniestros['Tipo_Objeto_Fijo'] = df_siniestros['Tipo_Objeto_Fijo'].fillna('No aplica')\n",
    "df_siniestros['Tipo_Objeto_Fijo'].isnull().sum()"
   ]
  },
  {
   "cell_type": "code",
   "execution_count": 80,
   "id": "d7a3a49c",
   "metadata": {},
   "outputs": [
    {
     "data": {
      "text/plain": [
       "array(['No aplica', 'Vehiculo', 'Tren', 'Arbol', 'Semaforo',\n",
       "       'Objeto fijo', 'Poste', 'Inmueble', 'Muro', 'Semoviente',\n",
       "       'Por identificar', 'Baranda', 'Vehiculo estacionado',\n",
       "       'Valla-señal', 'Otro', 'Tarima-caseta', 'Hidrante'], dtype=object)"
      ]
     },
     "execution_count": 80,
     "metadata": {},
     "output_type": "execute_result"
    }
   ],
   "source": [
    "df_siniestros['Tipo_Objeto_Fijo'].unique()"
   ]
  },
  {
   "cell_type": "code",
   "execution_count": 81,
   "id": "8c9342a2",
   "metadata": {},
   "outputs": [
    {
     "data": {
      "text/plain": [
       "np.int64(0)"
      ]
     },
     "execution_count": 81,
     "metadata": {},
     "output_type": "execute_result"
    }
   ],
   "source": [
    "#imputacion de datos faltantes en la columna elemento_choque con el valor \"Sin informacion\"\n",
    "df_siniestros['Elemento_Choque'] = df_siniestros['Elemento_Choque'].fillna('Sin informacion')\n",
    "df_siniestros['Elemento_Choque'].isnull().sum()"
   ]
  },
  {
   "cell_type": "code",
   "execution_count": 82,
   "id": "8a607556",
   "metadata": {},
   "outputs": [
    {
     "data": {
      "text/plain": [
       "array(['Vehículo', 'Objeto Fijo', 'Sin informacion', 'Semoviente', 'Tren'],\n",
       "      dtype=object)"
      ]
     },
     "execution_count": 82,
     "metadata": {},
     "output_type": "execute_result"
    }
   ],
   "source": [
    "df_siniestros['Elemento_Choque'].unique()"
   ]
  },
  {
   "cell_type": "code",
   "execution_count": 83,
   "id": "01685598",
   "metadata": {},
   "outputs": [
    {
     "data": {
      "text/plain": [
       "array(['Fontibón', 'Suba', 'Ciudad bolívar', 'San cristóbal', 'Bosa',\n",
       "       'Kennedy', 'Usaquén', 'Chapinero', 'Engativá', 'Los mártires',\n",
       "       'Barrios unidos', 'Puente aranda', 'Candelaria', 'Santa fe',\n",
       "       'Teusaquillo', 'Tunjuelito', 'Antonio nariño',\n",
       "       'Rafael uribe uribe', 'Usme', 'Sumapaz'], dtype=object)"
      ]
     },
     "execution_count": 83,
     "metadata": {},
     "output_type": "execute_result"
    }
   ],
   "source": [
    "#normalizar los registros de la columna Localidad, validacion de cambios\n",
    "df_siniestros['Localidad'] = df_siniestros['Localidad'].str.capitalize()\n",
    "df_siniestros['Localidad'].unique()"
   ]
  },
  {
   "cell_type": "code",
   "execution_count": 85,
   "id": "42a06cbf",
   "metadata": {},
   "outputs": [
    {
     "data": {
      "application/vnd.microsoft.datawrangler.viewer.v0+json": {
       "columns": [
        {
         "name": "index",
         "rawType": "object",
         "type": "string"
        },
        {
         "name": "0",
         "rawType": "int64",
         "type": "integer"
        }
       ],
       "ref": "364193a5-5d9f-4d30-ad12-7f6de3fc03f2",
       "rows": [
        [
         "Codigo_Accidente",
         "0"
        ],
        [
         "Longitud",
         "288"
        ],
        [
         "Latitud",
         "288"
        ],
        [
         "Direccion",
         "0"
        ],
        [
         "Fecha_Accidente",
         "0"
        ],
        [
         "Año_Accidente",
         "0"
        ],
        [
         "Mes_Accidente",
         "0"
        ],
        [
         "Día_Accidente",
         "0"
        ],
        [
         "Día_Semana_Accidente",
         "0"
        ],
        [
         "Hora_Accidente",
         "0"
        ],
        [
         "Minuto_Accidente",
         "0"
        ],
        [
         "Localidad",
         "0"
        ],
        [
         "Clase_Accidente",
         "0"
        ],
        [
         "Elemento_Choque",
         "0"
        ],
        [
         "Tipo_Objeto_Fijo",
         "0"
        ],
        [
         "Gravedad_Indicador_Tradicional",
         "0"
        ],
        [
         "Gravedad_indicador_30d",
         "11"
        ]
       ],
       "shape": {
        "columns": 1,
        "rows": 17
       }
      },
      "text/plain": [
       "Codigo_Accidente                    0\n",
       "Longitud                          288\n",
       "Latitud                           288\n",
       "Direccion                           0\n",
       "Fecha_Accidente                     0\n",
       "Año_Accidente                       0\n",
       "Mes_Accidente                       0\n",
       "Día_Accidente                       0\n",
       "Día_Semana_Accidente                0\n",
       "Hora_Accidente                      0\n",
       "Minuto_Accidente                    0\n",
       "Localidad                           0\n",
       "Clase_Accidente                     0\n",
       "Elemento_Choque                     0\n",
       "Tipo_Objeto_Fijo                    0\n",
       "Gravedad_Indicador_Tradicional      0\n",
       "Gravedad_indicador_30d             11\n",
       "dtype: int64"
      ]
     },
     "execution_count": 85,
     "metadata": {},
     "output_type": "execute_result"
    }
   ],
   "source": [
    "df_siniestros.isnull().sum()"
   ]
  },
  {
   "cell_type": "code",
   "execution_count": 88,
   "id": "e24b344f",
   "metadata": {},
   "outputs": [
    {
     "data": {
      "text/plain": [
       "np.int64(0)"
      ]
     },
     "execution_count": 88,
     "metadata": {},
     "output_type": "execute_result"
    }
   ],
   "source": [
    "#imputacion de datos faltantes en la columna Gravedad_indicador_30 con el valor \"Sin informacion\"\n",
    "df_siniestros['Gravedad_indicador_30d'] = df_siniestros['Gravedad_indicador_30d'].fillna('Sin informacion')\n",
    "df_siniestros['Gravedad_indicador_30d'].isnull().sum()"
   ]
  },
  {
   "cell_type": "code",
   "execution_count": 89,
   "id": "b110aa68",
   "metadata": {},
   "outputs": [
    {
     "data": {
      "application/vnd.microsoft.datawrangler.viewer.v0+json": {
       "columns": [
        {
         "name": "index",
         "rawType": "object",
         "type": "string"
        },
        {
         "name": "0",
         "rawType": "int64",
         "type": "integer"
        }
       ],
       "ref": "3f3c3a78-aa42-4116-a80b-bfcb62c4f46a",
       "rows": [
        [
         "Codigo_Accidente",
         "0"
        ],
        [
         "Longitud",
         "288"
        ],
        [
         "Latitud",
         "288"
        ],
        [
         "Direccion",
         "0"
        ],
        [
         "Fecha_Accidente",
         "0"
        ],
        [
         "Año_Accidente",
         "0"
        ],
        [
         "Mes_Accidente",
         "0"
        ],
        [
         "Día_Accidente",
         "0"
        ],
        [
         "Día_Semana_Accidente",
         "0"
        ],
        [
         "Hora_Accidente",
         "0"
        ],
        [
         "Minuto_Accidente",
         "0"
        ],
        [
         "Localidad",
         "0"
        ],
        [
         "Clase_Accidente",
         "0"
        ],
        [
         "Elemento_Choque",
         "0"
        ],
        [
         "Tipo_Objeto_Fijo",
         "0"
        ],
        [
         "Gravedad_Indicador_Tradicional",
         "0"
        ],
        [
         "Gravedad_indicador_30d",
         "0"
        ]
       ],
       "shape": {
        "columns": 1,
        "rows": 17
       }
      },
      "text/plain": [
       "Codigo_Accidente                    0\n",
       "Longitud                          288\n",
       "Latitud                           288\n",
       "Direccion                           0\n",
       "Fecha_Accidente                     0\n",
       "Año_Accidente                       0\n",
       "Mes_Accidente                       0\n",
       "Día_Accidente                       0\n",
       "Día_Semana_Accidente                0\n",
       "Hora_Accidente                      0\n",
       "Minuto_Accidente                    0\n",
       "Localidad                           0\n",
       "Clase_Accidente                     0\n",
       "Elemento_Choque                     0\n",
       "Tipo_Objeto_Fijo                    0\n",
       "Gravedad_Indicador_Tradicional      0\n",
       "Gravedad_indicador_30d              0\n",
       "dtype: int64"
      ]
     },
     "execution_count": 89,
     "metadata": {},
     "output_type": "execute_result"
    }
   ],
   "source": [
    "df_siniestros.isnull().sum()"
   ]
  },
  {
   "cell_type": "code",
   "execution_count": null,
   "id": "0e56d521",
   "metadata": {},
   "outputs": [],
   "source": []
  }
 ],
 "metadata": {
  "kernelspec": {
   "display_name": "Python 3",
   "language": "python",
   "name": "python3"
  },
  "language_info": {
   "codemirror_mode": {
    "name": "ipython",
    "version": 3
   },
   "file_extension": ".py",
   "mimetype": "text/x-python",
   "name": "python",
   "nbconvert_exporter": "python",
   "pygments_lexer": "ipython3",
   "version": "3.13.7"
  }
 },
 "nbformat": 4,
 "nbformat_minor": 5
}
