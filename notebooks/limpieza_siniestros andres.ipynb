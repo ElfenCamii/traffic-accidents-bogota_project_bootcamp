{
 "cells": [
  {
   "cell_type": "code",
   "execution_count": 1,
   "id": "0d4e93fa",
   "metadata": {},
   "outputs": [
    {
     "name": "stdout",
     "output_type": "stream",
     "text": [
      "Hojas disponibles en el archivo:\n",
      "['Siniestros', 'Vehiculos', 'Actor_vial', 'Limpieza de datos', 'Diccionario']\n"
     ]
    }
   ],
   "source": [
    "import pandas as pd\n",
    "excel_path = \"C:\\\\Users\\\\andre\\\\OneDrive\\\\Documentos\\\\bootcamp analisis de datos\\\\analisis de datos\\\\proyecto_analisis_de_datos.py\\\\base_anuario_de_siniestralidad_2024_Final.xlsx\"\n",
    "archivo_excel = pd.ExcelFile(excel_path)\n",
    "\n",
    "# Ver las hojas disponibles\n",
    "print(\"Hojas disponibles en el archivo:\")\n",
    "print(archivo_excel.sheet_names)"
   ]
  },
  {
   "cell_type": "code",
   "execution_count": 2,
   "id": "1622ef62",
   "metadata": {},
   "outputs": [
    {
     "data": {
      "application/vnd.microsoft.datawrangler.viewer.v0+json": {
       "columns": [
        {
         "name": "index",
         "rawType": "int64",
         "type": "integer"
        },
        {
         "name": "Codigo_Accidente",
         "rawType": "int64",
         "type": "integer"
        },
        {
         "name": "Formulario",
         "rawType": "object",
         "type": "string"
        },
        {
         "name": "Longitud",
         "rawType": "float64",
         "type": "float"
        },
        {
         "name": "Latitud",
         "rawType": "float64",
         "type": "float"
        },
        {
         "name": "Direccion",
         "rawType": "object",
         "type": "string"
        },
        {
         "name": "Fecha_Acc",
         "rawType": "datetime64[ns]",
         "type": "datetime"
        },
        {
         "name": "AA_Acc",
         "rawType": "int64",
         "type": "integer"
        },
        {
         "name": "MM_Acc",
         "rawType": "object",
         "type": "string"
        },
        {
         "name": "DD_Mes_Acc",
         "rawType": "int64",
         "type": "integer"
        },
        {
         "name": "Dia_Semana_Acc",
         "rawType": "object",
         "type": "string"
        },
        {
         "name": "Hora_Acc",
         "rawType": "int64",
         "type": "integer"
        },
        {
         "name": "Min_Acc",
         "rawType": "int64",
         "type": "integer"
        },
        {
         "name": "Localidad",
         "rawType": "object",
         "type": "string"
        },
        {
         "name": "Clase_Acc",
         "rawType": "object",
         "type": "string"
        },
        {
         "name": "Elemento_Choque",
         "rawType": "object",
         "type": "unknown"
        },
        {
         "name": "Tipo_Objeto_Fijo",
         "rawType": "object",
         "type": "unknown"
        },
        {
         "name": "Gravedad_Indicador_Tradicional",
         "rawType": "object",
         "type": "string"
        },
        {
         "name": "Gravedad_indicador_30d",
         "rawType": "object",
         "type": "string"
        },
        {
         "name": "Con_Bicicleta",
         "rawType": "object",
         "type": "unknown"
        },
        {
         "name": "Con_Carga",
         "rawType": "object",
         "type": "unknown"
        },
        {
         "name": "Con_Embriaguez",
         "rawType": "object",
         "type": "unknown"
        },
        {
         "name": "Con_Huecos",
         "rawType": "object",
         "type": "unknown"
        },
        {
         "name": "Con_Menores",
         "rawType": "object",
         "type": "unknown"
        },
        {
         "name": "Con_Moto",
         "rawType": "object",
         "type": "unknown"
        },
        {
         "name": "Con_Peaton",
         "rawType": "object",
         "type": "unknown"
        },
        {
         "name": "Con_Persona_Mayor",
         "rawType": "object",
         "type": "unknown"
        },
        {
         "name": "Con_Rutas",
         "rawType": "object",
         "type": "unknown"
        },
        {
         "name": "Con_Tpi",
         "rawType": "object",
         "type": "unknown"
        },
        {
         "name": "Con_Tpp",
         "rawType": "object",
         "type": "unknown"
        },
        {
         "name": "Con_Velocidad",
         "rawType": "object",
         "type": "unknown"
        },
        {
         "name": "Con_Sitp",
         "rawType": "object",
         "type": "unknown"
        },
        {
         "name": "Con_Troncal",
         "rawType": "object",
         "type": "unknown"
        },
        {
         "name": "Con_Alimentador",
         "rawType": "object",
         "type": "unknown"
        },
        {
         "name": "Con_Zonal",
         "rawType": "object",
         "type": "unknown"
        },
        {
         "name": "Con_Provisional",
         "rawType": "object",
         "type": "unknown"
        },
        {
         "name": "Con_Articulado",
         "rawType": "object",
         "type": "unknown"
        },
        {
         "name": "Con_Biarticulado",
         "rawType": "object",
         "type": "unknown"
        },
        {
         "name": "Con_Padron_Dual",
         "rawType": "object",
         "type": "unknown"
        },
        {
         "name": "Con_Servicio_Especial",
         "rawType": "object",
         "type": "unknown"
        },
        {
         "name": "Con_Taxi",
         "rawType": "object",
         "type": "unknown"
        }
       ],
       "ref": "b38281a6-7899-4593-a767-3ef76a0e1f1f",
       "rows": [
        [
         "0",
         "4404210",
         "A685",
         "-74.18138725",
         "4.62197757199999",
         "AV AVENIDA CIUDAD DE CALI-KR 55 S 02",
         "2015-02-09 00:00:00",
         "2015",
         "Febrero",
         "9",
         "lunes",
         "20",
         "40",
         "BOSA",
         "Choque",
         "Vehículo",
         null,
         "Con Muertos",
         "Con Muertos",
         "SI",
         null,
         null,
         null,
         "SI",
         "SI",
         null,
         null,
         null,
         null,
         null,
         "SI",
         null,
         null,
         null,
         null,
         null,
         null,
         null,
         null,
         null,
         null
        ],
        [
         "1",
         "4404211",
         "A666",
         "-74.02730421",
         "4.76290062999999",
         "AK 7-CL 186 02",
         "2015-02-06 00:00:00",
         "2015",
         "Febrero",
         "6",
         "viernes",
         "15",
         "50",
         "USAQUÉN",
         "Choque",
         "Vehículo",
         null,
         "Solo Daños",
         "Solo Daños",
         null,
         null,
         null,
         null,
         null,
         null,
         null,
         null,
         null,
         null,
         "SI",
         null,
         "SI",
         null,
         null,
         "SI",
         null,
         null,
         null,
         null,
         null,
         null
        ],
        [
         "2",
         "4404212",
         "A698",
         "-74.053529428",
         "4.70693908599998",
         "KR 45-CL 127 02",
         "2015-02-07 00:00:00",
         "2015",
         "Febrero",
         "7",
         "sábado",
         "12",
         "30",
         "USAQUÉN",
         "Choque",
         "Vehículo",
         null,
         "Solo Daños",
         "Solo Daños",
         null,
         null,
         null,
         null,
         "SI",
         null,
         null,
         null,
         null,
         null,
         null,
         null,
         null,
         null,
         null,
         null,
         null,
         null,
         null,
         null,
         null,
         null
        ],
        [
         "3",
         "4404213",
         "A000042495",
         "-74.09956267",
         "4.57625629500001",
         "KR 12-CL 24 S 06",
         "2015-02-09 00:00:00",
         "2015",
         "Febrero",
         "9",
         "lunes",
         "13",
         "45",
         "RAFAEL URIBE URIBE",
         "Volcamiento",
         null,
         null,
         "Con Muertos",
         "Con Muertos",
         "SI",
         null,
         null,
         null,
         null,
         null,
         null,
         "SI",
         null,
         null,
         null,
         null,
         null,
         null,
         null,
         null,
         null,
         null,
         null,
         null,
         null,
         null
        ],
        [
         "4",
         "4404214",
         "A644",
         "-74.09166659",
         "4.52408001999999",
         "CL 70-KR 11D SE 04",
         "2015-02-08 00:00:00",
         "2015",
         "Febrero",
         "8",
         "domingo",
         "10",
         "58",
         "SAN CRISTÓBAL",
         "Choque",
         "Vehículo",
         null,
         "Solo Daños",
         "Solo Daños",
         null,
         "SI",
         null,
         null,
         null,
         null,
         null,
         null,
         null,
         null,
         null,
         null,
         null,
         null,
         null,
         null,
         null,
         null,
         null,
         null,
         null,
         null
        ]
       ],
       "shape": {
        "columns": 40,
        "rows": 5
       }
      },
      "text/html": [
       "<div>\n",
       "<style scoped>\n",
       "    .dataframe tbody tr th:only-of-type {\n",
       "        vertical-align: middle;\n",
       "    }\n",
       "\n",
       "    .dataframe tbody tr th {\n",
       "        vertical-align: top;\n",
       "    }\n",
       "\n",
       "    .dataframe thead th {\n",
       "        text-align: right;\n",
       "    }\n",
       "</style>\n",
       "<table border=\"1\" class=\"dataframe\">\n",
       "  <thead>\n",
       "    <tr style=\"text-align: right;\">\n",
       "      <th></th>\n",
       "      <th>Codigo_Accidente</th>\n",
       "      <th>Formulario</th>\n",
       "      <th>Longitud</th>\n",
       "      <th>Latitud</th>\n",
       "      <th>Direccion</th>\n",
       "      <th>Fecha_Acc</th>\n",
       "      <th>AA_Acc</th>\n",
       "      <th>MM_Acc</th>\n",
       "      <th>DD_Mes_Acc</th>\n",
       "      <th>Dia_Semana_Acc</th>\n",
       "      <th>...</th>\n",
       "      <th>Con_Sitp</th>\n",
       "      <th>Con_Troncal</th>\n",
       "      <th>Con_Alimentador</th>\n",
       "      <th>Con_Zonal</th>\n",
       "      <th>Con_Provisional</th>\n",
       "      <th>Con_Articulado</th>\n",
       "      <th>Con_Biarticulado</th>\n",
       "      <th>Con_Padron_Dual</th>\n",
       "      <th>Con_Servicio_Especial</th>\n",
       "      <th>Con_Taxi</th>\n",
       "    </tr>\n",
       "  </thead>\n",
       "  <tbody>\n",
       "    <tr>\n",
       "      <th>0</th>\n",
       "      <td>4404210</td>\n",
       "      <td>A685</td>\n",
       "      <td>-74.181387</td>\n",
       "      <td>4.621978</td>\n",
       "      <td>AV AVENIDA CIUDAD DE CALI-KR 55 S 02</td>\n",
       "      <td>2015-02-09</td>\n",
       "      <td>2015</td>\n",
       "      <td>Febrero</td>\n",
       "      <td>9</td>\n",
       "      <td>lunes</td>\n",
       "      <td>...</td>\n",
       "      <td>NaN</td>\n",
       "      <td>NaN</td>\n",
       "      <td>NaN</td>\n",
       "      <td>NaN</td>\n",
       "      <td>NaN</td>\n",
       "      <td>NaN</td>\n",
       "      <td>NaN</td>\n",
       "      <td>NaN</td>\n",
       "      <td>NaN</td>\n",
       "      <td>NaN</td>\n",
       "    </tr>\n",
       "    <tr>\n",
       "      <th>1</th>\n",
       "      <td>4404211</td>\n",
       "      <td>A666</td>\n",
       "      <td>-74.027304</td>\n",
       "      <td>4.762901</td>\n",
       "      <td>AK 7-CL 186 02</td>\n",
       "      <td>2015-02-06</td>\n",
       "      <td>2015</td>\n",
       "      <td>Febrero</td>\n",
       "      <td>6</td>\n",
       "      <td>viernes</td>\n",
       "      <td>...</td>\n",
       "      <td>SI</td>\n",
       "      <td>NaN</td>\n",
       "      <td>NaN</td>\n",
       "      <td>SI</td>\n",
       "      <td>NaN</td>\n",
       "      <td>NaN</td>\n",
       "      <td>NaN</td>\n",
       "      <td>NaN</td>\n",
       "      <td>NaN</td>\n",
       "      <td>NaN</td>\n",
       "    </tr>\n",
       "    <tr>\n",
       "      <th>2</th>\n",
       "      <td>4404212</td>\n",
       "      <td>A698</td>\n",
       "      <td>-74.053529</td>\n",
       "      <td>4.706939</td>\n",
       "      <td>KR 45-CL 127 02</td>\n",
       "      <td>2015-02-07</td>\n",
       "      <td>2015</td>\n",
       "      <td>Febrero</td>\n",
       "      <td>7</td>\n",
       "      <td>sábado</td>\n",
       "      <td>...</td>\n",
       "      <td>NaN</td>\n",
       "      <td>NaN</td>\n",
       "      <td>NaN</td>\n",
       "      <td>NaN</td>\n",
       "      <td>NaN</td>\n",
       "      <td>NaN</td>\n",
       "      <td>NaN</td>\n",
       "      <td>NaN</td>\n",
       "      <td>NaN</td>\n",
       "      <td>NaN</td>\n",
       "    </tr>\n",
       "    <tr>\n",
       "      <th>3</th>\n",
       "      <td>4404213</td>\n",
       "      <td>A000042495</td>\n",
       "      <td>-74.099563</td>\n",
       "      <td>4.576256</td>\n",
       "      <td>KR 12-CL 24 S 06</td>\n",
       "      <td>2015-02-09</td>\n",
       "      <td>2015</td>\n",
       "      <td>Febrero</td>\n",
       "      <td>9</td>\n",
       "      <td>lunes</td>\n",
       "      <td>...</td>\n",
       "      <td>NaN</td>\n",
       "      <td>NaN</td>\n",
       "      <td>NaN</td>\n",
       "      <td>NaN</td>\n",
       "      <td>NaN</td>\n",
       "      <td>NaN</td>\n",
       "      <td>NaN</td>\n",
       "      <td>NaN</td>\n",
       "      <td>NaN</td>\n",
       "      <td>NaN</td>\n",
       "    </tr>\n",
       "    <tr>\n",
       "      <th>4</th>\n",
       "      <td>4404214</td>\n",
       "      <td>A644</td>\n",
       "      <td>-74.091667</td>\n",
       "      <td>4.524080</td>\n",
       "      <td>CL 70-KR 11D SE 04</td>\n",
       "      <td>2015-02-08</td>\n",
       "      <td>2015</td>\n",
       "      <td>Febrero</td>\n",
       "      <td>8</td>\n",
       "      <td>domingo</td>\n",
       "      <td>...</td>\n",
       "      <td>NaN</td>\n",
       "      <td>NaN</td>\n",
       "      <td>NaN</td>\n",
       "      <td>NaN</td>\n",
       "      <td>NaN</td>\n",
       "      <td>NaN</td>\n",
       "      <td>NaN</td>\n",
       "      <td>NaN</td>\n",
       "      <td>NaN</td>\n",
       "      <td>NaN</td>\n",
       "    </tr>\n",
       "  </tbody>\n",
       "</table>\n",
       "<p>5 rows × 40 columns</p>\n",
       "</div>"
      ],
      "text/plain": [
       "   Codigo_Accidente  Formulario   Longitud   Latitud  \\\n",
       "0           4404210        A685 -74.181387  4.621978   \n",
       "1           4404211        A666 -74.027304  4.762901   \n",
       "2           4404212        A698 -74.053529  4.706939   \n",
       "3           4404213  A000042495 -74.099563  4.576256   \n",
       "4           4404214        A644 -74.091667  4.524080   \n",
       "\n",
       "                              Direccion  Fecha_Acc  AA_Acc   MM_Acc  \\\n",
       "0  AV AVENIDA CIUDAD DE CALI-KR 55 S 02 2015-02-09    2015  Febrero   \n",
       "1                        AK 7-CL 186 02 2015-02-06    2015  Febrero   \n",
       "2                       KR 45-CL 127 02 2015-02-07    2015  Febrero   \n",
       "3                      KR 12-CL 24 S 06 2015-02-09    2015  Febrero   \n",
       "4                    CL 70-KR 11D SE 04 2015-02-08    2015  Febrero   \n",
       "\n",
       "   DD_Mes_Acc Dia_Semana_Acc  ...  Con_Sitp  Con_Troncal Con_Alimentador  \\\n",
       "0           9          lunes  ...       NaN          NaN             NaN   \n",
       "1           6        viernes  ...        SI          NaN             NaN   \n",
       "2           7         sábado  ...       NaN          NaN             NaN   \n",
       "3           9          lunes  ...       NaN          NaN             NaN   \n",
       "4           8        domingo  ...       NaN          NaN             NaN   \n",
       "\n",
       "  Con_Zonal Con_Provisional Con_Articulado Con_Biarticulado Con_Padron_Dual  \\\n",
       "0       NaN             NaN            NaN              NaN             NaN   \n",
       "1        SI             NaN            NaN              NaN             NaN   \n",
       "2       NaN             NaN            NaN              NaN             NaN   \n",
       "3       NaN             NaN            NaN              NaN             NaN   \n",
       "4       NaN             NaN            NaN              NaN             NaN   \n",
       "\n",
       "  Con_Servicio_Especial Con_Taxi  \n",
       "0                   NaN      NaN  \n",
       "1                   NaN      NaN  \n",
       "2                   NaN      NaN  \n",
       "3                   NaN      NaN  \n",
       "4                   NaN      NaN  \n",
       "\n",
       "[5 rows x 40 columns]"
      ]
     },
     "execution_count": 2,
     "metadata": {},
     "output_type": "execute_result"
    }
   ],
   "source": [
    "#cargar la hoja 'Siniestros' es mi hoja de interes segun el analisis previo y la asignacion de tareas\n",
    "df_siniestros = pd.read_excel(excel_path, sheet_name='Siniestros')\n",
    "df_siniestros.head()"
   ]
  },
  {
   "cell_type": "code",
   "execution_count": 3,
   "id": "8323e904",
   "metadata": {},
   "outputs": [
    {
     "data": {
      "text/plain": [
       "(278614, 40)"
      ]
     },
     "execution_count": 3,
     "metadata": {},
     "output_type": "execute_result"
    }
   ],
   "source": [
    "#verificar las filas y columnas disponibles\n",
    "df_siniestros.shape"
   ]
  },
  {
   "cell_type": "code",
   "execution_count": 4,
   "id": "014e1c1c",
   "metadata": {},
   "outputs": [
    {
     "name": "stdout",
     "output_type": "stream",
     "text": [
      "Columnas disponibles:\n",
      "1. Codigo_Accidente\n",
      "2. Formulario\n",
      "3. Longitud\n",
      "4. Latitud\n",
      "5. Direccion\n",
      "6. Fecha_Acc\n",
      "7. AA_Acc\n",
      "8. MM_Acc\n",
      "9. DD_Mes_Acc\n",
      "10. Dia_Semana_Acc\n",
      "11. Hora_Acc\n",
      "12. Min_Acc\n",
      "13. Localidad\n",
      "14. Clase_Acc\n",
      "15. Elemento_Choque\n",
      "16. Tipo_Objeto_Fijo\n",
      "17. Gravedad_Indicador_Tradicional\n",
      "18. Gravedad_indicador_30d\n",
      "19. Con_Bicicleta\n",
      "20. Con_Carga\n",
      "21. Con_Embriaguez\n",
      "22. Con_Huecos\n",
      "23. Con_Menores\n",
      "24. Con_Moto\n",
      "25. Con_Peaton\n",
      "26. Con_Persona_Mayor\n",
      "27. Con_Rutas\n",
      "28. Con_Tpi\n",
      "29. Con_Tpp\n",
      "30. Con_Velocidad\n",
      "31. Con_Sitp\n",
      "32. Con_Troncal\n",
      "33. Con_Alimentador\n",
      "34. Con_Zonal\n",
      "35. Con_Provisional\n",
      "36. Con_Articulado\n",
      "37. Con_Biarticulado\n",
      "38. Con_Padron_Dual\n",
      "39. Con_Servicio_Especial\n",
      "40. Con_Taxi\n"
     ]
    }
   ],
   "source": [
    "# definir nuestras columnas de interes, para posterormente segmentar la data y tomar los registros pertenecientes a 2020 a 2024\n",
    "print(\"Columnas disponibles:\")\n",
    "for i, col in enumerate(df_siniestros.columns, 1):\n",
    "    print(f\"{i}. {col}\")"
   ]
  },
  {
   "cell_type": "code",
   "execution_count": 6,
   "id": "6cd7ac47",
   "metadata": {},
   "outputs": [
    {
     "name": "stdout",
     "output_type": "stream",
     "text": [
      "Columnas disponibles:\n",
      "1. Codigo_Accidente\n",
      "2. Formulario\n",
      "3. Longitud\n",
      "4. Latitud\n",
      "5. Direccion\n",
      "6. Fecha_Acc\n",
      "7. Año_Accidente\n",
      "8. MM_Acc\n",
      "9. DD_Mes_Acc\n",
      "10. Dia_Semana_Acc\n",
      "11. Hora_Acc\n",
      "12. Min_Acc\n",
      "13. Localidad\n",
      "14. Clase_Acc\n",
      "15. Elemento_Choque\n",
      "16. Tipo_Objeto_Fijo\n",
      "17. Gravedad_Indicador_Tradicional\n",
      "18. Gravedad_indicador_30d\n",
      "19. Con_Bicicleta\n",
      "20. Con_Carga\n",
      "21. Con_Embriaguez\n",
      "22. Con_Huecos\n",
      "23. Con_Menores\n",
      "24. Con_Moto\n",
      "25. Con_Peaton\n",
      "26. Con_Persona_Mayor\n",
      "27. Con_Rutas\n",
      "28. Con_Tpi\n",
      "29. Con_Tpp\n",
      "30. Con_Velocidad\n",
      "31. Con_Sitp\n",
      "32. Con_Troncal\n",
      "33. Con_Alimentador\n",
      "34. Con_Zonal\n",
      "35. Con_Provisional\n",
      "36. Con_Articulado\n",
      "37. Con_Biarticulado\n",
      "38. Con_Padron_Dual\n",
      "39. Con_Servicio_Especial\n",
      "40. Con_Taxi\n"
     ]
    }
   ],
   "source": [
    "#renombrar columna \"AA_Acc\" a \"Año_Accidente\" verificamos que el cambio se haya realizado correctamente\n",
    "df_siniestros = df_siniestros.rename(columns={\"AA_Acc\": \"Año_Accidente\"})\n",
    "print(\"Columnas disponibles:\")\n",
    "for i, col in enumerate(df_siniestros.columns, 1):\n",
    "    print(f\"{i}. {col}\")\n"
   ]
  },
  {
   "cell_type": "code",
   "execution_count": 7,
   "id": "1eee37ef",
   "metadata": {},
   "outputs": [
    {
     "data": {
      "text/plain": [
       "(105094, 40)"
      ]
     },
     "execution_count": 7,
     "metadata": {},
     "output_type": "execute_result"
    }
   ],
   "source": [
    "#segmentamos la data para tomar los registros pertenecientes a 2020 a 2024\n",
    "df_siniestros = df_siniestros[df_siniestros['Año_Accidente'].isin([2020, 2021, 2022, 2023, 2024])]\n",
    "df_siniestros.shape"
   ]
  },
  {
   "cell_type": "code",
   "execution_count": 8,
   "id": "0a7b893a",
   "metadata": {},
   "outputs": [
    {
     "name": "stdout",
     "output_type": "stream",
     "text": [
      "Codigo_Accidente\n",
      "Formulario\n",
      "Longitud\n",
      "Latitud\n",
      "Direccion\n",
      "Fecha_Acc\n",
      "Año_Accidente\n",
      "MM_Acc\n",
      "DD_Mes_Acc\n",
      "Dia_Semana_Acc\n",
      "Hora_Acc\n",
      "Min_Acc\n",
      "Localidad\n",
      "Clase_Acc\n",
      "Elemento_Choque\n",
      "Tipo_Objeto_Fijo\n",
      "Gravedad_Indicador_Tradicional\n",
      "Gravedad_indicador_30d\n",
      "Con_Bicicleta\n",
      "Con_Carga\n",
      "Con_Embriaguez\n",
      "Con_Huecos\n",
      "Con_Menores\n",
      "Con_Moto\n",
      "Con_Peaton\n",
      "Con_Persona_Mayor\n",
      "Con_Rutas\n",
      "Con_Tpi\n",
      "Con_Tpp\n",
      "Con_Velocidad\n",
      "Con_Sitp\n",
      "Con_Troncal\n",
      "Con_Alimentador\n",
      "Con_Zonal\n",
      "Con_Provisional\n",
      "Con_Articulado\n",
      "Con_Biarticulado\n",
      "Con_Padron_Dual\n",
      "Con_Servicio_Especial\n",
      "Con_Taxi\n"
     ]
    }
   ],
   "source": [
    "for col in df_siniestros.columns:\n",
    "    print(col)"
   ]
  },
  {
   "cell_type": "code",
   "execution_count": 9,
   "id": "44fbb1eb",
   "metadata": {},
   "outputs": [
    {
     "name": "stdout",
     "output_type": "stream",
     "text": [
      "Columnas eliminadas:\n",
      "['Con_Bicicleta', 'Con_Carga', 'Con_Embriaguez', 'Con_Huecos', 'Con_Menores', 'Con_Moto', 'Con_Peaton', 'Con_Persona_Mayor', 'Con_Rutas', 'Con_Tpi', 'Con_Tpp', 'Con_Velocidad', 'Con_Sitp', 'Con_Troncal', 'Con_Alimentador', 'Con_Zonal', 'Con_Provisional', 'Con_Articulado', 'Con_Biarticulado', 'Con_Padron_Dual', 'Con_Servicio_Especial', 'Con_Taxi']\n",
      "\n",
      "Columnas restantes en el DataFrame:\n",
      "['Codigo_Accidente', 'Formulario', 'Longitud', 'Latitud', 'Direccion', 'Fecha_Acc', 'Año_Accidente', 'MM_Acc', 'DD_Mes_Acc', 'Dia_Semana_Acc', 'Hora_Acc', 'Min_Acc', 'Localidad', 'Clase_Acc', 'Elemento_Choque', 'Tipo_Objeto_Fijo', 'Gravedad_Indicador_Tradicional', 'Gravedad_indicador_30d']\n"
     ]
    }
   ],
   "source": [
    "# Identificar columnas que contienen \"con_\"\n",
    "cols_a_eliminar = [col for col in df_siniestros.columns if \"con_\" in col.lower()]\n",
    "\n",
    "print(\"Columnas eliminadas:\")\n",
    "print(cols_a_eliminar)\n",
    "\n",
    "# Eliminar las columnas\n",
    "df_siniestros = df_siniestros.drop(columns=cols_a_eliminar)\n",
    "\n",
    "# Confirmar columnas restantes\n",
    "print(\"\\nColumnas restantes en el DataFrame:\")\n",
    "print(df_siniestros.columns.tolist())"
   ]
  },
  {
   "cell_type": "code",
   "execution_count": 10,
   "id": "14c06601",
   "metadata": {},
   "outputs": [
    {
     "name": "stdout",
     "output_type": "stream",
     "text": [
      "Codigo_Accidente\n",
      "Formulario\n",
      "Longitud\n",
      "Latitud\n",
      "Direccion\n",
      "Fecha_Acc\n",
      "Año_Accidente\n",
      "MM_Acc\n",
      "DD_Mes_Acc\n",
      "Dia_Semana_Acc\n",
      "Hora_Acc\n",
      "Min_Acc\n",
      "Localidad\n",
      "Clase_Acc\n",
      "Elemento_Choque\n",
      "Tipo_Objeto_Fijo\n",
      "Gravedad_Indicador_Tradicional\n",
      "Gravedad_indicador_30d\n"
     ]
    }
   ],
   "source": [
    "# Verificar columnas restantes\n",
    "for col in df_siniestros.columns:\n",
    "    print(col)"
   ]
  },
  {
   "cell_type": "code",
   "execution_count": 11,
   "id": "2838d7cd",
   "metadata": {},
   "outputs": [
    {
     "data": {
      "application/vnd.microsoft.datawrangler.viewer.v0+json": {
       "columns": [
        {
         "name": "index",
         "rawType": "int64",
         "type": "integer"
        },
        {
         "name": "Codigo_Accidente",
         "rawType": "int64",
         "type": "integer"
        },
        {
         "name": "Longitud",
         "rawType": "float64",
         "type": "float"
        },
        {
         "name": "Latitud",
         "rawType": "float64",
         "type": "float"
        },
        {
         "name": "Direccion",
         "rawType": "object",
         "type": "string"
        },
        {
         "name": "Fecha_Acc",
         "rawType": "datetime64[ns]",
         "type": "datetime"
        },
        {
         "name": "Año_Accidente",
         "rawType": "int64",
         "type": "integer"
        },
        {
         "name": "MM_Acc",
         "rawType": "object",
         "type": "string"
        },
        {
         "name": "DD_Mes_Acc",
         "rawType": "int64",
         "type": "integer"
        },
        {
         "name": "Dia_Semana_Acc",
         "rawType": "object",
         "type": "string"
        },
        {
         "name": "Hora_Acc",
         "rawType": "int64",
         "type": "integer"
        },
        {
         "name": "Min_Acc",
         "rawType": "int64",
         "type": "integer"
        },
        {
         "name": "Localidad",
         "rawType": "object",
         "type": "string"
        },
        {
         "name": "Clase_Acc",
         "rawType": "object",
         "type": "string"
        },
        {
         "name": "Elemento_Choque",
         "rawType": "object",
         "type": "string"
        },
        {
         "name": "Tipo_Objeto_Fijo",
         "rawType": "object",
         "type": "unknown"
        },
        {
         "name": "Gravedad_Indicador_Tradicional",
         "rawType": "object",
         "type": "string"
        },
        {
         "name": "Gravedad_indicador_30d",
         "rawType": "object",
         "type": "string"
        }
       ],
       "ref": "9015884d-11b1-44e4-9763-e84c9f17b393",
       "rows": [
        [
         "169947",
         "10509738",
         "-74.125084078",
         "4.67229141000001",
         "KR 86-CL 24 02",
         "2020-01-31 00:00:00",
         "2020",
         "Enero",
         "31",
         "viernes",
         "10",
         "41",
         "FONTIBÓN",
         "Choque",
         "Vehículo",
         null,
         "Solo Daños",
         "Solo Daños"
        ],
        [
         "169948",
         "10509739",
         "-74.051785264",
         "4.732305919",
         "CL 150-KR 48 12",
         "2020-01-31 00:00:00",
         "2020",
         "Enero",
         "31",
         "viernes",
         "21",
         "23",
         "SUBA",
         "Choque",
         "Vehículo",
         null,
         "Solo Daños",
         "Solo Daños"
        ],
        [
         "169949",
         "10509740",
         "-74.125649261",
         "4.67232432899999",
         "CL 24-KR 86 02",
         "2020-01-31 00:00:00",
         "2020",
         "Enero",
         "31",
         "viernes",
         "10",
         "20",
         "FONTIBÓN",
         "Choque",
         "Vehículo",
         null,
         "Solo Daños",
         "Solo Daños"
        ],
        [
         "169950",
         "10509741",
         "-74.135092051",
         "4.542814679",
         "AV AVENIDA BOYACA-CL 15D S 02",
         "2020-01-31 00:00:00",
         "2020",
         "Enero",
         "31",
         "viernes",
         "12",
         "18",
         "CIUDAD BOLÍVAR",
         "Choque",
         "Vehículo",
         null,
         "Solo Daños",
         "Solo Daños"
        ],
        [
         "169951",
         "10509742",
         "-74.100030891",
         "4.561921665",
         "KR 4B-CL 36 S 53",
         "2020-01-31 00:00:00",
         "2020",
         "Enero",
         "31",
         "viernes",
         "1",
         "12",
         "SAN CRISTÓBAL",
         "Choque",
         "Objeto Fijo",
         "VEHICULO",
         "Solo Daños",
         "Solo Daños"
        ]
       ],
       "shape": {
        "columns": 17,
        "rows": 5
       }
      },
      "text/html": [
       "<div>\n",
       "<style scoped>\n",
       "    .dataframe tbody tr th:only-of-type {\n",
       "        vertical-align: middle;\n",
       "    }\n",
       "\n",
       "    .dataframe tbody tr th {\n",
       "        vertical-align: top;\n",
       "    }\n",
       "\n",
       "    .dataframe thead th {\n",
       "        text-align: right;\n",
       "    }\n",
       "</style>\n",
       "<table border=\"1\" class=\"dataframe\">\n",
       "  <thead>\n",
       "    <tr style=\"text-align: right;\">\n",
       "      <th></th>\n",
       "      <th>Codigo_Accidente</th>\n",
       "      <th>Longitud</th>\n",
       "      <th>Latitud</th>\n",
       "      <th>Direccion</th>\n",
       "      <th>Fecha_Acc</th>\n",
       "      <th>Año_Accidente</th>\n",
       "      <th>MM_Acc</th>\n",
       "      <th>DD_Mes_Acc</th>\n",
       "      <th>Dia_Semana_Acc</th>\n",
       "      <th>Hora_Acc</th>\n",
       "      <th>Min_Acc</th>\n",
       "      <th>Localidad</th>\n",
       "      <th>Clase_Acc</th>\n",
       "      <th>Elemento_Choque</th>\n",
       "      <th>Tipo_Objeto_Fijo</th>\n",
       "      <th>Gravedad_Indicador_Tradicional</th>\n",
       "      <th>Gravedad_indicador_30d</th>\n",
       "    </tr>\n",
       "  </thead>\n",
       "  <tbody>\n",
       "    <tr>\n",
       "      <th>169947</th>\n",
       "      <td>10509738</td>\n",
       "      <td>-74.125084</td>\n",
       "      <td>4.672291</td>\n",
       "      <td>KR 86-CL 24 02</td>\n",
       "      <td>2020-01-31</td>\n",
       "      <td>2020</td>\n",
       "      <td>Enero</td>\n",
       "      <td>31</td>\n",
       "      <td>viernes</td>\n",
       "      <td>10</td>\n",
       "      <td>41</td>\n",
       "      <td>FONTIBÓN</td>\n",
       "      <td>Choque</td>\n",
       "      <td>Vehículo</td>\n",
       "      <td>NaN</td>\n",
       "      <td>Solo Daños</td>\n",
       "      <td>Solo Daños</td>\n",
       "    </tr>\n",
       "    <tr>\n",
       "      <th>169948</th>\n",
       "      <td>10509739</td>\n",
       "      <td>-74.051785</td>\n",
       "      <td>4.732306</td>\n",
       "      <td>CL 150-KR 48 12</td>\n",
       "      <td>2020-01-31</td>\n",
       "      <td>2020</td>\n",
       "      <td>Enero</td>\n",
       "      <td>31</td>\n",
       "      <td>viernes</td>\n",
       "      <td>21</td>\n",
       "      <td>23</td>\n",
       "      <td>SUBA</td>\n",
       "      <td>Choque</td>\n",
       "      <td>Vehículo</td>\n",
       "      <td>NaN</td>\n",
       "      <td>Solo Daños</td>\n",
       "      <td>Solo Daños</td>\n",
       "    </tr>\n",
       "    <tr>\n",
       "      <th>169949</th>\n",
       "      <td>10509740</td>\n",
       "      <td>-74.125649</td>\n",
       "      <td>4.672324</td>\n",
       "      <td>CL 24-KR 86 02</td>\n",
       "      <td>2020-01-31</td>\n",
       "      <td>2020</td>\n",
       "      <td>Enero</td>\n",
       "      <td>31</td>\n",
       "      <td>viernes</td>\n",
       "      <td>10</td>\n",
       "      <td>20</td>\n",
       "      <td>FONTIBÓN</td>\n",
       "      <td>Choque</td>\n",
       "      <td>Vehículo</td>\n",
       "      <td>NaN</td>\n",
       "      <td>Solo Daños</td>\n",
       "      <td>Solo Daños</td>\n",
       "    </tr>\n",
       "    <tr>\n",
       "      <th>169950</th>\n",
       "      <td>10509741</td>\n",
       "      <td>-74.135092</td>\n",
       "      <td>4.542815</td>\n",
       "      <td>AV AVENIDA BOYACA-CL 15D S 02</td>\n",
       "      <td>2020-01-31</td>\n",
       "      <td>2020</td>\n",
       "      <td>Enero</td>\n",
       "      <td>31</td>\n",
       "      <td>viernes</td>\n",
       "      <td>12</td>\n",
       "      <td>18</td>\n",
       "      <td>CIUDAD BOLÍVAR</td>\n",
       "      <td>Choque</td>\n",
       "      <td>Vehículo</td>\n",
       "      <td>NaN</td>\n",
       "      <td>Solo Daños</td>\n",
       "      <td>Solo Daños</td>\n",
       "    </tr>\n",
       "    <tr>\n",
       "      <th>169951</th>\n",
       "      <td>10509742</td>\n",
       "      <td>-74.100031</td>\n",
       "      <td>4.561922</td>\n",
       "      <td>KR 4B-CL 36 S 53</td>\n",
       "      <td>2020-01-31</td>\n",
       "      <td>2020</td>\n",
       "      <td>Enero</td>\n",
       "      <td>31</td>\n",
       "      <td>viernes</td>\n",
       "      <td>1</td>\n",
       "      <td>12</td>\n",
       "      <td>SAN CRISTÓBAL</td>\n",
       "      <td>Choque</td>\n",
       "      <td>Objeto Fijo</td>\n",
       "      <td>VEHICULO</td>\n",
       "      <td>Solo Daños</td>\n",
       "      <td>Solo Daños</td>\n",
       "    </tr>\n",
       "  </tbody>\n",
       "</table>\n",
       "</div>"
      ],
      "text/plain": [
       "        Codigo_Accidente   Longitud   Latitud                      Direccion  \\\n",
       "169947          10509738 -74.125084  4.672291                 KR 86-CL 24 02   \n",
       "169948          10509739 -74.051785  4.732306                CL 150-KR 48 12   \n",
       "169949          10509740 -74.125649  4.672324                 CL 24-KR 86 02   \n",
       "169950          10509741 -74.135092  4.542815  AV AVENIDA BOYACA-CL 15D S 02   \n",
       "169951          10509742 -74.100031  4.561922               KR 4B-CL 36 S 53   \n",
       "\n",
       "        Fecha_Acc  Año_Accidente MM_Acc  DD_Mes_Acc Dia_Semana_Acc  Hora_Acc  \\\n",
       "169947 2020-01-31           2020  Enero          31        viernes        10   \n",
       "169948 2020-01-31           2020  Enero          31        viernes        21   \n",
       "169949 2020-01-31           2020  Enero          31        viernes        10   \n",
       "169950 2020-01-31           2020  Enero          31        viernes        12   \n",
       "169951 2020-01-31           2020  Enero          31        viernes         1   \n",
       "\n",
       "        Min_Acc       Localidad Clase_Acc Elemento_Choque Tipo_Objeto_Fijo  \\\n",
       "169947       41        FONTIBÓN    Choque        Vehículo              NaN   \n",
       "169948       23            SUBA    Choque        Vehículo              NaN   \n",
       "169949       20        FONTIBÓN    Choque        Vehículo              NaN   \n",
       "169950       18  CIUDAD BOLÍVAR    Choque        Vehículo              NaN   \n",
       "169951       12   SAN CRISTÓBAL    Choque     Objeto Fijo         VEHICULO   \n",
       "\n",
       "       Gravedad_Indicador_Tradicional Gravedad_indicador_30d  \n",
       "169947                     Solo Daños             Solo Daños  \n",
       "169948                     Solo Daños             Solo Daños  \n",
       "169949                     Solo Daños             Solo Daños  \n",
       "169950                     Solo Daños             Solo Daños  \n",
       "169951                     Solo Daños             Solo Daños  "
      ]
     },
     "execution_count": 11,
     "metadata": {},
     "output_type": "execute_result"
    }
   ],
   "source": [
    "#eliminar columnas irrelevantes que no sirven para el analisis y verificamos que se hayan eliminado correctamente\n",
    "\n",
    "df_siniestros = df_siniestros.drop(columns=['Formulario'])\n",
    "\n",
    "# Verificar resultado\n",
    "df_siniestros.head()"
   ]
  },
  {
   "cell_type": "code",
   "execution_count": 12,
   "id": "07339d12",
   "metadata": {},
   "outputs": [
    {
     "data": {
      "application/vnd.microsoft.datawrangler.viewer.v0+json": {
       "columns": [
        {
         "name": "index",
         "rawType": "int64",
         "type": "integer"
        },
        {
         "name": "Codigo_Accidente",
         "rawType": "int64",
         "type": "integer"
        },
        {
         "name": "Longitud",
         "rawType": "float64",
         "type": "float"
        },
        {
         "name": "Latitud",
         "rawType": "float64",
         "type": "float"
        },
        {
         "name": "Direccion",
         "rawType": "object",
         "type": "string"
        },
        {
         "name": "Fecha_Accidente",
         "rawType": "datetime64[ns]",
         "type": "datetime"
        },
        {
         "name": "Año_Accidente",
         "rawType": "int64",
         "type": "integer"
        },
        {
         "name": "Mes_Accidente",
         "rawType": "object",
         "type": "string"
        },
        {
         "name": "Día_Accidente",
         "rawType": "int64",
         "type": "integer"
        },
        {
         "name": "Día_Semana_Accidente",
         "rawType": "object",
         "type": "string"
        },
        {
         "name": "Hora_Accidente",
         "rawType": "int64",
         "type": "integer"
        },
        {
         "name": "Minuto_Accidente",
         "rawType": "int64",
         "type": "integer"
        },
        {
         "name": "Localidad",
         "rawType": "object",
         "type": "string"
        },
        {
         "name": "Clase_Accidente",
         "rawType": "object",
         "type": "string"
        },
        {
         "name": "Elemento_Choque",
         "rawType": "object",
         "type": "string"
        },
        {
         "name": "Tipo_Objeto_Fijo",
         "rawType": "object",
         "type": "unknown"
        },
        {
         "name": "Gravedad_Indicador_Tradicional",
         "rawType": "object",
         "type": "string"
        },
        {
         "name": "Gravedad_indicador_30d",
         "rawType": "object",
         "type": "string"
        }
       ],
       "ref": "3aecd53d-32b1-4e8f-ba2f-92a29b12f443",
       "rows": [
        [
         "169947",
         "10509738",
         "-74.125084078",
         "4.67229141000001",
         "KR 86-CL 24 02",
         "2020-01-31 00:00:00",
         "2020",
         "Enero",
         "31",
         "viernes",
         "10",
         "41",
         "FONTIBÓN",
         "Choque",
         "Vehículo",
         null,
         "Solo Daños",
         "Solo Daños"
        ],
        [
         "169948",
         "10509739",
         "-74.051785264",
         "4.732305919",
         "CL 150-KR 48 12",
         "2020-01-31 00:00:00",
         "2020",
         "Enero",
         "31",
         "viernes",
         "21",
         "23",
         "SUBA",
         "Choque",
         "Vehículo",
         null,
         "Solo Daños",
         "Solo Daños"
        ],
        [
         "169949",
         "10509740",
         "-74.125649261",
         "4.67232432899999",
         "CL 24-KR 86 02",
         "2020-01-31 00:00:00",
         "2020",
         "Enero",
         "31",
         "viernes",
         "10",
         "20",
         "FONTIBÓN",
         "Choque",
         "Vehículo",
         null,
         "Solo Daños",
         "Solo Daños"
        ],
        [
         "169950",
         "10509741",
         "-74.135092051",
         "4.542814679",
         "AV AVENIDA BOYACA-CL 15D S 02",
         "2020-01-31 00:00:00",
         "2020",
         "Enero",
         "31",
         "viernes",
         "12",
         "18",
         "CIUDAD BOLÍVAR",
         "Choque",
         "Vehículo",
         null,
         "Solo Daños",
         "Solo Daños"
        ],
        [
         "169951",
         "10509742",
         "-74.100030891",
         "4.561921665",
         "KR 4B-CL 36 S 53",
         "2020-01-31 00:00:00",
         "2020",
         "Enero",
         "31",
         "viernes",
         "1",
         "12",
         "SAN CRISTÓBAL",
         "Choque",
         "Objeto Fijo",
         "VEHICULO",
         "Solo Daños",
         "Solo Daños"
        ]
       ],
       "shape": {
        "columns": 17,
        "rows": 5
       }
      },
      "text/html": [
       "<div>\n",
       "<style scoped>\n",
       "    .dataframe tbody tr th:only-of-type {\n",
       "        vertical-align: middle;\n",
       "    }\n",
       "\n",
       "    .dataframe tbody tr th {\n",
       "        vertical-align: top;\n",
       "    }\n",
       "\n",
       "    .dataframe thead th {\n",
       "        text-align: right;\n",
       "    }\n",
       "</style>\n",
       "<table border=\"1\" class=\"dataframe\">\n",
       "  <thead>\n",
       "    <tr style=\"text-align: right;\">\n",
       "      <th></th>\n",
       "      <th>Codigo_Accidente</th>\n",
       "      <th>Longitud</th>\n",
       "      <th>Latitud</th>\n",
       "      <th>Direccion</th>\n",
       "      <th>Fecha_Accidente</th>\n",
       "      <th>Año_Accidente</th>\n",
       "      <th>Mes_Accidente</th>\n",
       "      <th>Día_Accidente</th>\n",
       "      <th>Día_Semana_Accidente</th>\n",
       "      <th>Hora_Accidente</th>\n",
       "      <th>Minuto_Accidente</th>\n",
       "      <th>Localidad</th>\n",
       "      <th>Clase_Accidente</th>\n",
       "      <th>Elemento_Choque</th>\n",
       "      <th>Tipo_Objeto_Fijo</th>\n",
       "      <th>Gravedad_Indicador_Tradicional</th>\n",
       "      <th>Gravedad_indicador_30d</th>\n",
       "    </tr>\n",
       "  </thead>\n",
       "  <tbody>\n",
       "    <tr>\n",
       "      <th>169947</th>\n",
       "      <td>10509738</td>\n",
       "      <td>-74.125084</td>\n",
       "      <td>4.672291</td>\n",
       "      <td>KR 86-CL 24 02</td>\n",
       "      <td>2020-01-31</td>\n",
       "      <td>2020</td>\n",
       "      <td>Enero</td>\n",
       "      <td>31</td>\n",
       "      <td>viernes</td>\n",
       "      <td>10</td>\n",
       "      <td>41</td>\n",
       "      <td>FONTIBÓN</td>\n",
       "      <td>Choque</td>\n",
       "      <td>Vehículo</td>\n",
       "      <td>NaN</td>\n",
       "      <td>Solo Daños</td>\n",
       "      <td>Solo Daños</td>\n",
       "    </tr>\n",
       "    <tr>\n",
       "      <th>169948</th>\n",
       "      <td>10509739</td>\n",
       "      <td>-74.051785</td>\n",
       "      <td>4.732306</td>\n",
       "      <td>CL 150-KR 48 12</td>\n",
       "      <td>2020-01-31</td>\n",
       "      <td>2020</td>\n",
       "      <td>Enero</td>\n",
       "      <td>31</td>\n",
       "      <td>viernes</td>\n",
       "      <td>21</td>\n",
       "      <td>23</td>\n",
       "      <td>SUBA</td>\n",
       "      <td>Choque</td>\n",
       "      <td>Vehículo</td>\n",
       "      <td>NaN</td>\n",
       "      <td>Solo Daños</td>\n",
       "      <td>Solo Daños</td>\n",
       "    </tr>\n",
       "    <tr>\n",
       "      <th>169949</th>\n",
       "      <td>10509740</td>\n",
       "      <td>-74.125649</td>\n",
       "      <td>4.672324</td>\n",
       "      <td>CL 24-KR 86 02</td>\n",
       "      <td>2020-01-31</td>\n",
       "      <td>2020</td>\n",
       "      <td>Enero</td>\n",
       "      <td>31</td>\n",
       "      <td>viernes</td>\n",
       "      <td>10</td>\n",
       "      <td>20</td>\n",
       "      <td>FONTIBÓN</td>\n",
       "      <td>Choque</td>\n",
       "      <td>Vehículo</td>\n",
       "      <td>NaN</td>\n",
       "      <td>Solo Daños</td>\n",
       "      <td>Solo Daños</td>\n",
       "    </tr>\n",
       "    <tr>\n",
       "      <th>169950</th>\n",
       "      <td>10509741</td>\n",
       "      <td>-74.135092</td>\n",
       "      <td>4.542815</td>\n",
       "      <td>AV AVENIDA BOYACA-CL 15D S 02</td>\n",
       "      <td>2020-01-31</td>\n",
       "      <td>2020</td>\n",
       "      <td>Enero</td>\n",
       "      <td>31</td>\n",
       "      <td>viernes</td>\n",
       "      <td>12</td>\n",
       "      <td>18</td>\n",
       "      <td>CIUDAD BOLÍVAR</td>\n",
       "      <td>Choque</td>\n",
       "      <td>Vehículo</td>\n",
       "      <td>NaN</td>\n",
       "      <td>Solo Daños</td>\n",
       "      <td>Solo Daños</td>\n",
       "    </tr>\n",
       "    <tr>\n",
       "      <th>169951</th>\n",
       "      <td>10509742</td>\n",
       "      <td>-74.100031</td>\n",
       "      <td>4.561922</td>\n",
       "      <td>KR 4B-CL 36 S 53</td>\n",
       "      <td>2020-01-31</td>\n",
       "      <td>2020</td>\n",
       "      <td>Enero</td>\n",
       "      <td>31</td>\n",
       "      <td>viernes</td>\n",
       "      <td>1</td>\n",
       "      <td>12</td>\n",
       "      <td>SAN CRISTÓBAL</td>\n",
       "      <td>Choque</td>\n",
       "      <td>Objeto Fijo</td>\n",
       "      <td>VEHICULO</td>\n",
       "      <td>Solo Daños</td>\n",
       "      <td>Solo Daños</td>\n",
       "    </tr>\n",
       "  </tbody>\n",
       "</table>\n",
       "</div>"
      ],
      "text/plain": [
       "        Codigo_Accidente   Longitud   Latitud                      Direccion  \\\n",
       "169947          10509738 -74.125084  4.672291                 KR 86-CL 24 02   \n",
       "169948          10509739 -74.051785  4.732306                CL 150-KR 48 12   \n",
       "169949          10509740 -74.125649  4.672324                 CL 24-KR 86 02   \n",
       "169950          10509741 -74.135092  4.542815  AV AVENIDA BOYACA-CL 15D S 02   \n",
       "169951          10509742 -74.100031  4.561922               KR 4B-CL 36 S 53   \n",
       "\n",
       "       Fecha_Accidente  Año_Accidente Mes_Accidente  Día_Accidente  \\\n",
       "169947      2020-01-31           2020         Enero             31   \n",
       "169948      2020-01-31           2020         Enero             31   \n",
       "169949      2020-01-31           2020         Enero             31   \n",
       "169950      2020-01-31           2020         Enero             31   \n",
       "169951      2020-01-31           2020         Enero             31   \n",
       "\n",
       "       Día_Semana_Accidente  Hora_Accidente  Minuto_Accidente       Localidad  \\\n",
       "169947              viernes              10                41        FONTIBÓN   \n",
       "169948              viernes              21                23            SUBA   \n",
       "169949              viernes              10                20        FONTIBÓN   \n",
       "169950              viernes              12                18  CIUDAD BOLÍVAR   \n",
       "169951              viernes               1                12   SAN CRISTÓBAL   \n",
       "\n",
       "       Clase_Accidente Elemento_Choque Tipo_Objeto_Fijo  \\\n",
       "169947          Choque        Vehículo              NaN   \n",
       "169948          Choque        Vehículo              NaN   \n",
       "169949          Choque        Vehículo              NaN   \n",
       "169950          Choque        Vehículo              NaN   \n",
       "169951          Choque     Objeto Fijo         VEHICULO   \n",
       "\n",
       "       Gravedad_Indicador_Tradicional Gravedad_indicador_30d  \n",
       "169947                     Solo Daños             Solo Daños  \n",
       "169948                     Solo Daños             Solo Daños  \n",
       "169949                     Solo Daños             Solo Daños  \n",
       "169950                     Solo Daños             Solo Daños  \n",
       "169951                     Solo Daños             Solo Daños  "
      ]
     },
     "execution_count": 12,
     "metadata": {},
     "output_type": "execute_result"
    }
   ],
   "source": [
    "# renombramiento de columnas para un mejor entendimiento de las mismas, validacion\n",
    "df_siniestros = df_siniestros.rename(columns={\n",
    "    \"Fecha_Acc\": \"Fecha_Accidente\",\n",
    "    \"MM_Acc\": \"Mes_Accidente\",\n",
    "    \"DD_Acc\": \"Día_Accidente\",\n",
    "    \"DD_Mes_Acc\": \"Día_Accidente\",\n",
    "    \"Dia_Semana_Acc\": \"Día_Semana_Accidente\",\n",
    "    \"Hora_Acc\": \"Hora_Accidente\",\n",
    "    \"Min_Acc\": \"Minuto_Accidente\",\n",
    "    \"Clase_Acc\": \"Clase_Accidente\",\n",
    "})\n",
    "df_siniestros.head()"
   ]
  },
  {
   "cell_type": "code",
   "execution_count": 13,
   "id": "fa8ea0b5",
   "metadata": {},
   "outputs": [
    {
     "data": {
      "text/plain": [
       "array([nan, 'Vehiculo', 'Tren', 'Arbol', 'Semaforo', 'Objeto fijo',\n",
       "       'Poste', 'Inmueble', 'Muro', 'Semoviente', 'Por identificar',\n",
       "       'Baranda', 'Vehiculo estacionado', 'Valla-señal', 'Otro',\n",
       "       'Tarima-caseta', 'Hidrante'], dtype=object)"
      ]
     },
     "execution_count": 13,
     "metadata": {},
     "output_type": "execute_result"
    }
   ],
   "source": [
    "#normalizar los registros de la columna Tipo_Objeto_Fijo, validacion de cambios\n",
    "df_siniestros['Tipo_Objeto_Fijo'] = df_siniestros['Tipo_Objeto_Fijo'].str.capitalize()\n",
    "df_siniestros['Tipo_Objeto_Fijo'].unique()"
   ]
  },
  {
   "cell_type": "code",
   "execution_count": 14,
   "id": "48ae5070",
   "metadata": {},
   "outputs": [
    {
     "data": {
      "text/plain": [
       "np.int64(0)"
      ]
     },
     "execution_count": 14,
     "metadata": {},
     "output_type": "execute_result"
    }
   ],
   "source": [
    "#imputacions de datos faltantes en la columna Tipo_Objeto_Fijo con el valor \"No aplica\"\n",
    "df_siniestros['Tipo_Objeto_Fijo'] = df_siniestros['Tipo_Objeto_Fijo'].fillna('No aplica')\n",
    "df_siniestros['Tipo_Objeto_Fijo'].isnull().sum()"
   ]
  },
  {
   "cell_type": "code",
   "execution_count": 15,
   "id": "a9d00df3",
   "metadata": {},
   "outputs": [
    {
     "data": {
      "text/plain": [
       "array(['No aplica', 'Vehiculo', 'Tren', 'Arbol', 'Semaforo',\n",
       "       'Objeto fijo', 'Poste', 'Inmueble', 'Muro', 'Semoviente',\n",
       "       'Por identificar', 'Baranda', 'Vehiculo estacionado',\n",
       "       'Valla-señal', 'Otro', 'Tarima-caseta', 'Hidrante'], dtype=object)"
      ]
     },
     "execution_count": 15,
     "metadata": {},
     "output_type": "execute_result"
    }
   ],
   "source": [
    "df_siniestros['Tipo_Objeto_Fijo'].unique()"
   ]
  },
  {
   "cell_type": "code",
   "execution_count": 16,
   "id": "6fa8f439",
   "metadata": {},
   "outputs": [
    {
     "data": {
      "text/plain": [
       "np.int64(0)"
      ]
     },
     "execution_count": 16,
     "metadata": {},
     "output_type": "execute_result"
    }
   ],
   "source": [
    "#imputacion de datos faltantes en la columna elemento_choque con el valor \"Sin informacion\"\n",
    "df_siniestros['Elemento_Choque'] = df_siniestros['Elemento_Choque'].fillna('Sin informacion')\n",
    "df_siniestros['Elemento_Choque'].isnull().sum()"
   ]
  },
  {
   "cell_type": "code",
   "execution_count": 17,
   "id": "102acfd4",
   "metadata": {},
   "outputs": [
    {
     "data": {
      "text/plain": [
       "array(['Vehículo', 'Objeto Fijo', 'Sin informacion', 'Semoviente', 'Tren'],\n",
       "      dtype=object)"
      ]
     },
     "execution_count": 17,
     "metadata": {},
     "output_type": "execute_result"
    }
   ],
   "source": [
    "df_siniestros['Elemento_Choque'].unique()"
   ]
  },
  {
   "cell_type": "code",
   "execution_count": 18,
   "id": "242d9389",
   "metadata": {},
   "outputs": [
    {
     "data": {
      "text/plain": [
       "array(['Fontibón', 'Suba', 'Ciudad bolívar', 'San cristóbal', 'Bosa',\n",
       "       'Kennedy', 'Usaquén', 'Chapinero', 'Engativá', 'Los mártires',\n",
       "       'Barrios unidos', 'Puente aranda', 'Candelaria', 'Santa fe',\n",
       "       'Teusaquillo', 'Tunjuelito', 'Antonio nariño',\n",
       "       'Rafael uribe uribe', 'Usme', 'Sumapaz'], dtype=object)"
      ]
     },
     "execution_count": 18,
     "metadata": {},
     "output_type": "execute_result"
    }
   ],
   "source": [
    "#normalizar los registros de la columna Localidad, validacion de cambios\n",
    "df_siniestros['Localidad'] = df_siniestros['Localidad'].str.capitalize()\n",
    "df_siniestros['Localidad'].unique()"
   ]
  },
  {
   "cell_type": "code",
   "execution_count": 19,
   "id": "e75c3372",
   "metadata": {},
   "outputs": [
    {
     "data": {
      "application/vnd.microsoft.datawrangler.viewer.v0+json": {
       "columns": [
        {
         "name": "index",
         "rawType": "object",
         "type": "string"
        },
        {
         "name": "0",
         "rawType": "int64",
         "type": "integer"
        }
       ],
       "ref": "4e66b114-7a9a-4880-885f-3c9e0e00a587",
       "rows": [
        [
         "Codigo_Accidente",
         "0"
        ],
        [
         "Longitud",
         "288"
        ],
        [
         "Latitud",
         "288"
        ],
        [
         "Direccion",
         "0"
        ],
        [
         "Fecha_Accidente",
         "0"
        ],
        [
         "Año_Accidente",
         "0"
        ],
        [
         "Mes_Accidente",
         "0"
        ],
        [
         "Día_Accidente",
         "0"
        ],
        [
         "Día_Semana_Accidente",
         "0"
        ],
        [
         "Hora_Accidente",
         "0"
        ],
        [
         "Minuto_Accidente",
         "0"
        ],
        [
         "Localidad",
         "0"
        ],
        [
         "Clase_Accidente",
         "0"
        ],
        [
         "Elemento_Choque",
         "0"
        ],
        [
         "Tipo_Objeto_Fijo",
         "0"
        ],
        [
         "Gravedad_Indicador_Tradicional",
         "0"
        ],
        [
         "Gravedad_indicador_30d",
         "11"
        ]
       ],
       "shape": {
        "columns": 1,
        "rows": 17
       }
      },
      "text/plain": [
       "Codigo_Accidente                    0\n",
       "Longitud                          288\n",
       "Latitud                           288\n",
       "Direccion                           0\n",
       "Fecha_Accidente                     0\n",
       "Año_Accidente                       0\n",
       "Mes_Accidente                       0\n",
       "Día_Accidente                       0\n",
       "Día_Semana_Accidente                0\n",
       "Hora_Accidente                      0\n",
       "Minuto_Accidente                    0\n",
       "Localidad                           0\n",
       "Clase_Accidente                     0\n",
       "Elemento_Choque                     0\n",
       "Tipo_Objeto_Fijo                    0\n",
       "Gravedad_Indicador_Tradicional      0\n",
       "Gravedad_indicador_30d             11\n",
       "dtype: int64"
      ]
     },
     "execution_count": 19,
     "metadata": {},
     "output_type": "execute_result"
    }
   ],
   "source": [
    "df_siniestros.isnull().sum()"
   ]
  },
  {
   "cell_type": "code",
   "execution_count": 20,
   "id": "a4e6a1bc",
   "metadata": {},
   "outputs": [
    {
     "data": {
      "text/plain": [
       "np.int64(0)"
      ]
     },
     "execution_count": 20,
     "metadata": {},
     "output_type": "execute_result"
    }
   ],
   "source": [
    "#imputacion de datos faltantes en la columna Gravedad_indicador_30 con el valor \"Sin informacion\"\n",
    "df_siniestros['Gravedad_indicador_30d'] = df_siniestros['Gravedad_indicador_30d'].fillna('Sin informacion')\n",
    "df_siniestros['Gravedad_indicador_30d'].isnull().sum()"
   ]
  },
  {
   "cell_type": "code",
   "execution_count": 21,
   "id": "8d5a1499",
   "metadata": {},
   "outputs": [
    {
     "data": {
      "application/vnd.microsoft.datawrangler.viewer.v0+json": {
       "columns": [
        {
         "name": "index",
         "rawType": "object",
         "type": "string"
        },
        {
         "name": "0",
         "rawType": "int64",
         "type": "integer"
        }
       ],
       "ref": "4264e5d8-1f7a-4b09-8a1e-ae7cfb560460",
       "rows": [
        [
         "Codigo_Accidente",
         "0"
        ],
        [
         "Longitud",
         "288"
        ],
        [
         "Latitud",
         "288"
        ],
        [
         "Direccion",
         "0"
        ],
        [
         "Fecha_Accidente",
         "0"
        ],
        [
         "Año_Accidente",
         "0"
        ],
        [
         "Mes_Accidente",
         "0"
        ],
        [
         "Día_Accidente",
         "0"
        ],
        [
         "Día_Semana_Accidente",
         "0"
        ],
        [
         "Hora_Accidente",
         "0"
        ],
        [
         "Minuto_Accidente",
         "0"
        ],
        [
         "Localidad",
         "0"
        ],
        [
         "Clase_Accidente",
         "0"
        ],
        [
         "Elemento_Choque",
         "0"
        ],
        [
         "Tipo_Objeto_Fijo",
         "0"
        ],
        [
         "Gravedad_Indicador_Tradicional",
         "0"
        ],
        [
         "Gravedad_indicador_30d",
         "0"
        ]
       ],
       "shape": {
        "columns": 1,
        "rows": 17
       }
      },
      "text/plain": [
       "Codigo_Accidente                    0\n",
       "Longitud                          288\n",
       "Latitud                           288\n",
       "Direccion                           0\n",
       "Fecha_Accidente                     0\n",
       "Año_Accidente                       0\n",
       "Mes_Accidente                       0\n",
       "Día_Accidente                       0\n",
       "Día_Semana_Accidente                0\n",
       "Hora_Accidente                      0\n",
       "Minuto_Accidente                    0\n",
       "Localidad                           0\n",
       "Clase_Accidente                     0\n",
       "Elemento_Choque                     0\n",
       "Tipo_Objeto_Fijo                    0\n",
       "Gravedad_Indicador_Tradicional      0\n",
       "Gravedad_indicador_30d              0\n",
       "dtype: int64"
      ]
     },
     "execution_count": 21,
     "metadata": {},
     "output_type": "execute_result"
    }
   ],
   "source": [
    "df_siniestros.isnull().sum()"
   ]
  },
  {
   "cell_type": "code",
   "execution_count": 22,
   "id": "d53de508",
   "metadata": {},
   "outputs": [],
   "source": [
    "# impiutacion de datos faltantes en las columnas longitud y latitud segun la normalicacion de la columna direccion\n",
    "\n",
    "import re\n",
    "\n",
    "# Función de normalización\n",
    "def normalizar_direccion(Direccion):\n",
    "    if not isinstance(Direccion, str):\n",
    "        return Direccion\n",
    "\n",
    "    Direccion = Direccion.strip().upper()  # quitar espacios y pasar a mayúscula\n",
    "\n",
    "    # Reemplazar abreviaturas\n",
    "    Direccion = re.sub(r'^KR\\b', 'CARRERA', Direccion)\n",
    "    Direccion = re.sub(r'^CL\\b', 'CALLE', Direccion)\n",
    "    Direccion = re.sub(r'^TR\\b', 'TRANSVERSAL', Direccion)\n",
    "    Direccion = re.sub(r'^DG\\b', 'DIAGONAL', Direccion)\n",
    "    Direccion = re.sub(r'\\bAV\\b', 'AVENIDA', Direccion)\n",
    "\n",
    "    # Limpiar sufijos que no aportan al geocoding (opcional)\n",
    "    Direccion = re.sub(r'\\s+S\\s*\\d*$', '', Direccion)\n",
    "    Direccion = re.sub(r'\\s+ES\\s*\\d*$', '', Direccion)\n",
    "    Direccion = re.sub(r'BIS', '', Direccion)\n",
    "\n",
    "    # Reemplazar múltiples espacios por uno solo\n",
    "    Direccion = re.sub(r'\\s+', ' ', Direccion)\n",
    "\n",
    "    return Direccion\n",
    "\n",
    "# Aplicar normalización\n",
    "df_siniestros['Direccion_normalizada'] = df_siniestros['Direccion'].apply(normalizar_direccion)"
   ]
  },
  {
   "cell_type": "code",
   "execution_count": 23,
   "id": "32dce8c7",
   "metadata": {},
   "outputs": [
    {
     "data": {
      "application/vnd.microsoft.datawrangler.viewer.v0+json": {
       "columns": [
        {
         "name": "index",
         "rawType": "int64",
         "type": "integer"
        },
        {
         "name": "Codigo_Accidente",
         "rawType": "int64",
         "type": "integer"
        },
        {
         "name": "Longitud",
         "rawType": "float64",
         "type": "float"
        },
        {
         "name": "Latitud",
         "rawType": "float64",
         "type": "float"
        },
        {
         "name": "Direccion",
         "rawType": "object",
         "type": "string"
        },
        {
         "name": "Fecha_Accidente",
         "rawType": "datetime64[ns]",
         "type": "datetime"
        },
        {
         "name": "Año_Accidente",
         "rawType": "int64",
         "type": "integer"
        },
        {
         "name": "Mes_Accidente",
         "rawType": "object",
         "type": "string"
        },
        {
         "name": "Día_Accidente",
         "rawType": "int64",
         "type": "integer"
        },
        {
         "name": "Día_Semana_Accidente",
         "rawType": "object",
         "type": "string"
        },
        {
         "name": "Hora_Accidente",
         "rawType": "int64",
         "type": "integer"
        },
        {
         "name": "Minuto_Accidente",
         "rawType": "int64",
         "type": "integer"
        },
        {
         "name": "Localidad",
         "rawType": "object",
         "type": "string"
        },
        {
         "name": "Clase_Accidente",
         "rawType": "object",
         "type": "string"
        },
        {
         "name": "Elemento_Choque",
         "rawType": "object",
         "type": "string"
        },
        {
         "name": "Tipo_Objeto_Fijo",
         "rawType": "object",
         "type": "string"
        },
        {
         "name": "Gravedad_Indicador_Tradicional",
         "rawType": "object",
         "type": "string"
        },
        {
         "name": "Gravedad_indicador_30d",
         "rawType": "object",
         "type": "string"
        },
        {
         "name": "Direccion_normalizada",
         "rawType": "object",
         "type": "string"
        }
       ],
       "ref": "b7955178-6f49-4c08-a21d-62b55a010fce",
       "rows": [
        [
         "194251",
         "10525355",
         "-74.031330141",
         "4.69677851900002",
         "KR 7-CL 120 02",
         "2020-10-28 00:00:00",
         "2020",
         "Octubre",
         "28",
         "miércoles",
         "12",
         "27",
         "Usaquén",
         "Choque",
         "Vehículo",
         "No aplica",
         "Solo Daños",
         "Solo Daños",
         "CARRERA 7-CL 120 02"
        ],
        [
         "192616",
         "10523270",
         "-74.106670712",
         "4.67126858900002",
         "AV AVENIDA BOYACA-CL 53 02",
         "2020-10-08 00:00:00",
         "2020",
         "Octubre",
         "8",
         "jueves",
         "13",
         "0",
         "Engativá",
         "Choque",
         "Vehículo",
         "No aplica",
         "Solo Daños",
         "Solo Daños",
         "AVENIDA AVENIDA BOYACA-CL 53 02"
        ],
        [
         "213589",
         "10550123",
         "-74.198678508",
         "4.62990330899999",
         "KR 93 D D - CL 69  S 40",
         "2021-09-20 00:00:00",
         "2021",
         "Septiembre",
         "20",
         "lunes",
         "17",
         "40",
         "Bosa",
         "Choque",
         "Vehículo",
         "No aplica",
         "Con Heridos",
         "Con Heridos",
         "CARRERA 93 D D - CL 69"
        ],
        [
         "180718",
         "10512027",
         "-74.052334361",
         "4.706669756",
         "CL 127-KR 21 02",
         "2020-02-25 00:00:00",
         "2020",
         "Febrero",
         "25",
         "martes",
         "14",
         "5",
         "Usaquén",
         "Choque",
         "Vehículo",
         "No aplica",
         "Solo Daños",
         "Solo Daños",
         "CALLE 127-KR 21 02"
        ],
        [
         "198802",
         "10531567",
         "-74.094825175",
         "4.68888961900001",
         "CL 73 - KR 72 BIS 02",
         "2021-01-05 00:00:00",
         "2021",
         "Enero",
         "5",
         "martes",
         "18",
         "10",
         "Engativá",
         "Choque",
         "Vehículo",
         "No aplica",
         "Con Heridos",
         "Con Heridos",
         "CALLE 73 - KR 72 02"
        ],
        [
         "267145",
         "10573752",
         "-74.094",
         "4.70999999999998",
         "CL 90  - KR 85   02",
         "2022-06-14 00:00:00",
         "2022",
         "Junio",
         "14",
         "martes",
         "12",
         "0",
         "Engativá",
         "Choque",
         "Vehículo",
         "No aplica",
         "Solo Daños",
         "Solo Daños",
         "CALLE 90 - KR 85 02"
        ],
        [
         "169983",
         "10510137",
         "-74.168947955",
         "4.595837937",
         "AV AVENIDA DEL SUR-KR 73I 55",
         "2020-02-04 00:00:00",
         "2020",
         "Febrero",
         "4",
         "martes",
         "8",
         "10",
         "Bosa",
         "Choque",
         "Vehículo",
         "No aplica",
         "Solo Daños",
         "Solo Daños",
         "AVENIDA AVENIDA DEL SUR-KR 73I 55"
        ],
        [
         "272962",
         "10589479",
         "-74.14456036564",
         "4.59022106534",
         "DG 51 S- KR 55 A 02",
         "2023-03-31 00:00:00",
         "2023",
         "Marzo",
         "31",
         "viernes",
         "0",
         "10",
         "Tunjuelito",
         "Atropello",
         "Sin informacion",
         "No aplica",
         "Con Heridos",
         "Con Heridos",
         "DIAGONAL 51 S- KR 55 A 02"
        ],
        [
         "270420",
         "10603520",
         "-74.12544283533",
         "4.56405061866",
         "CL 51 S- KR 13 A 02",
         "2024-03-26 00:00:00",
         "2024",
         "Marzo",
         "26",
         "martes",
         "23",
         "4",
         "Tunjuelito",
         "Choque",
         "Vehículo",
         "No aplica",
         "Con Heridos",
         "Con Heridos",
         "CALLE 51 S- KR 13 A 02"
        ],
        [
         "170235",
         "10507766",
         "-74.031957106",
         "4.74303659200001",
         "KR 9-CL 165 10",
         "2020-01-08 00:00:00",
         "2020",
         "Enero",
         "8",
         "miércoles",
         "23",
         "26",
         "Usaquén",
         "Choque",
         "Vehículo",
         "No aplica",
         "Solo Daños",
         "Solo Daños",
         "CARRERA 9-CL 165 10"
        ]
       ],
       "shape": {
        "columns": 18,
        "rows": 10
       }
      },
      "text/html": [
       "<div>\n",
       "<style scoped>\n",
       "    .dataframe tbody tr th:only-of-type {\n",
       "        vertical-align: middle;\n",
       "    }\n",
       "\n",
       "    .dataframe tbody tr th {\n",
       "        vertical-align: top;\n",
       "    }\n",
       "\n",
       "    .dataframe thead th {\n",
       "        text-align: right;\n",
       "    }\n",
       "</style>\n",
       "<table border=\"1\" class=\"dataframe\">\n",
       "  <thead>\n",
       "    <tr style=\"text-align: right;\">\n",
       "      <th></th>\n",
       "      <th>Codigo_Accidente</th>\n",
       "      <th>Longitud</th>\n",
       "      <th>Latitud</th>\n",
       "      <th>Direccion</th>\n",
       "      <th>Fecha_Accidente</th>\n",
       "      <th>Año_Accidente</th>\n",
       "      <th>Mes_Accidente</th>\n",
       "      <th>Día_Accidente</th>\n",
       "      <th>Día_Semana_Accidente</th>\n",
       "      <th>Hora_Accidente</th>\n",
       "      <th>Minuto_Accidente</th>\n",
       "      <th>Localidad</th>\n",
       "      <th>Clase_Accidente</th>\n",
       "      <th>Elemento_Choque</th>\n",
       "      <th>Tipo_Objeto_Fijo</th>\n",
       "      <th>Gravedad_Indicador_Tradicional</th>\n",
       "      <th>Gravedad_indicador_30d</th>\n",
       "      <th>Direccion_normalizada</th>\n",
       "    </tr>\n",
       "  </thead>\n",
       "  <tbody>\n",
       "    <tr>\n",
       "      <th>194251</th>\n",
       "      <td>10525355</td>\n",
       "      <td>-74.031330</td>\n",
       "      <td>4.696779</td>\n",
       "      <td>KR 7-CL 120 02</td>\n",
       "      <td>2020-10-28</td>\n",
       "      <td>2020</td>\n",
       "      <td>Octubre</td>\n",
       "      <td>28</td>\n",
       "      <td>miércoles</td>\n",
       "      <td>12</td>\n",
       "      <td>27</td>\n",
       "      <td>Usaquén</td>\n",
       "      <td>Choque</td>\n",
       "      <td>Vehículo</td>\n",
       "      <td>No aplica</td>\n",
       "      <td>Solo Daños</td>\n",
       "      <td>Solo Daños</td>\n",
       "      <td>CARRERA 7-CL 120 02</td>\n",
       "    </tr>\n",
       "    <tr>\n",
       "      <th>192616</th>\n",
       "      <td>10523270</td>\n",
       "      <td>-74.106671</td>\n",
       "      <td>4.671269</td>\n",
       "      <td>AV AVENIDA BOYACA-CL 53 02</td>\n",
       "      <td>2020-10-08</td>\n",
       "      <td>2020</td>\n",
       "      <td>Octubre</td>\n",
       "      <td>8</td>\n",
       "      <td>jueves</td>\n",
       "      <td>13</td>\n",
       "      <td>0</td>\n",
       "      <td>Engativá</td>\n",
       "      <td>Choque</td>\n",
       "      <td>Vehículo</td>\n",
       "      <td>No aplica</td>\n",
       "      <td>Solo Daños</td>\n",
       "      <td>Solo Daños</td>\n",
       "      <td>AVENIDA AVENIDA BOYACA-CL 53 02</td>\n",
       "    </tr>\n",
       "    <tr>\n",
       "      <th>213589</th>\n",
       "      <td>10550123</td>\n",
       "      <td>-74.198679</td>\n",
       "      <td>4.629903</td>\n",
       "      <td>KR 93 D D - CL 69  S 40</td>\n",
       "      <td>2021-09-20</td>\n",
       "      <td>2021</td>\n",
       "      <td>Septiembre</td>\n",
       "      <td>20</td>\n",
       "      <td>lunes</td>\n",
       "      <td>17</td>\n",
       "      <td>40</td>\n",
       "      <td>Bosa</td>\n",
       "      <td>Choque</td>\n",
       "      <td>Vehículo</td>\n",
       "      <td>No aplica</td>\n",
       "      <td>Con Heridos</td>\n",
       "      <td>Con Heridos</td>\n",
       "      <td>CARRERA 93 D D - CL 69</td>\n",
       "    </tr>\n",
       "    <tr>\n",
       "      <th>180718</th>\n",
       "      <td>10512027</td>\n",
       "      <td>-74.052334</td>\n",
       "      <td>4.706670</td>\n",
       "      <td>CL 127-KR 21 02</td>\n",
       "      <td>2020-02-25</td>\n",
       "      <td>2020</td>\n",
       "      <td>Febrero</td>\n",
       "      <td>25</td>\n",
       "      <td>martes</td>\n",
       "      <td>14</td>\n",
       "      <td>5</td>\n",
       "      <td>Usaquén</td>\n",
       "      <td>Choque</td>\n",
       "      <td>Vehículo</td>\n",
       "      <td>No aplica</td>\n",
       "      <td>Solo Daños</td>\n",
       "      <td>Solo Daños</td>\n",
       "      <td>CALLE 127-KR 21 02</td>\n",
       "    </tr>\n",
       "    <tr>\n",
       "      <th>198802</th>\n",
       "      <td>10531567</td>\n",
       "      <td>-74.094825</td>\n",
       "      <td>4.688890</td>\n",
       "      <td>CL 73 - KR 72 BIS 02</td>\n",
       "      <td>2021-01-05</td>\n",
       "      <td>2021</td>\n",
       "      <td>Enero</td>\n",
       "      <td>5</td>\n",
       "      <td>martes</td>\n",
       "      <td>18</td>\n",
       "      <td>10</td>\n",
       "      <td>Engativá</td>\n",
       "      <td>Choque</td>\n",
       "      <td>Vehículo</td>\n",
       "      <td>No aplica</td>\n",
       "      <td>Con Heridos</td>\n",
       "      <td>Con Heridos</td>\n",
       "      <td>CALLE 73 - KR 72 02</td>\n",
       "    </tr>\n",
       "    <tr>\n",
       "      <th>267145</th>\n",
       "      <td>10573752</td>\n",
       "      <td>-74.094000</td>\n",
       "      <td>4.710000</td>\n",
       "      <td>CL 90  - KR 85   02</td>\n",
       "      <td>2022-06-14</td>\n",
       "      <td>2022</td>\n",
       "      <td>Junio</td>\n",
       "      <td>14</td>\n",
       "      <td>martes</td>\n",
       "      <td>12</td>\n",
       "      <td>0</td>\n",
       "      <td>Engativá</td>\n",
       "      <td>Choque</td>\n",
       "      <td>Vehículo</td>\n",
       "      <td>No aplica</td>\n",
       "      <td>Solo Daños</td>\n",
       "      <td>Solo Daños</td>\n",
       "      <td>CALLE 90 - KR 85 02</td>\n",
       "    </tr>\n",
       "    <tr>\n",
       "      <th>169983</th>\n",
       "      <td>10510137</td>\n",
       "      <td>-74.168948</td>\n",
       "      <td>4.595838</td>\n",
       "      <td>AV AVENIDA DEL SUR-KR 73I 55</td>\n",
       "      <td>2020-02-04</td>\n",
       "      <td>2020</td>\n",
       "      <td>Febrero</td>\n",
       "      <td>4</td>\n",
       "      <td>martes</td>\n",
       "      <td>8</td>\n",
       "      <td>10</td>\n",
       "      <td>Bosa</td>\n",
       "      <td>Choque</td>\n",
       "      <td>Vehículo</td>\n",
       "      <td>No aplica</td>\n",
       "      <td>Solo Daños</td>\n",
       "      <td>Solo Daños</td>\n",
       "      <td>AVENIDA AVENIDA DEL SUR-KR 73I 55</td>\n",
       "    </tr>\n",
       "    <tr>\n",
       "      <th>272962</th>\n",
       "      <td>10589479</td>\n",
       "      <td>-74.144560</td>\n",
       "      <td>4.590221</td>\n",
       "      <td>DG 51 S- KR 55 A 02</td>\n",
       "      <td>2023-03-31</td>\n",
       "      <td>2023</td>\n",
       "      <td>Marzo</td>\n",
       "      <td>31</td>\n",
       "      <td>viernes</td>\n",
       "      <td>0</td>\n",
       "      <td>10</td>\n",
       "      <td>Tunjuelito</td>\n",
       "      <td>Atropello</td>\n",
       "      <td>Sin informacion</td>\n",
       "      <td>No aplica</td>\n",
       "      <td>Con Heridos</td>\n",
       "      <td>Con Heridos</td>\n",
       "      <td>DIAGONAL 51 S- KR 55 A 02</td>\n",
       "    </tr>\n",
       "    <tr>\n",
       "      <th>270420</th>\n",
       "      <td>10603520</td>\n",
       "      <td>-74.125443</td>\n",
       "      <td>4.564051</td>\n",
       "      <td>CL 51 S- KR 13 A 02</td>\n",
       "      <td>2024-03-26</td>\n",
       "      <td>2024</td>\n",
       "      <td>Marzo</td>\n",
       "      <td>26</td>\n",
       "      <td>martes</td>\n",
       "      <td>23</td>\n",
       "      <td>4</td>\n",
       "      <td>Tunjuelito</td>\n",
       "      <td>Choque</td>\n",
       "      <td>Vehículo</td>\n",
       "      <td>No aplica</td>\n",
       "      <td>Con Heridos</td>\n",
       "      <td>Con Heridos</td>\n",
       "      <td>CALLE 51 S- KR 13 A 02</td>\n",
       "    </tr>\n",
       "    <tr>\n",
       "      <th>170235</th>\n",
       "      <td>10507766</td>\n",
       "      <td>-74.031957</td>\n",
       "      <td>4.743037</td>\n",
       "      <td>KR 9-CL 165 10</td>\n",
       "      <td>2020-01-08</td>\n",
       "      <td>2020</td>\n",
       "      <td>Enero</td>\n",
       "      <td>8</td>\n",
       "      <td>miércoles</td>\n",
       "      <td>23</td>\n",
       "      <td>26</td>\n",
       "      <td>Usaquén</td>\n",
       "      <td>Choque</td>\n",
       "      <td>Vehículo</td>\n",
       "      <td>No aplica</td>\n",
       "      <td>Solo Daños</td>\n",
       "      <td>Solo Daños</td>\n",
       "      <td>CARRERA 9-CL 165 10</td>\n",
       "    </tr>\n",
       "  </tbody>\n",
       "</table>\n",
       "</div>"
      ],
      "text/plain": [
       "        Codigo_Accidente   Longitud   Latitud                     Direccion  \\\n",
       "194251          10525355 -74.031330  4.696779                KR 7-CL 120 02   \n",
       "192616          10523270 -74.106671  4.671269    AV AVENIDA BOYACA-CL 53 02   \n",
       "213589          10550123 -74.198679  4.629903       KR 93 D D - CL 69  S 40   \n",
       "180718          10512027 -74.052334  4.706670               CL 127-KR 21 02   \n",
       "198802          10531567 -74.094825  4.688890          CL 73 - KR 72 BIS 02   \n",
       "267145          10573752 -74.094000  4.710000           CL 90  - KR 85   02   \n",
       "169983          10510137 -74.168948  4.595838  AV AVENIDA DEL SUR-KR 73I 55   \n",
       "272962          10589479 -74.144560  4.590221           DG 51 S- KR 55 A 02   \n",
       "270420          10603520 -74.125443  4.564051           CL 51 S- KR 13 A 02   \n",
       "170235          10507766 -74.031957  4.743037                KR 9-CL 165 10   \n",
       "\n",
       "       Fecha_Accidente  Año_Accidente Mes_Accidente  Día_Accidente  \\\n",
       "194251      2020-10-28           2020       Octubre             28   \n",
       "192616      2020-10-08           2020       Octubre              8   \n",
       "213589      2021-09-20           2021    Septiembre             20   \n",
       "180718      2020-02-25           2020       Febrero             25   \n",
       "198802      2021-01-05           2021         Enero              5   \n",
       "267145      2022-06-14           2022         Junio             14   \n",
       "169983      2020-02-04           2020       Febrero              4   \n",
       "272962      2023-03-31           2023         Marzo             31   \n",
       "270420      2024-03-26           2024         Marzo             26   \n",
       "170235      2020-01-08           2020         Enero              8   \n",
       "\n",
       "       Día_Semana_Accidente  Hora_Accidente  Minuto_Accidente   Localidad  \\\n",
       "194251            miércoles              12                27     Usaquén   \n",
       "192616               jueves              13                 0    Engativá   \n",
       "213589                lunes              17                40        Bosa   \n",
       "180718               martes              14                 5     Usaquén   \n",
       "198802               martes              18                10    Engativá   \n",
       "267145               martes              12                 0    Engativá   \n",
       "169983               martes               8                10        Bosa   \n",
       "272962              viernes               0                10  Tunjuelito   \n",
       "270420               martes              23                 4  Tunjuelito   \n",
       "170235            miércoles              23                26     Usaquén   \n",
       "\n",
       "       Clase_Accidente  Elemento_Choque Tipo_Objeto_Fijo  \\\n",
       "194251          Choque         Vehículo        No aplica   \n",
       "192616          Choque         Vehículo        No aplica   \n",
       "213589          Choque         Vehículo        No aplica   \n",
       "180718          Choque         Vehículo        No aplica   \n",
       "198802          Choque         Vehículo        No aplica   \n",
       "267145          Choque         Vehículo        No aplica   \n",
       "169983          Choque         Vehículo        No aplica   \n",
       "272962       Atropello  Sin informacion        No aplica   \n",
       "270420          Choque         Vehículo        No aplica   \n",
       "170235          Choque         Vehículo        No aplica   \n",
       "\n",
       "       Gravedad_Indicador_Tradicional Gravedad_indicador_30d  \\\n",
       "194251                     Solo Daños             Solo Daños   \n",
       "192616                     Solo Daños             Solo Daños   \n",
       "213589                    Con Heridos            Con Heridos   \n",
       "180718                     Solo Daños             Solo Daños   \n",
       "198802                    Con Heridos            Con Heridos   \n",
       "267145                     Solo Daños             Solo Daños   \n",
       "169983                     Solo Daños             Solo Daños   \n",
       "272962                    Con Heridos            Con Heridos   \n",
       "270420                    Con Heridos            Con Heridos   \n",
       "170235                     Solo Daños             Solo Daños   \n",
       "\n",
       "                    Direccion_normalizada  \n",
       "194251                CARRERA 7-CL 120 02  \n",
       "192616    AVENIDA AVENIDA BOYACA-CL 53 02  \n",
       "213589             CARRERA 93 D D - CL 69  \n",
       "180718                 CALLE 127-KR 21 02  \n",
       "198802                CALLE 73 - KR 72 02  \n",
       "267145                CALLE 90 - KR 85 02  \n",
       "169983  AVENIDA AVENIDA DEL SUR-KR 73I 55  \n",
       "272962          DIAGONAL 51 S- KR 55 A 02  \n",
       "270420             CALLE 51 S- KR 13 A 02  \n",
       "170235                CARRERA 9-CL 165 10  "
      ]
     },
     "execution_count": 23,
     "metadata": {},
     "output_type": "execute_result"
    }
   ],
   "source": [
    "df_siniestros.sample(10)"
   ]
  },
  {
   "cell_type": "code",
   "execution_count": null,
   "id": "f5559d67",
   "metadata": {},
   "outputs": [],
   "source": []
  },
  {
   "cell_type": "code",
   "execution_count": null,
   "id": "cb73d967",
   "metadata": {},
   "outputs": [],
   "source": []
  }
 ],
 "metadata": {
  "kernelspec": {
   "display_name": "Python 3",
   "language": "python",
   "name": "python3"
  },
  "language_info": {
   "codemirror_mode": {
    "name": "ipython",
    "version": 3
   },
   "file_extension": ".py",
   "mimetype": "text/x-python",
   "name": "python",
   "nbconvert_exporter": "python",
   "pygments_lexer": "ipython3",
   "version": "3.13.7"
  }
 },
 "nbformat": 4,
 "nbformat_minor": 5
}
