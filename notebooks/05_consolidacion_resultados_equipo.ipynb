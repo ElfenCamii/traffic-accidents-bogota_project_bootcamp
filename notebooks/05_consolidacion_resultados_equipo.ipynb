{
 "cells": [
  {
   "cell_type": "code",
   "execution_count": 26,
   "id": "a29d4144",
   "metadata": {},
   "outputs": [],
   "source": [
    "import pandas as pd\n",
    "from pathlib import Path\n",
    "\n",
    "ruta_procesados = Path('../data/processed/')\n",
    "archivo_andres = ruta_procesados / '_Normalizacion_Base_Siniestros_.xlsx'\n",
    "archivo_camiilo = ruta_procesados / 'base_anuario_de_siniestralidad_normalizado.xlsx'\n"
   ]
  },
  {
   "cell_type": "code",
   "execution_count": 27,
   "id": "fc17e755",
   "metadata": {},
   "outputs": [
    {
     "name": "stdout",
     "output_type": "stream",
     "text": [
      "Verificando archivos...\n",
      "Archivo de Andrés existe: True\n",
      "Tu archivo existe: True\n"
     ]
    }
   ],
   "source": [
    "###\n",
    "# 1. Verificar si los archivos existen\n",
    "###\n",
    "print(\"Verificando archivos...\")\n",
    "print(f\"Archivo de Andrés existe: {archivo_andres.exists()}\")\n",
    "print(f\"Tu archivo existe: {archivo_camiilo.exists()}\")"
   ]
  },
  {
   "cell_type": "code",
   "execution_count": 28,
   "id": "5c41d0db",
   "metadata": {},
   "outputs": [],
   "source": [
    "###\n",
    "# 2. Cargar y consolidar los archivos (Función)\n",
    "###\n",
    "def consolidar_excels(archivo1, archivo2, archivo_salida='../data/processed/base_anuario_de_siniestralidad_consolidado_final.xlsx'):\n",
    "    \"\"\"\n",
    "    Consolida dos archivos de Excel, poniendo primero todas las hojas del primero\n",
    "    y luego todas las hojas del segundo\n",
    "    \"\"\"\n",
    "    \n",
    "    # Diccionario para guardar todos los DataFrames\n",
    "    todos_dataframes = {}\n",
    "    \n",
    "    # Cargar hojas del archivo de Andrés\n",
    "    print(\"\\n  Cargando hojas de Andrés...\")    \n",
    "    try:\n",
    "        andres_sheets = pd.read_excel(archivo1, sheet_name=None)\n",
    "        for sheet_name, df in andres_sheets.items():\n",
    "            todos_dataframes[sheet_name] = df\n",
    "            print(f\"  Cargada: {sheet_name}\")\n",
    "    except Exception as e:\n",
    "        print(f\"  Error cargando archivo de Andrés: {e}\")\n",
    "        return\n",
    "    \n",
    "    # Cargar hojas del archivo de Camiilo\n",
    "    print(\"\\n  Cargando tus hojas...\")\n",
    "    try:\n",
    "        tus_sheets = pd.read_excel(archivo2, sheet_name=None)\n",
    "        for sheet_name, df in tus_sheets.items():\n",
    "            todos_dataframes[sheet_name] = df\n",
    "            print(f\"  Cargada: {sheet_name}\")\n",
    "    except Exception as e:\n",
    "        print(f\"  Error cargando tu archivo: {e}\")\n",
    "        return\n",
    "    \n",
    "    # Guardar el archivo consolidado\n",
    "    print(f\"\\n  Guardando archivo consolidado...\")\n",
    "    try:\n",
    "        with pd.ExcelWriter(archivo_salida, engine='openpyxl') as writer:\n",
    "            for sheet_name, df in todos_dataframes.items():\n",
    "                df.to_excel(writer, sheet_name=sheet_name, index=False)\n",
    "                print(f\"  Guardada hoja: {sheet_name}\")\n",
    "        \n",
    "        print(f\"\\n  ¡Consolidación completada!\")\n",
    "        print(f\"  Total de hojas: {len(todos_dataframes)}\")\n",
    "        print(f\"  Archivo guardado como: {archivo_salida}\")\n",
    "        \n",
    "    except Exception as e:\n",
    "        print(f\"  Error guardando archivo consolidado: {e}\")"
   ]
  },
  {
   "cell_type": "code",
   "execution_count": 29,
   "id": "761a472d",
   "metadata": {},
   "outputs": [
    {
     "name": "stdout",
     "output_type": "stream",
     "text": [
      "🚀 Iniciando consolidación de archivos...\n",
      "\n",
      "  Cargando hojas de Andrés...\n",
      "  Cargada: Factores_Riesgo\n",
      "  Cargada: Tipo_Transporte\n",
      "  Cargada: _siniestros_Normalizada\n",
      "\n",
      "  Cargando tus hojas...\n",
      "  Cargada: Vehiculos\n",
      "  Cargada: Actor_Vial\n",
      "\n",
      "  Guardando archivo consolidado...\n",
      "  Guardada hoja: Factores_Riesgo\n",
      "  Guardada hoja: Tipo_Transporte\n",
      "  Guardada hoja: _siniestros_Normalizada\n",
      "  Guardada hoja: Vehiculos\n",
      "  Guardada hoja: Actor_Vial\n",
      "\n",
      "  ¡Consolidación completada!\n",
      "  Total de hojas: 5\n",
      "  Archivo guardado como: ../data/processed/base_anuario_de_siniestralidad_consolidado_final.xlsx\n"
     ]
    }
   ],
   "source": [
    "###\n",
    "# 2. Cargar y consolidar los archivos (Función)\n",
    "###\n",
    "print(\"🚀 Iniciando consolidación de archivos...\")\n",
    "consolidar_excels(archivo_andres, archivo_camiilo)"
   ]
  },
  {
   "cell_type": "code",
   "execution_count": 30,
   "id": "d44d84ce",
   "metadata": {},
   "outputs": [
    {
     "name": "stdout",
     "output_type": "stream",
     "text": [
      "Hojas disponibles en el archivo:\n",
      "   1. Factores_Riesgo\n",
      "   2. Tipo_Transporte\n",
      "   3. _siniestros_Normalizada\n",
      "   4. Vehiculos\n",
      "   5. Actor_Vial\n"
     ]
    }
   ],
   "source": [
    "###\n",
    "# 3. Ver todas las hojas\n",
    "###\n",
    "excel_path = '../data/processed/base_anuario_de_siniestralidad_consolidado_final.xlsx'\n",
    "\n",
    "print('Hojas disponibles en el archivo:')\n",
    "hojas = pd.ExcelFile(excel_path).sheet_names\n",
    "for i, hoja in enumerate(hojas):\n",
    "    print(f\"   {i+1}. {hoja}\")"
   ]
  },
  {
   "cell_type": "code",
   "execution_count": 31,
   "id": "d5b03435",
   "metadata": {},
   "outputs": [
    {
     "name": "stdout",
     "output_type": "stream",
     "text": [
      "\n",
      "_siniestros_Normalizada: ['Codigo_Accidente', 'Longitud', 'Latitud', 'Direccion', 'Fecha_Accidente', 'Año_Accidente', 'Mes_Accidente', 'Día_Accidente', 'Día_Semana_Accidente', 'Hora_Accidente', 'Minuto_Accidente', 'Localidad', 'Clase_Accidente', 'Elemento_Choque', 'Tipo_Objeto_Fijo', 'Gravedad_Indicador_Tradicional', 'Gravedad_indicador_30d', 'direccion_normalizada']\n",
      "\n",
      "Vehiculos: ['Codigo_Accidente', 'Clase', 'Servicio', 'Modalidad', 'Vehiculo_Viajaba_Clasificado', 'Tipo_SITP']\n",
      "\n",
      "Actor_Vial: ['Codigo_Accidentado', 'Codigo_Accidente', 'Edad', 'Sexo', 'Gravedad_Indicador_Tradicional', 'Muerte_Posterior', 'Gravedad_Indicador_30d', 'Condicion', 'Condicion_Especifica', 'Validación', 'Rango_Edades']\n"
     ]
    }
   ],
   "source": [
    "###\n",
    "# 4. Ver columnas de interes de las hojas principales\n",
    "###\n",
    "excel_path = '../data/processed/base_anuario_de_siniestralidad_consolidado_final.xlsx'\n",
    "\n",
    "hojas_interes = ['_siniestros_Normalizada', 'Vehiculos', 'Actor_Vial']\n",
    "\n",
    "for hoja in hojas_interes:\n",
    "    df = pd.read_excel(excel_path, sheet_name=hoja, nrows=0)  # Solo lee encabezados\n",
    "    print(f\"\\n{hoja}: {list(df.columns)}\")"
   ]
  },
  {
   "cell_type": "code",
   "execution_count": 32,
   "id": "deadff21",
   "metadata": {},
   "outputs": [
    {
     "name": "stdout",
     "output_type": "stream",
     "text": [
      "Codigos unicos en _siniestros_Normalizada: 105094\n",
      "Registros en Vehiculos antes del filtro: 523168\n",
      "Registros en Actor_Vial antes del filtro: 608155\n",
      "Registros en Vehiculos despues del filtro: 194602\n",
      "Registros en Actor_Vial despues del filtro: 233885\n",
      "Filtro completado\n"
     ]
    }
   ],
   "source": [
    "###\n",
    "# 5. filtrado de Vehiculos y Actor_vial\n",
    "###\n",
    "# Leer las hojas de interes\n",
    "df_siniestros = pd.read_excel(excel_path, sheet_name='_siniestros_Normalizada')\n",
    "df_vehiculos = pd.read_excel(excel_path, sheet_name='Vehiculos')\n",
    "df_actor_vial = pd.read_excel(excel_path, sheet_name='Actor_Vial')\n",
    "\n",
    "# Obtener los codigos de accidente unicos de la hoja siniestros\n",
    "codigos_validos = df_siniestros['Codigo_Accidente'].unique()\n",
    "\n",
    "print('Codigos unicos en _siniestros_Normalizada:', len(codigos_validos))\n",
    "print('Registros en Vehiculos antes del filtro:', len(df_vehiculos))\n",
    "print('Registros en Actor_Vial antes del filtro:', len(df_actor_vial))\n",
    "\n",
    "# Aplicar filtro a Vehiculos\n",
    "df_vehiculos_filtrado = df_vehiculos[df_vehiculos['Codigo_Accidente'].isin(codigos_validos)]\n",
    "\n",
    "# Aplicar filtro a Actor_Vial\n",
    "df_actor_vial_filtrado = df_actor_vial[df_actor_vial['Codigo_Accidente'].isin(codigos_validos)]\n",
    "\n",
    "print('Registros en Vehiculos despues del filtro:', len(df_vehiculos_filtrado))\n",
    "print('Registros en Actor_Vial despues del filtro:', len(df_actor_vial_filtrado))\n",
    "\n",
    "print('Filtro completado')"
   ]
  },
  {
   "cell_type": "code",
   "execution_count": 33,
   "id": "edda0074",
   "metadata": {},
   "outputs": [
    {
     "name": "stdout",
     "output_type": "stream",
     "text": [
      "Procesando filtros...\n",
      "Registros en Vehiculos antes: 523168\n",
      "Registros en Actor_Vial antes: 608155\n",
      "Registros en Vehiculos despues: 194602\n",
      "Registros en Actor_Vial despues: 233885\n",
      "Guardada hoja: Factores_Riesgo\n",
      "Guardada hoja: Tipo_Transporte\n",
      "Guardada hoja: _siniestros_Normalizada\n",
      "Guardada hoja: Vehiculos\n",
      "Guardada hoja: Actor_Vial\n",
      "Proceso completado\n",
      "Archivo guardado en: ../data/processed/base_anuario_de_siniestralidad_filtrado.xlsx\n"
     ]
    }
   ],
   "source": [
    "###\n",
    "# 6. Creación y exportación del documento con las nuevas hojas\n",
    "###\n",
    "output_path = '../data/processed/base_anuario_de_siniestralidad_filtrado.xlsx'\n",
    "\n",
    "# Leer todas las hojas del archivo original\n",
    "todas_hojas = pd.read_excel(excel_path, sheet_name=None)\n",
    "\n",
    "# Leer las hojas especificas que vamos a filtrar\n",
    "df_siniestros = todas_hojas['_siniestros_Normalizada']\n",
    "df_vehiculos = todas_hojas['Vehiculos']\n",
    "df_actor_vial = todas_hojas['Actor_Vial']\n",
    "\n",
    "# Obtener los codigos validos\n",
    "codigos_validos = df_siniestros['Codigo_Accidente'].unique()\n",
    "\n",
    "print('Procesando filtros...')\n",
    "print('Registros en Vehiculos antes:', len(df_vehiculos))\n",
    "print('Registros en Actor_Vial antes:', len(df_actor_vial))\n",
    "\n",
    "# Aplicar filtros\n",
    "df_vehiculos_filtrado = df_vehiculos[df_vehiculos['Codigo_Accidente'].isin(codigos_validos)]\n",
    "df_actor_vial_filtrado = df_actor_vial[df_actor_vial['Codigo_Accidente'].isin(codigos_validos)]\n",
    "\n",
    "print('Registros en Vehiculos despues:', len(df_vehiculos_filtrado))\n",
    "print('Registros en Actor_Vial despues:', len(df_actor_vial_filtrado))\n",
    "\n",
    "# Crear nuevo diccionario con todas las hojas, reemplazando las dos filtradas\n",
    "nuevas_hojas = {}\n",
    "for nombre_hoja, df in todas_hojas.items():\n",
    "    if nombre_hoja == 'Vehiculos':\n",
    "        nuevas_hojas[nombre_hoja] = df_vehiculos_filtrado\n",
    "    elif nombre_hoja == 'Actor_Vial':\n",
    "        nuevas_hojas[nombre_hoja] = df_actor_vial_filtrado\n",
    "    else:\n",
    "        nuevas_hojas[nombre_hoja] = df  # Mantener las otras hojas sin cambios\n",
    "\n",
    "# Guardar el nuevo archivo Excel\n",
    "with pd.ExcelWriter(output_path, engine='openpyxl') as writer:\n",
    "    for nombre_hoja, df in nuevas_hojas.items():\n",
    "        df.to_excel(writer, sheet_name=nombre_hoja, index=False)\n",
    "        print(f'Guardada hoja: {nombre_hoja}')\n",
    "\n",
    "print('Proceso completado')\n",
    "print(f'Archivo guardado en: {output_path}')"
   ]
  }
 ],
 "metadata": {
  "kernelspec": {
   "display_name": "Python 3",
   "language": "python",
   "name": "python3"
  },
  "language_info": {
   "codemirror_mode": {
    "name": "ipython",
    "version": 3
   },
   "file_extension": ".py",
   "mimetype": "text/x-python",
   "name": "python",
   "nbconvert_exporter": "python",
   "pygments_lexer": "ipython3",
   "version": "3.13.7"
  }
 },
 "nbformat": 4,
 "nbformat_minor": 5
}
