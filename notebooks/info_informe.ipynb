{
 "cells": [
  {
   "cell_type": "markdown",
   "id": "ee3b7abe",
   "metadata": {},
   "source": [
    "## Hoja Vehiculos\n",
    "\n",
    "Modalidad espacios vacios por No aplica\n",
    "Tipo_SITP espacios vacios por No aplica\n",
    "Clase espacios vacios por Sin información \n",
    "\n",
    "Vehiculo_Viajaba_Clasificado = (ajustar nombre) contenido a primera en mayuscula\n",
    "Tipo_SITP = contenido a primera en mayuscula\n",
    "\n",
    "## Hoja Actor_vial\n",
    "\n",
    "Sexo = contenido a primera en mayuscula\n",
    "Gravedad_Indicador_Tradicional = contenido a primera en mayuscula\n",
    "Gravedad_Indicador_30d = contenido a primera en mayuscula\n",
    "Condicion = contenido a primera en mayuscula\n",
    "Muerte_Posterior = Cambiar los S por si y los N por No y vacios por No \n",
    "\n",
    "## Hoja Siniestros \n",
    "\n",
    "Tipo_Objeto_Fijo = contenido a primera en mayuscula\n",
    "Localidad = contenido a primera en mayuscula\n",
    "Dia_Semana_Acc = contenido a primera en mayuscula"
   ]
  },
  {
   "cell_type": "markdown",
   "id": "bf2ab262",
   "metadata": {},
   "source": [
    "# 6. Eliminar columnas sin información relevante\n",
    "\n",
    "Se mantiene \"modalidad\" debido a que hacen parte de la clasificación de los:\n",
    "- vehiculos de ruta \n",
    "- (tpi): trasporte publico individual \n",
    "- (tpp): trasporte publico de pasajeros \n",
    "\n",
    "Se mantiene la Columna \"Tipo_SITP\" porque especifica el tipo de articulado al que corresponde\n",
    "\n",
    "Todo esto a pesar de que salia que tenian un porcentaje mayor al 80% de valores nulos"
   ]
  },
  {
   "cell_type": "markdown",
   "id": "e534e6fd",
   "metadata": {},
   "source": [
    "# 8. Eliminación de columnas repetidas en otras hojas\n",
    "Columna de \"Formulario\", \"Fecha_Acc\", \"AA_Acc\" y \"Codigo_Vehiculo\" se eliminan apesar de pasar los filtros de valores nulos y únicos porque ya estan ubicadas en la hoja de siniestros y otras como \"Codigo_V\" Porque no aportan info importante para el tratamiento y analisis de datos"
   ]
  },
  {
   "cell_type": "markdown",
   "id": "f0fb7f3f",
   "metadata": {},
   "source": [
    "Se saco un fitro con la grafica de boxplot para edad donde segun el resultado se puede llegar discriminar siertas edades antes de o creando una nueva columna para el rango de edades "
   ]
  }
 ],
 "metadata": {
  "language_info": {
   "name": "python"
  }
 },
 "nbformat": 4,
 "nbformat_minor": 5
}
